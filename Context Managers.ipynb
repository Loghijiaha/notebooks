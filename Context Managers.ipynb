{
 "cells": [
  {
   "cell_type": "code",
   "execution_count": 1,
   "metadata": {},
   "outputs": [],
   "source": [
    "## Taking care of two resources simultaneously\n",
    "\n",
    "import sqlite3\n",
    "import tempfile\n",
    "import contextlib\n",
    "from os.path import isfile"
   ]
  },
  {
   "cell_type": "code",
   "execution_count": 2,
   "metadata": {},
   "outputs": [],
   "source": [
    "@contextlib.contextmanager\n",
    "def create_temp_db():\n",
    "    with tempfile.NamedTemporaryFile() as temp_db:\n",
    "        with sqlite3.connect(temp_db.name) as conn:\n",
    "            yield (temp_db, conn)"
   ]
  },
  {
   "cell_type": "code",
   "execution_count": 3,
   "metadata": {},
   "outputs": [
    {
     "name": "stdout",
     "output_type": "stream",
     "text": [
      "/tmp/tmpxgu8wuij\n",
      "True\n",
      "<sqlite3.Connection object at 0x7f8ba57b2570>\n"
     ]
    }
   ],
   "source": [
    "with create_temp_db() as (db_file, db_conn):\n",
    "    print(db_file.name)\n",
    "    print(isfile(db_file.name))\n",
    "    print(db_conn)"
   ]
  },
  {
   "cell_type": "code",
   "execution_count": 5,
   "metadata": {},
   "outputs": [
    {
     "name": "stdout",
     "output_type": "stream",
     "text": [
      "False\n"
     ]
    }
   ],
   "source": [
    "print(isfile(db_file.name))"
   ]
  }
 ],
 "metadata": {
  "kernelspec": {
   "display_name": "Python 3",
   "language": "python",
   "name": "python3"
  },
  "language_info": {
   "codemirror_mode": {
    "name": "ipython",
    "version": 3
   },
   "file_extension": ".py",
   "mimetype": "text/x-python",
   "name": "python",
   "nbconvert_exporter": "python",
   "pygments_lexer": "ipython3",
   "version": "3.7.3"
  }
 },
 "nbformat": 4,
 "nbformat_minor": 2
}
