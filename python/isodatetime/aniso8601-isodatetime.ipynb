{
 "cells": [
  {
   "cell_type": "markdown",
   "metadata": {},
   "source": [
    "# Comparison between aniso8601 and metomi-isodatetime"
   ]
  },
  {
   "cell_type": "markdown",
   "metadata": {},
   "source": [
    "## Dates and times"
   ]
  },
  {
   "cell_type": "code",
   "execution_count": 1,
   "metadata": {},
   "outputs": [
    {
     "name": "stdout",
     "output_type": "stream",
     "text": [
      "2000-01-01T00:00:00Z\n",
      "1\n"
     ]
    }
   ],
   "source": [
    "import metomi.isodatetime.parsers as parse\n",
    "import metomi.isodatetime.dumpers as dump\n",
    "\n",
    "date_time1 = parse.TimePointParser().parse('2000-01-01T00:00Z')\n",
    "print(date_time1)\n",
    "print(date_time1.month_of_year)"
   ]
  },
  {
   "cell_type": "code",
   "execution_count": 2,
   "metadata": {},
   "outputs": [
    {
     "name": "stdout",
     "output_type": "stream",
     "text": [
      "2000-01-01 00:00:00+00:00\n",
      "1\n"
     ]
    }
   ],
   "source": [
    "import aniso8601\n",
    "date_time2 = aniso8601.parse_datetime('2000-01-01T00:00Z')\n",
    "print(date_time2)\n",
    "print(date_time2.month)"
   ]
  },
  {
   "cell_type": "markdown",
   "metadata": {},
   "source": [
    "## Durations"
   ]
  },
  {
   "cell_type": "code",
   "execution_count": 3,
   "metadata": {},
   "outputs": [
    {
     "name": "stdout",
     "output_type": "stream",
     "text": [
      "(365.0, 10800.0)\n"
     ]
    },
    {
     "data": {
      "text/plain": [
       "2001-01-01T03:00:00Z"
      ]
     },
     "execution_count": 3,
     "metadata": {},
     "output_type": "execute_result"
    }
   ],
   "source": [
    "duration1 = parse.DurationParser().parse('P1YT3H')\n",
    "days_and_seconds = duration1.get_days_and_seconds()\n",
    "print(days_and_seconds)\n",
    "date_time1 + duration1"
   ]
  },
  {
   "cell_type": "code",
   "execution_count": 4,
   "metadata": {},
   "outputs": [
    {
     "name": "stdout",
     "output_type": "stream",
     "text": [
      "365 10800\n"
     ]
    },
    {
     "data": {
      "text/plain": [
       "datetime.datetime(2000, 12, 31, 3, 0, tzinfo=+0:00:00 UTC)"
      ]
     },
     "execution_count": 4,
     "metadata": {},
     "output_type": "execute_result"
    }
   ],
   "source": [
    "duration2 = aniso8601.parse_duration('P1YT3H')\n",
    "print(duration2.days, duration2.seconds)\n",
    "date_time2 + duration2"
   ]
  },
  {
   "cell_type": "markdown",
   "metadata": {},
   "source": [
    "## Recurrences"
   ]
  },
  {
   "cell_type": "code",
   "execution_count": 5,
   "metadata": {},
   "outputs": [
    {
     "data": {
      "text/plain": [
       "2001-01-01T00:00:00Z"
      ]
     },
     "execution_count": 5,
     "metadata": {},
     "output_type": "execute_result"
    }
   ],
   "source": [
    "recurrence1 = parse.TimeRecurrenceParser().parse('R/1999/P1Y')\n",
    "recurrence1.get_next(date_time1)"
   ]
  },
  {
   "cell_type": "code",
   "execution_count": 6,
   "metadata": {},
   "outputs": [
    {
     "name": "stdout",
     "output_type": "stream",
     "text": [
      "2000-12-31\n"
     ]
    }
   ],
   "source": [
    "recurrence2 = aniso8601.parse_repeating_interval('R/1999/P1Y')\n",
    "for recurrence in recurrence2:\n",
    "    if recurrence > date_time2.date():\n",
    "        print(recurrence)\n",
    "        break"
   ]
  },
  {
   "cell_type": "markdown",
   "metadata": {},
   "source": [
    "## Output"
   ]
  },
  {
   "cell_type": "code",
   "execution_count": 7,
   "metadata": {},
   "outputs": [
    {
     "data": {
      "text/plain": [
       "'01/00/2000 00:00:00'"
      ]
     },
     "execution_count": 7,
     "metadata": {},
     "output_type": "execute_result"
    }
   ],
   "source": [
    "dump.TimePointDumper().strftime(date_time1, '%d/%M/%Y %H:%M:%S')"
   ]
  },
  {
   "cell_type": "code",
   "execution_count": 8,
   "metadata": {},
   "outputs": [
    {
     "data": {
      "text/plain": [
       "'01/00/2000 00:00:00'"
      ]
     },
     "execution_count": 8,
     "metadata": {},
     "output_type": "execute_result"
    }
   ],
   "source": [
    "date_time2.strftime('%d/%M/%Y %H:%M:%S')"
   ]
  }
 ],
 "metadata": {
  "kernelspec": {
   "display_name": "kinow-notebooks",
   "language": "python",
   "name": "kinow-notebooks"
  },
  "language_info": {
   "codemirror_mode": {
    "name": "ipython",
    "version": 3
   },
   "file_extension": ".py",
   "mimetype": "text/x-python",
   "name": "python",
   "nbconvert_exporter": "python",
   "pygments_lexer": "ipython3",
   "version": "3.7.3"
  }
 },
 "nbformat": 4,
 "nbformat_minor": 4
}
