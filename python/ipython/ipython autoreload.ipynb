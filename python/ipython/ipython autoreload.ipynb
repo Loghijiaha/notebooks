{
 "cells": [
  {
   "cell_type": "markdown",
   "metadata": {},
   "source": [
    "Testing if IPython's `autoreload` plugin is working, after a [comment from reddit](https://www.reddit.com/r/Python/comments/d0j9cz/debugging_jupyterpostgres_autoreload_crashing/)."
   ]
  },
  {
   "cell_type": "code",
   "execution_count": 1,
   "metadata": {},
   "outputs": [],
   "source": [
    "%load_ext autoreload\n",
    "%autoreload 2"
   ]
  },
  {
   "cell_type": "code",
   "execution_count": 2,
   "metadata": {},
   "outputs": [],
   "source": [
    "from test_module import get_column"
   ]
  },
  {
   "cell_type": "code",
   "execution_count": 3,
   "metadata": {},
   "outputs": [
    {
     "name": "stdout",
     "output_type": "stream",
     "text": [
      "id\n"
     ]
    }
   ],
   "source": [
    "c = get_column()\n",
    "print(c)"
   ]
  },
  {
   "cell_type": "markdown",
   "metadata": {},
   "source": [
    "Edit the `test_module.py` and return another value for the column name, then re-run the following column and you should get a different output if `autoreload` is working. (Look at the execution order number next to the cells)"
   ]
  },
  {
   "cell_type": "code",
   "execution_count": 6,
   "metadata": {},
   "outputs": [
    {
     "name": "stdout",
     "output_type": "stream",
     "text": [
      "id2\n"
     ]
    }
   ],
   "source": [
    "c = get_column()\n",
    "print(c)"
   ]
  },
  {
   "cell_type": "code",
   "execution_count": 5,
   "metadata": {},
   "outputs": [
    {
     "name": "stdout",
     "output_type": "stream",
     "text": [
      "aniso8601==7.0.0\n",
      "ansimarkup==1.4.0\n",
      "attrs==19.1.0\n",
      "backcall==0.1.0\n",
      "bleach==3.1.0\n",
      "colorama==0.4.1\n",
      "configparser==3.8.1\n",
      "cylc-flow==8.0a0\n",
      "decorator==4.4.0\n",
      "defusedxml==0.6.0\n",
      "ecdsa==0.13.2\n",
      "entrypoints==0.3\n",
      "fparser==0.0.8\n",
      "future==0.17.1\n",
      "graphene==2.1.8\n",
      "graphql-core==2.2.1\n",
      "graphql-relay==2.0.0\n",
      "importlib-metadata==0.20\n",
      "ipykernel==5.1.2\n",
      "ipython-genutils==0.2.0\n",
      "ipython==7.7.0\n",
      "jedi==0.15.1\n",
      "jinja2==2.10.1\n",
      "jsonschema==3.0.2\n",
      "jupyter-client==5.3.1\n",
      "jupyter-core==4.5.0\n",
      "markupsafe==1.1.1\n",
      "metomi-isodatetime==1!2.0.1\n",
      "mistune==0.8.4\n",
      "more-itertools==7.2.0\n",
      "nbconvert==5.6.0\n",
      "nbformat==4.4.0\n",
      "notebook==6.0.1\n",
      "pandocfilters==1.4.2\n",
      "parso==0.5.1\n",
      "pexpect==4.7.0\n",
      "pickleshare==0.7.5\n",
      "pip==19.2.3\n",
      "pluggy==0.12.0\n",
      "prometheus-client==0.7.1\n",
      "promise==2.2.1\n",
      "prompt-toolkit==2.0.9\n",
      "protobuf==3.9.1\n",
      "psyclone==1.7.0\n",
      "ptyprocess==0.6.0\n",
      "pyasn1==0.4.6\n",
      "pygments==2.4.2\n",
      "pyparsing==2.4.2\n",
      "pyrsistent==0.15.4\n",
      "python-dateutil==2.8.0\n",
      "python-jose==3.0.1\n",
      "pyzmq==18.0.2\n",
      "rsa==4.0\n",
      "rx==1.6.1\n",
      "send2trash==1.5.0\n",
      "setuptools==41.2.0\n",
      "six==1.12.0\n",
      "sqlalchemy==1.3.8\n",
      "terminado==0.8.2\n",
      "testpath==0.4.2\n",
      "tornado==6.0.3\n",
      "traitlets==4.3.2\n",
      "wcwidth==0.1.7\n",
      "webencodings==0.5.1\n",
      "wheel==0.33.6\n",
      "zipp==0.6.0\n"
     ]
    }
   ],
   "source": [
    "import pkg_resources\n",
    "installed_packages = pkg_resources.working_set\n",
    "installed_packages_list = sorted([\"%s==%s\" % (i.key, i.version)\n",
    "     for i in installed_packages])\n",
    "print(\"\\n\".join(installed_packages_list))"
   ]
  }
 ],
 "metadata": {
  "kernelspec": {
   "display_name": "kinow-notebooks",
   "language": "python",
   "name": "kinow-notebooks"
  },
  "language_info": {
   "codemirror_mode": {
    "name": "ipython",
    "version": 3
   },
   "file_extension": ".py",
   "mimetype": "text/x-python",
   "name": "python",
   "nbconvert_exporter": "python",
   "pygments_lexer": "ipython3",
   "version": "3.7.3"
  }
 },
 "nbformat": 4,
 "nbformat_minor": 2
}
