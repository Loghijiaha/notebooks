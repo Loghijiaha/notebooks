{
 "cells": [
  {
   "cell_type": "code",
   "execution_count": 1,
   "metadata": {},
   "outputs": [],
   "source": [
    "from sqlalchemy import (\n",
    "    cast, Column, create_engine, func, INTEGER, NUMERIC, REAL, Table, TEXT,\n",
    "    MetaData)\n",
    "from sqlalchemy.engine.base import Connection\n",
    "from sqlalchemy.sql import and_\n",
    "from sqlalchemy.sql.expression import Select, ColumnClause, Join"
   ]
  },
  {
   "cell_type": "code",
   "execution_count": 2,
   "metadata": {},
   "outputs": [],
   "source": [
    "from contextlib import suppress"
   ]
  },
  {
   "cell_type": "code",
   "execution_count": 3,
   "metadata": {},
   "outputs": [],
   "source": [
    "meta = MetaData()"
   ]
  },
  {
   "cell_type": "markdown",
   "metadata": {},
   "source": [
    "## Creating tables"
   ]
  },
  {
   "cell_type": "code",
   "execution_count": 4,
   "metadata": {},
   "outputs": [],
   "source": [
    "broadcast_events = Table(\n",
    "    'broadcast_events', meta,\n",
    "    Column('time', TEXT),\n",
    "    Column('change', TEXT),\n",
    "    Column('point', TEXT),\n",
    "    Column('namespace', TEXT),\n",
    "    Column('key', TEXT),\n",
    "    Column('value', TEXT)\n",
    ")\n",
    "\n",
    "broadcast_states = Table(\n",
    "    'broadcast_states', meta,\n",
    "    Column('point', TEXT, primary_key=True),\n",
    "    Column('namespace', TEXT, primary_key=True),\n",
    "    Column('key', TEXT, primary_key=True),\n",
    "    Column('value', TEXT)\n",
    ")\n",
    "\n",
    "broadcast_states_checkpoints = Table(\n",
    "    'broadcast_states_checkpoints', meta,\n",
    "    Column('id', INTEGER, primary_key=True),\n",
    "    Column('point', TEXT, primary_key=True),\n",
    "    Column('namespace', TEXT, primary_key=True),\n",
    "    Column('key', TEXT, primary_key=True),\n",
    "    Column('value', TEXT)\n",
    ")\n",
    "\n",
    "inheritance = Table(\n",
    "    'inheritance', meta,\n",
    "    Column('namespace', TEXT, primary_key=True),\n",
    "    Column('inheritance', TEXT)\n",
    ")\n",
    "\n",
    "suite_params = Table(\n",
    "    'suite_params', meta,\n",
    "    Column('key', TEXT, primary_key=True),\n",
    "    Column('value', TEXT)\n",
    ")\n",
    "\n",
    "suite_params_checkpoints = Table(\n",
    "    'suite_params_checkpoints', meta,\n",
    "    Column('id', INTEGER, primary_key=True),\n",
    "    Column('key', TEXT, primary_key=True),\n",
    "    Column('value', TEXT)\n",
    ")\n",
    "\n",
    "suite_template_vars = Table(\n",
    "    'suite_template_vars', meta,\n",
    "    Column('key', TEXT, primary_key=True),\n",
    "    Column('value', TEXT)\n",
    ")\n",
    "\n",
    "task_jobs = Table(\n",
    "    'task_jobs', meta,\n",
    "    Column('cycle', TEXT, primary_key=True),\n",
    "    Column('name', TEXT, primary_key=True),\n",
    "    Column('submit_num', INTEGER, primary_key=True),\n",
    "    Column('is_manual_submit', INTEGER),\n",
    "    Column('try_num', INTEGER),\n",
    "    Column('time_submit', TEXT),\n",
    "    Column('time_submit_exit', TEXT),\n",
    "    Column('submit_status', INTEGER),\n",
    "    Column('time_run', TEXT),\n",
    "    Column('time_run_exit', TEXT),\n",
    "    Column('run_signal', TEXT),\n",
    "    Column('run_status', INTEGER),\n",
    "    Column('user_at_host', TEXT),\n",
    "    Column('batch_sys_name', TEXT),\n",
    "    Column('batch_sys_job_id', TEXT)\n",
    ")\n",
    "\n",
    "task_events = Table(\n",
    "    'task_events', meta,\n",
    "    Column('name', TEXT),\n",
    "    Column('cycle', TEXT),\n",
    "    Column('time', TEXT),\n",
    "    Column('submit_num', INTEGER),\n",
    "    Column('event', TEXT),\n",
    "    Column('message', TEXT)\n",
    ")\n",
    "\n",
    "task_action_timers = Table(\n",
    "    'task_action_timers', meta,\n",
    "    Column('cycle', TEXT, primary_key=True),\n",
    "    Column('name', TEXT, primary_key=True),\n",
    "    Column('ctx_key', TEXT, primary_key=True),\n",
    "    Column('ctx', TEXT),\n",
    "    Column('delays', TEXT),\n",
    "    Column('num', INTEGER),\n",
    "    Column('delay', TEXT),\n",
    "    Column('timeout', TEXT)\n",
    ")\n",
    "\n",
    "checkpoint_id = Table(\n",
    "    'checkpoint_id', meta,\n",
    "    Column('id', INTEGER, primary_key=True),\n",
    "    Column('time', TEXT),\n",
    "    Column('event', TEXT)\n",
    ")\n",
    "\n",
    "task_late_flags = Table(\n",
    "    'task_late_flags', meta,\n",
    "    Column('cycle', TEXT, primary_key=True),\n",
    "    Column('name', TEXT, primary_key=True),\n",
    "    Column('value', INTEGER)\n",
    ")\n",
    "\n",
    "task_outputs = Table(\n",
    "    'task_outputs', meta,\n",
    "    Column('cycle', TEXT, primary_key=True),\n",
    "    Column('name', TEXT, primary_key=True),\n",
    "    Column('outputs', INTEGER)\n",
    ")\n",
    "\n",
    "task_pool = Table(\n",
    "    'task_pool', meta,\n",
    "    Column('cycle', TEXT, primary_key=True),\n",
    "    Column('name', TEXT, primary_key=True),\n",
    "    Column('spawned', INTEGER),\n",
    "    Column('status', TEXT),\n",
    "    Column('is_held', INTEGER)\n",
    ")\n",
    "\n",
    "task_pool_checkpoints = Table(\n",
    "    'task_pool_checkpoints', meta,\n",
    "    Column('id', INTEGER, primary_key=True),\n",
    "    Column('cycle', TEXT, primary_key=True),\n",
    "    Column('name', TEXT, primary_key=True),\n",
    "    Column('spawned', INTEGER),\n",
    "    Column('status', TEXT),\n",
    "    Column('is_held', INTEGER)\n",
    ")\n",
    "\n",
    "task_states = Table(\n",
    "    'task_states', meta,\n",
    "    Column('name', TEXT, primary_key=True),\n",
    "    Column('cycle', TEXT, primary_key=True),\n",
    "    Column('time_created', TEXT),\n",
    "    Column('time_updated', TEXT),\n",
    "    Column('submit_num', INTEGER),\n",
    "    Column('status', TEXT)\n",
    ")\n",
    "\n",
    "task_timeout_timers = Table(\n",
    "    'task_timeout_timers', meta,\n",
    "    Column('cycle', TEXT, primary_key=True),\n",
    "    Column('name', TEXT, primary_key=True),\n",
    "    Column('timeout', REAL)\n",
    ")\n",
    "\n",
    "xtriggers = Table(\n",
    "    'xtriggers', meta,\n",
    "    Column('signature', TEXT, primary_key=True),\n",
    "    Column('results', REAL)\n",
    ")"
   ]
  },
  {
   "cell_type": "markdown",
   "metadata": {},
   "source": [
    "## Some meta operations..."
   ]
  },
  {
   "cell_type": "code",
   "execution_count": 20,
   "metadata": {},
   "outputs": [],
   "source": [
    "xtriggers_table = meta.tables['xtriggers']"
   ]
  },
  {
   "cell_type": "code",
   "execution_count": 21,
   "metadata": {},
   "outputs": [
    {
     "name": "stdout",
     "output_type": "stream",
     "text": [
      "['signature', 'results']\n"
     ]
    }
   ],
   "source": [
    "print([x.name for x in xtriggers_table.columns])"
   ]
  },
  {
   "cell_type": "code",
   "execution_count": 22,
   "metadata": {},
   "outputs": [],
   "source": [
    "signature_column = xtriggers_table.columns['signature']"
   ]
  },
  {
   "cell_type": "markdown",
   "metadata": {},
   "source": [
    "Now create a new `xtriggers_fake` table with just one column copied from the original table..."
   ]
  },
  {
   "cell_type": "code",
   "execution_count": 44,
   "metadata": {},
   "outputs": [
    {
     "data": {
      "text/plain": [
       "Table('xtriggers', MetaData(bind=None), Column('signature', TEXT(), table=<xtriggers>, primary_key=True, nullable=False), schema=None)"
      ]
     },
     "execution_count": 44,
     "metadata": {},
     "output_type": "execute_result"
    }
   ],
   "source": [
    "meta.remove(xtriggers)\n",
    "c = Column(signature_column.name, signature_column.type, primary_key=signature_column.primary_key)\n",
    "fake_xtriggers = Table(xtriggers.name, meta, c)\n",
    "fake_xtriggers\n",
    "# fake_xtriggers.create()"
   ]
  },
  {
   "cell_type": "code",
   "execution_count": 48,
   "metadata": {},
   "outputs": [
    {
     "ename": "AttributeError",
     "evalue": "Neither 'Column' object nor 'Comparator' object has an attribute 'remove'",
     "output_type": "error",
     "traceback": [
      "\u001b[0;31m---------------------------------------------------------------------------\u001b[0m",
      "\u001b[0;31mAttributeError\u001b[0m                            Traceback (most recent call last)",
      "\u001b[0;32m~/Development/python/workspace/notebooks/venv/lib/python3.7/site-packages/sqlalchemy/sql/elements.py\u001b[0m in \u001b[0;36m__getattr__\u001b[0;34m(self, key)\u001b[0m\n\u001b[1;32m    716\u001b[0m         \u001b[0;32mtry\u001b[0m\u001b[0;34m:\u001b[0m\u001b[0;34m\u001b[0m\u001b[0;34m\u001b[0m\u001b[0m\n\u001b[0;32m--> 717\u001b[0;31m             \u001b[0;32mreturn\u001b[0m \u001b[0mgetattr\u001b[0m\u001b[0;34m(\u001b[0m\u001b[0mself\u001b[0m\u001b[0;34m.\u001b[0m\u001b[0mcomparator\u001b[0m\u001b[0;34m,\u001b[0m \u001b[0mkey\u001b[0m\u001b[0;34m)\u001b[0m\u001b[0;34m\u001b[0m\u001b[0;34m\u001b[0m\u001b[0m\n\u001b[0m\u001b[1;32m    718\u001b[0m         \u001b[0;32mexcept\u001b[0m \u001b[0mAttributeError\u001b[0m\u001b[0;34m:\u001b[0m\u001b[0;34m\u001b[0m\u001b[0;34m\u001b[0m\u001b[0m\n",
      "\u001b[0;31mAttributeError\u001b[0m: 'Comparator' object has no attribute 'remove'",
      "\nDuring handling of the above exception, another exception occurred:\n",
      "\u001b[0;31mAttributeError\u001b[0m                            Traceback (most recent call last)",
      "\u001b[0;32m<ipython-input-48-4bb6c2cd43b1>\u001b[0m in \u001b[0;36m<module>\u001b[0;34m\u001b[0m\n\u001b[1;32m      1\u001b[0m \u001b[0mfake_xtriggers\u001b[0m\u001b[0;34m\u001b[0m\u001b[0;34m\u001b[0m\u001b[0m\n\u001b[0;32m----> 2\u001b[0;31m \u001b[0mfake_xtriggers\u001b[0m\u001b[0;34m.\u001b[0m\u001b[0mcolumns\u001b[0m\u001b[0;34m[\u001b[0m\u001b[0;34m'signature'\u001b[0m\u001b[0;34m]\u001b[0m\u001b[0;34m.\u001b[0m\u001b[0mremove\u001b[0m\u001b[0;34m(\u001b[0m\u001b[0;34m)\u001b[0m\u001b[0;34m\u001b[0m\u001b[0;34m\u001b[0m\u001b[0m\n\u001b[0m\u001b[1;32m      3\u001b[0m \u001b[0mfake_xtriggers\u001b[0m\u001b[0;34m\u001b[0m\u001b[0;34m\u001b[0m\u001b[0m\n",
      "\u001b[0;32m~/Development/python/workspace/notebooks/venv/lib/python3.7/site-packages/sqlalchemy/sql/elements.py\u001b[0m in \u001b[0;36m__getattr__\u001b[0;34m(self, key)\u001b[0m\n\u001b[1;32m    719\u001b[0m             raise AttributeError(\n\u001b[1;32m    720\u001b[0m                 \u001b[0;34m\"Neither %r object nor %r object has an attribute %r\"\u001b[0m\u001b[0;34m\u001b[0m\u001b[0;34m\u001b[0m\u001b[0m\n\u001b[0;32m--> 721\u001b[0;31m                 \u001b[0;34m%\u001b[0m \u001b[0;34m(\u001b[0m\u001b[0mtype\u001b[0m\u001b[0;34m(\u001b[0m\u001b[0mself\u001b[0m\u001b[0;34m)\u001b[0m\u001b[0;34m.\u001b[0m\u001b[0m__name__\u001b[0m\u001b[0;34m,\u001b[0m \u001b[0mtype\u001b[0m\u001b[0;34m(\u001b[0m\u001b[0mself\u001b[0m\u001b[0;34m.\u001b[0m\u001b[0mcomparator\u001b[0m\u001b[0;34m)\u001b[0m\u001b[0;34m.\u001b[0m\u001b[0m__name__\u001b[0m\u001b[0;34m,\u001b[0m \u001b[0mkey\u001b[0m\u001b[0;34m)\u001b[0m\u001b[0;34m\u001b[0m\u001b[0;34m\u001b[0m\u001b[0m\n\u001b[0m\u001b[1;32m    722\u001b[0m             )\n\u001b[1;32m    723\u001b[0m \u001b[0;34m\u001b[0m\u001b[0m\n",
      "\u001b[0;31mAttributeError\u001b[0m: Neither 'Column' object nor 'Comparator' object has an attribute 'remove'"
     ]
    }
   ],
   "source": [
    "fake_xtriggers\n",
    "fake_xtriggers.columns['signature'].remove()\n",
    "fake_xtriggers"
   ]
  }
 ],
 "metadata": {
  "kernelspec": {
   "display_name": "kinow-notebooks",
   "language": "python",
   "name": "kinow-notebooks"
  },
  "language_info": {
   "codemirror_mode": {
    "name": "ipython",
    "version": 3
   },
   "file_extension": ".py",
   "mimetype": "text/x-python",
   "name": "python",
   "nbconvert_exporter": "python",
   "pygments_lexer": "ipython3",
   "version": "3.7.3"
  }
 },
 "nbformat": 4,
 "nbformat_minor": 2
}
