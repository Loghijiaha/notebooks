{
 "cells": [
  {
   "cell_type": "code",
   "execution_count": 1,
   "metadata": {},
   "outputs": [],
   "source": [
    "from google.protobuf.descriptor_pb2 import FieldDescriptorProto\n",
    "from importlib import import_module\n",
    "from pprint import pprint"
   ]
  },
  {
   "cell_type": "code",
   "execution_count": 2,
   "metadata": {},
   "outputs": [],
   "source": [
    "proto_module = import_module('ws_messages_pb2')"
   ]
  },
  {
   "cell_type": "markdown",
   "metadata": {},
   "source": [
    "These are the message types"
   ]
  },
  {
   "cell_type": "code",
   "execution_count": 3,
   "metadata": {},
   "outputs": [
    {
     "name": "stdout",
     "output_type": "stream",
     "text": [
      "DEPENDENCIES\n",
      "[]\n",
      "\n",
      "PUBLIC DEPENDENCIES\n",
      "[]\n",
      "\n",
      "EXTENSIONS\n",
      "[]\n",
      "\n",
      "ENUMS\n",
      "[]\n",
      "\n",
      "TYPES\n",
      "{'PbCondition': <google.protobuf.pyext._message.MessageDescriptor object at 0x7f9665b7be10>,\n",
      " 'PbEdge': <google.protobuf.pyext._message.MessageDescriptor object at 0x7f9665b7bef0>,\n",
      " 'PbEdges': <google.protobuf.pyext._message.MessageDescriptor object at 0x7f9665b7beb8>,\n",
      " 'PbEntireWorkflow': <google.protobuf.pyext._message.MessageDescriptor object at 0x7f9665b8d048>,\n",
      " 'PbFamily': <google.protobuf.pyext._message.MessageDescriptor object at 0x7f9665b7bf98>,\n",
      " 'PbFamilyProxy': <google.protobuf.pyext._message.MessageDescriptor object at 0x7f9665b8d0b8>,\n",
      " 'PbJob': <google.protobuf.pyext._message.MessageDescriptor object at 0x7f9665b8d438>,\n",
      " 'PbMeta': <google.protobuf.pyext._message.MessageDescriptor object at 0x7f9665b7bcf8>,\n",
      " 'PbPollTask': <google.protobuf.pyext._message.MessageDescriptor object at 0x7f9665b7bdd8>,\n",
      " 'PbPrerequisite': <google.protobuf.pyext._message.MessageDescriptor object at 0x7f9665b7bda0>,\n",
      " 'PbTask': <google.protobuf.pyext._message.MessageDescriptor object at 0x7f9665b7be80>,\n",
      " 'PbTaskProxy': <google.protobuf.pyext._message.MessageDescriptor object at 0x7f9665b8d208>,\n",
      " 'PbTimeZone': <google.protobuf.pyext._message.MessageDescriptor object at 0x7f9665b7bd30>,\n",
      " 'PbWorkflow': <google.protobuf.pyext._message.MessageDescriptor object at 0x7f9665b8d3c8>}\n"
     ]
    }
   ],
   "source": [
    "# dependencies\n",
    "print(\"DEPENDENCIES\")\n",
    "pprint(list(proto_module.DESCRIPTOR.dependencies))\n",
    "print()\n",
    "\n",
    "# public dependencies\n",
    "print(\"PUBLIC DEPENDENCIES\")\n",
    "pprint(list(proto_module.DESCRIPTOR.public_dependencies))\n",
    "print()\n",
    "\n",
    "# extensions types\n",
    "print(\"EXTENSIONS\")\n",
    "pprint(list(proto_module.DESCRIPTOR.extensions_by_name))\n",
    "print()\n",
    "\n",
    "# enum types\n",
    "print(\"ENUMS\")\n",
    "pprint(list(proto_module.DESCRIPTOR.enum_types_by_name))\n",
    "print()\n",
    "\n",
    "print(\"TYPES\")\n",
    "# message types\n",
    "pprint(dict(proto_module.DESCRIPTOR.message_types_by_name))"
   ]
  },
  {
   "cell_type": "markdown",
   "metadata": {},
   "source": [
    "These are the types available for the properties of messages"
   ]
  },
  {
   "cell_type": "code",
   "execution_count": 4,
   "metadata": {},
   "outputs": [
    {
     "data": {
      "text/plain": [
       "{1: 'double',\n",
       " 2: 'float',\n",
       " 3: 'int64',\n",
       " 4: 'uint64',\n",
       " 5: 'int32',\n",
       " 6: 'fixed64',\n",
       " 7: 'fixed32',\n",
       " 8: 'bool',\n",
       " 9: 'string',\n",
       " 10: 'group',\n",
       " 11: 'message',\n",
       " 12: 'bytes',\n",
       " 13: 'uint32',\n",
       " 14: 'enum',\n",
       " 15: 'sfixed32',\n",
       " 16: 'sfixed64',\n",
       " 17: 'sint32',\n",
       " 18: 'sint64'}"
      ]
     },
     "execution_count": 4,
     "metadata": {},
     "output_type": "execute_result"
    }
   ],
   "source": [
    "{number: text.lower().replace(\"type_\", \"\") for text, number in FieldDescriptorProto.Type.items()}"
   ]
  },
  {
   "cell_type": "markdown",
   "metadata": {},
   "source": [
    "The PBWorkflow type has a map<?, ?> that caused https://github.com/kinow/protobuf-uml-diagram/issues/5"
   ]
  },
  {
   "cell_type": "code",
   "execution_count": 5,
   "metadata": {},
   "outputs": [
    {
     "data": {
      "text/plain": [
       "[('stamp', 9, None),\n",
       " ('id', 9, None),\n",
       " ('name', 9, None),\n",
       " ('status', 9, None),\n",
       " ('host', 9, None),\n",
       " ('port', 5, None),\n",
       " ('owner', 9, None),\n",
       " ('tasks', 9, None),\n",
       " ('families', 9, None),\n",
       " ('edges',\n",
       "  11,\n",
       "  <google.protobuf.pyext._message.MessageDescriptor at 0x7f9665b7beb8>),\n",
       " ('api_version', 5, None),\n",
       " ('cylc_version', 9, None),\n",
       " ('last_updated', 1, None),\n",
       " ('meta',\n",
       "  11,\n",
       "  <google.protobuf.pyext._message.MessageDescriptor at 0x7f9665b7bcf8>),\n",
       " ('newest_runahead_cycle_point', 9, None),\n",
       " ('newest_cycle_point', 9, None),\n",
       " ('oldest_cycle_point', 9, None),\n",
       " ('reloading', 8, None),\n",
       " ('run_mode', 9, None),\n",
       " ('cycling_mode', 9, None),\n",
       " ('state_totals',\n",
       "  11,\n",
       "  <google.protobuf.pyext._message.MessageDescriptor at 0x7f9665b7bc88>),\n",
       " ('workflow_log_dir', 9, None),\n",
       " ('time_zone_info',\n",
       "  11,\n",
       "  <google.protobuf.pyext._message.MessageDescriptor at 0x7f9665b7bd30>),\n",
       " ('tree_depth', 5, None),\n",
       " ('job_log_names', 9, None),\n",
       " ('ns_defn_order', 9, None),\n",
       " ('states', 9, None),\n",
       " ('task_proxies', 9, None),\n",
       " ('family_proxies', 9, None),\n",
       " ('status_msg', 9, None),\n",
       " ('is_held_total', 5, None)]"
      ]
     },
     "execution_count": 5,
     "metadata": {},
     "output_type": "execute_result"
    }
   ],
   "source": [
    "pbworkflow = proto_module.DESCRIPTOR.message_types_by_name['PbWorkflow']\n",
    "\n",
    "[(f.name, f.type, f.message_type) for f in pbworkflow.fields]"
   ]
  },
  {
   "cell_type": "code",
   "execution_count": 6,
   "metadata": {},
   "outputs": [
    {
     "data": {
      "text/plain": [
       "['field number <1> has type <stamp> and type <9>',\n",
       " 'field number <2> has type <id> and type <9>',\n",
       " 'field number <3> has type <name> and type <9>',\n",
       " 'field number <4> has type <status> and type <9>',\n",
       " 'field number <5> has type <host> and type <9>',\n",
       " 'field number <6> has type <port> and type <5>',\n",
       " 'field number <7> has type <owner> and type <9>',\n",
       " 'field number <8> has type <tasks> and type <9>',\n",
       " 'field number <9> has type <families> and type <9>',\n",
       " 'field number <10> has type <edges> and type <11>',\n",
       " 'field number <11> has type <api_version> and type <5>',\n",
       " 'field number <12> has type <cylc_version> and type <9>',\n",
       " 'field number <13> has type <last_updated> and type <1>',\n",
       " 'field number <14> has type <meta> and type <11>',\n",
       " 'field number <15> has type <newest_runahead_cycle_point> and type <9>',\n",
       " 'field number <16> has type <newest_cycle_point> and type <9>',\n",
       " 'field number <17> has type <oldest_cycle_point> and type <9>',\n",
       " 'field number <18> has type <reloading> and type <8>',\n",
       " 'field number <19> has type <run_mode> and type <9>',\n",
       " 'field number <20> has type <cycling_mode> and type <9>',\n",
       " 'field number <21> has type <state_totals> and type <11>',\n",
       " 'field number <22> has type <workflow_log_dir> and type <9>',\n",
       " 'field number <23> has type <time_zone_info> and type <11>',\n",
       " 'field number <24> has type <tree_depth> and type <5>',\n",
       " 'field number <25> has type <job_log_names> and type <9>',\n",
       " 'field number <26> has type <ns_defn_order> and type <9>',\n",
       " 'field number <27> has type <states> and type <9>',\n",
       " 'field number <28> has type <task_proxies> and type <9>',\n",
       " 'field number <29> has type <family_proxies> and type <9>',\n",
       " 'field number <30> has type <status_msg> and type <9>',\n",
       " 'field number <31> has type <is_held_total> and type <5>']"
      ]
     },
     "execution_count": 6,
     "metadata": {},
     "output_type": "execute_result"
    }
   ],
   "source": [
    "[f\"field number <{n}> has type <{f.name}> and type <{f.type}>\" for n, f in pbworkflow.fields_by_number.items()]"
   ]
  },
  {
   "cell_type": "code",
   "execution_count": 7,
   "metadata": {},
   "outputs": [
    {
     "data": {
      "text/plain": [
       "['field name <stamp> has type <stamp>',\n",
       " 'field name <id> has type <id>',\n",
       " 'field name <name> has type <name>',\n",
       " 'field name <status> has type <status>',\n",
       " 'field name <host> has type <host>',\n",
       " 'field name <port> has type <port>',\n",
       " 'field name <owner> has type <owner>',\n",
       " 'field name <tasks> has type <tasks>',\n",
       " 'field name <families> has type <families>',\n",
       " 'field name <edges> has type <edges>',\n",
       " 'field name <api_version> has type <api_version>',\n",
       " 'field name <cylc_version> has type <cylc_version>',\n",
       " 'field name <last_updated> has type <last_updated>',\n",
       " 'field name <meta> has type <meta>',\n",
       " 'field name <newest_runahead_cycle_point> has type <newest_runahead_cycle_point>',\n",
       " 'field name <newest_cycle_point> has type <newest_cycle_point>',\n",
       " 'field name <oldest_cycle_point> has type <oldest_cycle_point>',\n",
       " 'field name <reloading> has type <reloading>',\n",
       " 'field name <run_mode> has type <run_mode>',\n",
       " 'field name <cycling_mode> has type <cycling_mode>',\n",
       " 'field name <state_totals> has type <state_totals>',\n",
       " 'field name <workflow_log_dir> has type <workflow_log_dir>',\n",
       " 'field name <time_zone_info> has type <time_zone_info>',\n",
       " 'field name <tree_depth> has type <tree_depth>',\n",
       " 'field name <job_log_names> has type <job_log_names>',\n",
       " 'field name <ns_defn_order> has type <ns_defn_order>',\n",
       " 'field name <states> has type <states>',\n",
       " 'field name <task_proxies> has type <task_proxies>',\n",
       " 'field name <family_proxies> has type <family_proxies>',\n",
       " 'field name <status_msg> has type <status_msg>',\n",
       " 'field name <is_held_total> has type <is_held_total>']"
      ]
     },
     "execution_count": 7,
     "metadata": {},
     "output_type": "execute_result"
    }
   ],
   "source": [
    "[f\"field name <{n}> has type <{f.name}>\" for n, f in pbworkflow.fields_by_name.items()]"
   ]
  },
  {
   "cell_type": "code",
   "execution_count": 8,
   "metadata": {},
   "outputs": [
    {
     "data": {
      "text/plain": [
       "['field camel case name <stamp> has type <stamp>',\n",
       " 'field camel case name <id> has type <id>',\n",
       " 'field camel case name <name> has type <name>',\n",
       " 'field camel case name <status> has type <status>',\n",
       " 'field camel case name <host> has type <host>',\n",
       " 'field camel case name <port> has type <port>',\n",
       " 'field camel case name <owner> has type <owner>',\n",
       " 'field camel case name <tasks> has type <tasks>',\n",
       " 'field camel case name <families> has type <families>',\n",
       " 'field camel case name <edges> has type <edges>',\n",
       " 'field camel case name <apiVersion> has type <api_version>',\n",
       " 'field camel case name <cylcVersion> has type <cylc_version>',\n",
       " 'field camel case name <lastUpdated> has type <last_updated>',\n",
       " 'field camel case name <meta> has type <meta>',\n",
       " 'field camel case name <newestRunaheadCyclePoint> has type <newest_runahead_cycle_point>',\n",
       " 'field camel case name <newestCyclePoint> has type <newest_cycle_point>',\n",
       " 'field camel case name <oldestCyclePoint> has type <oldest_cycle_point>',\n",
       " 'field camel case name <reloading> has type <reloading>',\n",
       " 'field camel case name <runMode> has type <run_mode>',\n",
       " 'field camel case name <cyclingMode> has type <cycling_mode>',\n",
       " 'field camel case name <stateTotals> has type <state_totals>',\n",
       " 'field camel case name <workflowLogDir> has type <workflow_log_dir>',\n",
       " 'field camel case name <timeZoneInfo> has type <time_zone_info>',\n",
       " 'field camel case name <treeDepth> has type <tree_depth>',\n",
       " 'field camel case name <jobLogNames> has type <job_log_names>',\n",
       " 'field camel case name <nsDefnOrder> has type <ns_defn_order>',\n",
       " 'field camel case name <states> has type <states>',\n",
       " 'field camel case name <taskProxies> has type <task_proxies>',\n",
       " 'field camel case name <familyProxies> has type <family_proxies>',\n",
       " 'field camel case name <statusMsg> has type <status_msg>',\n",
       " 'field camel case name <isHeldTotal> has type <is_held_total>']"
      ]
     },
     "execution_count": 8,
     "metadata": {},
     "output_type": "execute_result"
    }
   ],
   "source": [
    "[f\"field camel case name <{n}> has type <{f.name}>\" for n, f in pbworkflow.fields_by_camelcase_name.items()]"
   ]
  },
  {
   "cell_type": "code",
   "execution_count": 9,
   "metadata": {},
   "outputs": [
    {
     "data": {
      "text/plain": [
       "['nested_type <StateTotalsEntry> has type <StateTotalsEntry>']"
      ]
     },
     "execution_count": 9,
     "metadata": {},
     "output_type": "execute_result"
    }
   ],
   "source": [
    "[f\"nested_type <{n}> has type <{f.name}>\" for n, f in pbworkflow.nested_types_by_name.items()]"
   ]
  },
  {
   "cell_type": "code",
   "execution_count": 10,
   "metadata": {},
   "outputs": [
    {
     "data": {
      "text/plain": [
       "[]"
      ]
     },
     "execution_count": 10,
     "metadata": {},
     "output_type": "execute_result"
    }
   ],
   "source": [
    "[f\"enum_type <{n}> has type <{f.name}>\" for n, f in pbworkflow.enum_types_by_name.items()]"
   ]
  },
  {
   "cell_type": "code",
   "execution_count": 11,
   "metadata": {},
   "outputs": [
    {
     "data": {
      "text/plain": [
       "[]"
      ]
     },
     "execution_count": 11,
     "metadata": {},
     "output_type": "execute_result"
    }
   ],
   "source": [
    "[f\"extension <{n}> has type <{f.name}>\" for n, f in pbworkflow.extensions_by_name.items()]"
   ]
  },
  {
   "cell_type": "markdown",
   "metadata": {},
   "source": [
    "## Code test for UML diagram generator"
   ]
  },
  {
   "cell_type": "markdown",
   "metadata": {},
   "source": [
    "Retrieve the descriptors used, they will be used to represent the UML classes"
   ]
  },
  {
   "cell_type": "code",
   "execution_count": 12,
   "metadata": {},
   "outputs": [],
   "source": [
    "from typing import List\n",
    "from types import ModuleType\n",
    "from google.protobuf.descriptor import Descriptor\n",
    "\n",
    "\n",
    "def _get_module_classes(proto_module: ModuleType) -> List[Descriptor]:\n",
    "    \"\"\"Returns a flat list of descriptors that will be used to represent UML classes.\n",
    "\n",
    "    :return: list of descriptors\n",
    "    :rtype: List[Descriptor]\n",
    "    \"\"\"\n",
    "    classes = []\n",
    "    for type_name, type_descriptor in proto_module.DESCRIPTOR.message_types_by_name.items():\n",
    "        _get_classes(type_descriptor, classes)\n",
    "    return classes\n",
    "\n",
    "\n",
    "def _get_classes(descriptor: Descriptor, classes: list) -> None:\n",
    "    \"\"\"Appends the descriptor to the list, and keeps doing it so recursively for each\n",
    "    of its sub types.\n",
    "\n",
    "    :param descriptor: a Protobuf descriptor\n",
    "    :type descriptor: Descriptor\n",
    "    :param classes: list of classes\n",
    "    :type classes: list\n",
    "    \"\"\"\n",
    "    classes.append(descriptor)\n",
    "    # nested types\n",
    "    for nested_descriptor in descriptor.nested_types:\n",
    "        _get_classes(nested_descriptor, classes)\n",
    "    # TODO: what about extension, enum\n"
   ]
  },
  {
   "cell_type": "code",
   "execution_count": 13,
   "metadata": {},
   "outputs": [
    {
     "name": "stdout",
     "output_type": "stream",
     "text": [
      "PbMeta\n",
      "9\n",
      "9\n",
      "9\n",
      "9\n",
      "PbTimeZone\n",
      "5\n",
      "5\n",
      "9\n",
      "9\n",
      "PbWorkflow\n",
      "9\n",
      "9\n",
      "9\n",
      "9\n",
      "9\n",
      "5\n",
      "9\n",
      "9\n",
      "9\n",
      "11 is PbEdges\n",
      "5\n",
      "9\n",
      "1\n",
      "11 is PbMeta\n",
      "9\n",
      "9\n",
      "9\n",
      "8\n",
      "9\n",
      "9\n",
      "11 is StateTotalsEntry\n",
      "9\n",
      "11 is PbTimeZone\n",
      "5\n",
      "9\n",
      "9\n",
      "9\n",
      "9\n",
      "9\n",
      "9\n",
      "5\n",
      "StateTotalsEntry\n",
      "9\n",
      "5\n",
      "PbJob\n",
      "9\n",
      "9\n",
      "5\n",
      "9\n",
      "9\n",
      "9\n",
      "9\n",
      "9\n",
      "9\n",
      "9\n",
      "9\n",
      "9\n",
      "9\n",
      "2\n",
      "9\n",
      "9\n",
      "9\n",
      "9\n",
      "9\n",
      "9\n",
      "9\n",
      "9\n",
      "9\n",
      "9\n",
      "9\n",
      "9\n",
      "9\n",
      "9\n",
      "9\n",
      "9\n",
      "9\n",
      "9\n",
      "PbTask\n",
      "9\n",
      "9\n",
      "9\n",
      "11 is PbMeta\n",
      "2\n",
      "5\n",
      "9\n",
      "9\n",
      "PbPollTask\n",
      "9\n",
      "9\n",
      "9\n",
      "9\n",
      "9\n",
      "PbCondition\n",
      "9\n",
      "9\n",
      "9\n",
      "8\n",
      "9\n",
      "PbPrerequisite\n",
      "9\n",
      "11 is PbCondition\n",
      "9\n",
      "8\n",
      "PbTaskProxy\n",
      "9\n",
      "9\n",
      "9\n",
      "9\n",
      "9\n",
      "8\n",
      "5\n",
      "5\n",
      "9\n",
      "9\n",
      "9\n",
      "9\n",
      "11 is PbPrerequisite\n",
      "9\n",
      "9\n",
      "9\n",
      "9\n",
      "8\n",
      "9\n",
      "PbFamily\n",
      "9\n",
      "9\n",
      "9\n",
      "11 is PbMeta\n",
      "5\n",
      "9\n",
      "9\n",
      "9\n",
      "9\n",
      "PbFamilyProxy\n",
      "9\n",
      "9\n",
      "9\n",
      "9\n",
      "9\n",
      "9\n",
      "5\n",
      "9\n",
      "9\n",
      "9\n",
      "9\n",
      "8\n",
      "PbEdge\n",
      "9\n",
      "9\n",
      "9\n",
      "9\n",
      "8\n",
      "8\n",
      "PbEdges\n",
      "9\n",
      "9\n",
      "11 is PbPollTask\n",
      "9\n",
      "9\n",
      "PbEntireWorkflow\n",
      "11 is PbWorkflow\n",
      "11 is PbTask\n",
      "11 is PbTaskProxy\n",
      "11 is PbJob\n",
      "11 is PbFamily\n",
      "11 is PbFamilyProxy\n",
      "11 is PbEdge\n"
     ]
    }
   ],
   "source": [
    "classes = _get_module_classes(proto_module)\n",
    "for cls in classes:\n",
    "    print(cls.name)\n",
    "    for field in cls.fields:\n",
    "        if field.type == 11:\n",
    "            print(\"11 is \" + field.message_type.name)\n",
    "        else:\n",
    "            print(field.type)"
   ]
  },
  {
   "cell_type": "markdown",
   "metadata": {},
   "source": [
    "The relationship"
   ]
  }
 ],
 "metadata": {
  "kernelspec": {
   "display_name": "Python 3",
   "language": "python",
   "name": "python3"
  },
  "language_info": {
   "codemirror_mode": {
    "name": "ipython",
    "version": 3
   },
   "file_extension": ".py",
   "mimetype": "text/x-python",
   "name": "python",
   "nbconvert_exporter": "python",
   "pygments_lexer": "ipython3",
   "version": "3.7.3"
  }
 },
 "nbformat": 4,
 "nbformat_minor": 2
}
