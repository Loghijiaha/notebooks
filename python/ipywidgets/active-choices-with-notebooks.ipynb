{
 "cells": [
  {
   "cell_type": "markdown",
   "metadata": {},
   "source": [
    "This [Towards Data Science blog](https://towardsdatascience.com/interactive-controls-for-jupyter-notebooks-f5c94829aee6) has a lot of useful information. Also need to run `jupyter nbextension enable --py widgetsnbextension`."
   ]
  },
  {
   "cell_type": "code",
   "execution_count": 1,
   "metadata": {},
   "outputs": [],
   "source": [
    "import ipywidgets as widgets\n",
    "from ipywidgets import interact, interact_manual"
   ]
  },
  {
   "cell_type": "markdown",
   "metadata": {},
   "source": [
    "This is similar to the Groovy scripts of Active Choices parameters."
   ]
  },
  {
   "cell_type": "code",
   "execution_count": 2,
   "metadata": {},
   "outputs": [],
   "source": [
    "def states():\n",
    "    return ['Sao Paulo', 'Minas Gerais', 'Acre']\n",
    "\n",
    "def cities(state):\n",
    "    if state == 'Sao Paulo':\n",
    "        return ['Sao Paulo', 'Campinas', 'Barretos']\n",
    "    elif state == 'Minas Gerais':\n",
    "        return ['Betim', 'Belo Horizonte']\n",
    "    elif state == 'Acre':\n",
    "        return ['Acrelandia', 'Rio Branco']\n",
    "    else:\n",
    "        return ['UNKNOWN']"
   ]
  },
  {
   "cell_type": "markdown",
   "metadata": {},
   "source": [
    "The `states` can be turned into a widget with `interact`."
   ]
  },
  {
   "cell_type": "code",
   "execution_count": 3,
   "metadata": {},
   "outputs": [
    {
     "data": {
      "application/vnd.jupyter.widget-view+json": {
       "model_id": "865d49437c2c4f32a6cef9e1b407065d",
       "version_major": 2,
       "version_minor": 0
      },
      "text/plain": [
       "interactive(children=(Dropdown(description='state', options=('Sao Paulo', 'Minas Gerais', 'Acre'), value='Sao …"
      ]
     },
     "metadata": {},
     "output_type": "display_data"
    }
   ],
   "source": [
    "selected_state = None\n",
    "@interact\n",
    "def show_states(state=states()):\n",
    "    global selected_state\n",
    "    print(f'You selected {state}')\n",
    "    selected_state = state"
   ]
  },
  {
   "cell_type": "code",
   "execution_count": 4,
   "metadata": {},
   "outputs": [
    {
     "data": {
      "application/vnd.jupyter.widget-view+json": {
       "model_id": "38217c52fb9f4995bf3c16210821adde",
       "version_major": 2,
       "version_minor": 0
      },
      "text/plain": [
       "interactive(children=(Dropdown(description='city', options=('Sao Paulo', 'Campinas', 'Barretos'), value='Sao P…"
      ]
     },
     "metadata": {},
     "output_type": "display_data"
    }
   ],
   "source": [
    "@interact\n",
    "def show_cities(city=cities(state=selected_state)):\n",
    "    print(selected_state)\n",
    "    print(f'You selected {city}')"
   ]
  },
  {
   "cell_type": "markdown",
   "metadata": {},
   "source": [
    "Or using the `observe` function."
   ]
  },
  {
   "cell_type": "code",
   "execution_count": 5,
   "metadata": {},
   "outputs": [
    {
     "data": {
      "application/vnd.jupyter.widget-view+json": {
       "model_id": "788aa81b567346bf9fd3becc08eb9818",
       "version_major": 2,
       "version_minor": 0
      },
      "text/plain": [
       "Dropdown(options=('Sao Paulo', 'Minas Gerais', 'Acre'), value='Sao Paulo')"
      ]
     },
     "metadata": {},
     "output_type": "display_data"
    },
    {
     "data": {
      "application/vnd.jupyter.widget-view+json": {
       "model_id": "f2a89e236d2649ed9415fcf316c7b58c",
       "version_major": 2,
       "version_minor": 0
      },
      "text/plain": [
       "Dropdown(options=('Sao Paulo', 'Campinas', 'Barretos'), value='Sao Paulo')"
      ]
     },
     "metadata": {},
     "output_type": "display_data"
    },
    {
     "data": {
      "application/vnd.jupyter.widget-view+json": {
       "model_id": "0d0d840a898945358e4dca7d24f14e32",
       "version_major": 2,
       "version_minor": 0
      },
      "text/plain": [
       "Button(description='Submit Job', style=ButtonStyle(), tooltip='This will use Jenkins API with the auth setting…"
      ]
     },
     "metadata": {},
     "output_type": "display_data"
    },
    {
     "name": "stdout",
     "output_type": "stream",
     "text": [
      "Submitting a job with parameters state=Sao Paulo, city=Sao Paulo\n",
      "Submitting a job with parameters state=Minas Gerais, city=Belo Horizonte\n"
     ]
    }
   ],
   "source": [
    "# initial value\n",
    "states_dropdown = widgets.Dropdown(options=states())\n",
    "cities_dropdown = widgets.Dropdown(options=cities(state=states_dropdown.value))\n",
    "\n",
    "# react to an event\n",
    "def update_cities(state):\n",
    "    if hasattr(state, 'new'):\n",
    "        state = state.new\n",
    "    cities_dropdown.options = cities(state=state)\n",
    "\n",
    "# create reactivity (same as reference parameter = cities in Jenkins/Active Choices)\n",
    "states_dropdown.observe(update_cities, 'value')\n",
    "\n",
    "# add a button (to call Jenkins?)\n",
    "def submit_jenkins_job(event):\n",
    "    selected_state = states_dropdown.value\n",
    "    selected_city  = cities_dropdown.value\n",
    "    print(f'Submitting a job with parameters state={selected_state}, city={selected_city}')\n",
    "\n",
    "button = widgets.Button(\n",
    "    description='Submit Job',\n",
    "    disabled=False,\n",
    "    tooltip='This will use Jenkins API with the auth settings...'\n",
    ")\n",
    "button.on_click(submit_jenkins_job)\n",
    "\n",
    "# render\n",
    "display(states_dropdown, cities_dropdown, button)"
   ]
  },
  {
   "cell_type": "markdown",
   "metadata": {},
   "source": [
    "The function can use pandas, matplotlib, notebook widgets for images, etc. Pretty much anything available for Notebooks, or custom code/widgets too. More options and more extensible than with Jenkins."
   ]
  }
 ],
 "metadata": {
  "kernelspec": {
   "display_name": "kinow-notebooks",
   "language": "python",
   "name": "kinow-notebooks"
  },
  "language_info": {
   "codemirror_mode": {
    "name": "ipython",
    "version": 3
   },
   "file_extension": ".py",
   "mimetype": "text/x-python",
   "name": "python",
   "nbconvert_exporter": "python",
   "pygments_lexer": "ipython3",
   "version": "3.7.3"
  },
  "widgets": {
   "application/vnd.jupyter.widget-state+json": {
    "state": {
     "003a4616ce0e43f49811c2339d570f36": {
      "model_module": "@jupyter-widgets/controls",
      "model_module_version": "1.5.0",
      "model_name": "ButtonModel",
      "state": {
       "description": "Submit Job",
       "layout": "IPY_MODEL_cc412c190691436284ed8870aacc34cc",
       "style": "IPY_MODEL_aa7a3457070745d592a0f65b2cf95bf8",
       "tooltip": "This will use Jenkins API with the auth settings..."
      }
     },
     "008ba85b17a4442291c4310f76272d02": {
      "model_module": "@jupyter-widgets/output",
      "model_module_version": "1.0.0",
      "model_name": "OutputModel",
      "state": {
       "layout": "IPY_MODEL_de5a27cf6fec4743a1e3cec6b3885759",
       "outputs": [
        {
         "data": {
          "text/plain": "'Sao Paulo'"
         },
         "metadata": {},
         "output_type": "display_data"
        }
       ]
      }
     },
     "0107ec82fe6f4258aaf06b0def09a6ab": {
      "model_module": "@jupyter-widgets/output",
      "model_module_version": "1.0.0",
      "model_name": "OutputModel",
      "state": {
       "layout": "IPY_MODEL_ea05d48ae60445d09ff4cf333ea15d3a",
       "outputs": [
        {
         "name": "stdout",
         "output_type": "stream",
         "text": "Sao Paulo\nYou selected Sao Paulo\n"
        }
       ]
      }
     },
     "016641bb922f4d76a2a7b2cbee4f64fc": {
      "model_module": "@jupyter-widgets/base",
      "model_module_version": "1.2.0",
      "model_name": "LayoutModel",
      "state": {}
     },
     "01cf623aa9d6436486fe67fa71aaf501": {
      "model_module": "@jupyter-widgets/controls",
      "model_module_version": "1.5.0",
      "model_name": "DescriptionStyleModel",
      "state": {
       "description_width": ""
      }
     },
     "0200c73fa6df4d55bd47074ce8f63f68": {
      "model_module": "@jupyter-widgets/controls",
      "model_module_version": "1.5.0",
      "model_name": "DropdownModel",
      "state": {
       "_options_labels": [
        "UNKNOWN"
       ],
       "index": 0,
       "layout": "IPY_MODEL_05c59ea02ae541038579c644106bd3ff",
       "style": "IPY_MODEL_3da791b5b71f45fea2946b410373a0ce"
      }
     },
     "02cf741218af4101a1897dff51e9ec7b": {
      "model_module": "@jupyter-widgets/controls",
      "model_module_version": "1.5.0",
      "model_name": "DescriptionStyleModel",
      "state": {
       "description_width": ""
      }
     },
     "038c82a01f93462b8e65ec00716a0267": {
      "model_module": "@jupyter-widgets/base",
      "model_module_version": "1.2.0",
      "model_name": "LayoutModel",
      "state": {}
     },
     "03c7bb26da3f4644b069b8106632dbf4": {
      "model_module": "@jupyter-widgets/controls",
      "model_module_version": "1.5.0",
      "model_name": "DropdownModel",
      "state": {
       "_options_labels": [
        "Sao Paulo",
        "Minas Gerais",
        "Acre"
       ],
       "index": 0,
       "layout": "IPY_MODEL_3c9dfb564b2a42d9a2176acbc06e1e27",
       "style": "IPY_MODEL_46c4916f51f746c381e9c54f8b80e5d3"
      }
     },
     "03efa45850894a71afd69e98aa7409fc": {
      "model_module": "@jupyter-widgets/base",
      "model_module_version": "1.2.0",
      "model_name": "LayoutModel",
      "state": {}
     },
     "040e3f9f93db4bb8ab6ad1b9f7f9d685": {
      "model_module": "@jupyter-widgets/controls",
      "model_module_version": "1.5.0",
      "model_name": "DropdownModel",
      "state": {
       "_options_labels": [
        "Acrelandia",
        "Rio Branco"
       ],
       "index": 0,
       "layout": "IPY_MODEL_f2c711978d0248a8826e14cc1f7e13ef",
       "style": "IPY_MODEL_faf3c42ebb2744e8b7a3e79231ffc839"
      }
     },
     "041075e23d124133ab00501a75e5e732": {
      "model_module": "@jupyter-widgets/base",
      "model_module_version": "1.2.0",
      "model_name": "LayoutModel",
      "state": {}
     },
     "0464b736954e4e9a98006b17c8ce85cd": {
      "model_module": "@jupyter-widgets/controls",
      "model_module_version": "1.5.0",
      "model_name": "VBoxModel",
      "state": {
       "_dom_classes": [
        "widget-interact"
       ],
       "children": [
        "IPY_MODEL_670c2bc79b9347f6a29a2e647d36bf74",
        "IPY_MODEL_401b46369333413f89bbe620104713fd"
       ],
       "layout": "IPY_MODEL_4f5ff3668f3a4670b82b27a1490e7746"
      }
     },
     "0518f5648bb9407cab9d4777abbdb95c": {
      "model_module": "@jupyter-widgets/controls",
      "model_module_version": "1.5.0",
      "model_name": "DescriptionStyleModel",
      "state": {
       "description_width": ""
      }
     },
     "05c59ea02ae541038579c644106bd3ff": {
      "model_module": "@jupyter-widgets/base",
      "model_module_version": "1.2.0",
      "model_name": "LayoutModel",
      "state": {}
     },
     "06558e1589de449ba921cc5b8f6f098e": {
      "model_module": "@jupyter-widgets/controls",
      "model_module_version": "1.5.0",
      "model_name": "DropdownModel",
      "state": {
       "_options_labels": [
        "Sao Paulo",
        "Minas Gerais",
        "Acre"
       ],
       "index": 0,
       "layout": "IPY_MODEL_c6692c4db0d747ce8efc773224947804",
       "style": "IPY_MODEL_ca582a71780e4cdf96f73c0f5a6ab8d8"
      }
     },
     "0655cfec6c7e417ba8ecc319a32e74da": {
      "model_module": "@jupyter-widgets/base",
      "model_module_version": "1.2.0",
      "model_name": "LayoutModel",
      "state": {}
     },
     "083bd39633a64225a660f0e288241ee2": {
      "model_module": "@jupyter-widgets/controls",
      "model_module_version": "1.5.0",
      "model_name": "VBoxModel",
      "state": {
       "_dom_classes": [
        "widget-interact"
       ],
       "children": [
        "IPY_MODEL_a141fd50b5244080a5c8ad2608e40e0d",
        "IPY_MODEL_4131003994d14326951fa5e4844efac2"
       ],
       "layout": "IPY_MODEL_f49cd020f605480493b0897699b32cf7"
      }
     },
     "087cfb0449694affbe2441d384acf6e3": {
      "model_module": "@jupyter-widgets/base",
      "model_module_version": "1.2.0",
      "model_name": "LayoutModel",
      "state": {}
     },
     "08b17c03e0454b12ab8fd86928bc7975": {
      "model_module": "@jupyter-widgets/controls",
      "model_module_version": "1.5.0",
      "model_name": "DropdownModel",
      "state": {
       "_options_labels": [
        "Sao Paulo",
        "Minas Gerais",
        "Acre"
       ],
       "description": "states",
       "index": 2,
       "layout": "IPY_MODEL_a4666591a6aa451492e358cd118e5209",
       "style": "IPY_MODEL_02cf741218af4101a1897dff51e9ec7b"
      }
     },
     "0ac62c5d0daa4b6ebbf52c043ae1aff5": {
      "model_module": "@jupyter-widgets/controls",
      "model_module_version": "1.5.0",
      "model_name": "VBoxModel",
      "state": {
       "_dom_classes": [
        "widget-interact"
       ],
       "children": [
        "IPY_MODEL_76970bd937dc4a20a34f37a15703a2bf"
       ],
       "layout": "IPY_MODEL_4cc75abf70dc4574bbbcb0554450e2b4"
      }
     },
     "0b6e9f09b21b4544af7d6faa62a03957": {
      "model_module": "@jupyter-widgets/base",
      "model_module_version": "1.2.0",
      "model_name": "LayoutModel",
      "state": {}
     },
     "0bab6160b72749788fc60c0ef86931e6": {
      "model_module": "@jupyter-widgets/output",
      "model_module_version": "1.0.0",
      "model_name": "OutputModel",
      "state": {
       "layout": "IPY_MODEL_831efe9f7afc40d58e62be15fb41dca1",
       "outputs": [
        {
         "name": "stdout",
         "output_type": "stream",
         "text": "You selected Minas Gerais\n"
        }
       ]
      }
     },
     "0bc125a272dd436eb0ae0685d6f62f54": {
      "model_module": "@jupyter-widgets/controls",
      "model_module_version": "1.5.0",
      "model_name": "DescriptionStyleModel",
      "state": {
       "description_width": ""
      }
     },
     "0c681c425bad4ae9a10d365242fed8d4": {
      "model_module": "@jupyter-widgets/controls",
      "model_module_version": "1.5.0",
      "model_name": "DropdownModel",
      "state": {
       "_options_labels": [
        "Sao Paulo",
        "Minas Gerais",
        "Acre"
       ],
       "index": 1,
       "layout": "IPY_MODEL_37a9035957ce4fc196c8c8d17ee34840",
       "style": "IPY_MODEL_2f46add0c45145bc9c96f3d62a60d6a4"
      }
     },
     "0d0d840a898945358e4dca7d24f14e32": {
      "model_module": "@jupyter-widgets/controls",
      "model_module_version": "1.5.0",
      "model_name": "ButtonModel",
      "state": {
       "description": "Submit Job",
       "layout": "IPY_MODEL_5094cb8ea35c4b28aa47c0b9065d81d8",
       "style": "IPY_MODEL_90d8dfdef5184722abf2fd01bbb866e4",
       "tooltip": "This will use Jenkins API with the auth settings..."
      }
     },
     "0d4797c7602445bda1d9312b77337cc0": {
      "model_module": "@jupyter-widgets/controls",
      "model_module_version": "1.5.0",
      "model_name": "DropdownModel",
      "state": {
       "_options_labels": [
        "Sao Paulo",
        "Minas Gerais",
        "Acre"
       ],
       "description": "state",
       "index": 0,
       "layout": "IPY_MODEL_a5d8c05546aa471498a591615039b5c6",
       "style": "IPY_MODEL_5109ebc1fe2c40a5b99741585d41b608"
      }
     },
     "0f3c42ce6cfa41ec87731e3c7dccc795": {
      "model_module": "@jupyter-widgets/controls",
      "model_module_version": "1.5.0",
      "model_name": "DescriptionStyleModel",
      "state": {
       "description_width": ""
      }
     },
     "0f6ab79a12a34a21b60630315cbf93c6": {
      "model_module": "@jupyter-widgets/controls",
      "model_module_version": "1.5.0",
      "model_name": "DescriptionStyleModel",
      "state": {
       "description_width": ""
      }
     },
     "125db365a2d04d88a3caeb6f2fc95fc1": {
      "model_module": "@jupyter-widgets/controls",
      "model_module_version": "1.5.0",
      "model_name": "DescriptionStyleModel",
      "state": {
       "description_width": ""
      }
     },
     "137bbf80c1dd4501b09564f9e2b26434": {
      "model_module": "@jupyter-widgets/controls",
      "model_module_version": "1.5.0",
      "model_name": "VBoxModel",
      "state": {
       "_dom_classes": [
        "widget-interact"
       ],
       "children": [
        "IPY_MODEL_93932edd1c324a7dad4ff01976ff5c74",
        "IPY_MODEL_555ea4d111234f928d884fbedf09955a"
       ],
       "layout": "IPY_MODEL_81eb153ae0ac4ecd8b4518373a07bd42"
      }
     },
     "13f1948cb1d94244b1ff874fc907fbb2": {
      "model_module": "@jupyter-widgets/base",
      "model_module_version": "1.2.0",
      "model_name": "LayoutModel",
      "state": {}
     },
     "145bf27bfe054cafb3e85eaeda1260e1": {
      "model_module": "@jupyter-widgets/controls",
      "model_module_version": "1.5.0",
      "model_name": "DropdownModel",
      "state": {
       "_options_labels": [
        "UNKNOWN"
       ],
       "index": 0,
       "layout": "IPY_MODEL_85015d219a1b418c9e4ea476e36f6d59",
       "style": "IPY_MODEL_4b5622a86662417d8190ad62113c8bd2"
      }
     },
     "14ec44e3d98e48c09c8caf83848bc0f0": {
      "model_module": "@jupyter-widgets/controls",
      "model_module_version": "1.5.0",
      "model_name": "DropdownModel",
      "state": {
       "_options_labels": [
        "Sao Paulo",
        "Minas Gerais",
        "Acre"
       ],
       "index": 1,
       "layout": "IPY_MODEL_79c92371503a44339aee467a245436ae",
       "style": "IPY_MODEL_0f3c42ce6cfa41ec87731e3c7dccc795"
      }
     },
     "163ffa63c6e048b586ededf930543a23": {
      "model_module": "@jupyter-widgets/controls",
      "model_module_version": "1.5.0",
      "model_name": "DescriptionStyleModel",
      "state": {
       "description_width": ""
      }
     },
     "16abd60393c84317975d1330d98556a4": {
      "model_module": "@jupyter-widgets/base",
      "model_module_version": "1.2.0",
      "model_name": "LayoutModel",
      "state": {}
     },
     "16f5f67625e0435e85f6fc37a2246799": {
      "model_module": "@jupyter-widgets/base",
      "model_module_version": "1.2.0",
      "model_name": "LayoutModel",
      "state": {}
     },
     "17ee7afdd2ca4fc782be755308a030ad": {
      "model_module": "@jupyter-widgets/controls",
      "model_module_version": "1.5.0",
      "model_name": "DropdownModel",
      "state": {
       "index": null,
       "layout": "IPY_MODEL_2dd969f357334752bacf3dd065ac18f0",
       "style": "IPY_MODEL_e79fa4a174254271bd2890602814710a"
      }
     },
     "182bb1ceedd34cf1be3a2d3a9cb0d9b8": {
      "model_module": "@jupyter-widgets/controls",
      "model_module_version": "1.5.0",
      "model_name": "ButtonStyleModel",
      "state": {}
     },
     "1834e51c2fec4a12a7c98e2147b682bf": {
      "model_module": "@jupyter-widgets/controls",
      "model_module_version": "1.5.0",
      "model_name": "DescriptionStyleModel",
      "state": {
       "description_width": ""
      }
     },
     "18a991fbaac44e4f8f5c3d44efa7535b": {
      "model_module": "@jupyter-widgets/controls",
      "model_module_version": "1.5.0",
      "model_name": "DropdownModel",
      "state": {
       "_options_labels": [
        "UNKNOWN"
       ],
       "index": 0,
       "layout": "IPY_MODEL_16f5f67625e0435e85f6fc37a2246799",
       "style": "IPY_MODEL_2a4343f470ce44b3bafa7b7d0b2ed132"
      }
     },
     "1906d4b9bc6c44feb55ced039aadc25d": {
      "model_module": "@jupyter-widgets/base",
      "model_module_version": "1.2.0",
      "model_name": "LayoutModel",
      "state": {}
     },
     "19e823b3dced4d68b6603f2c0e9de560": {
      "model_module": "@jupyter-widgets/controls",
      "model_module_version": "1.5.0",
      "model_name": "DropdownModel",
      "state": {
       "_options_labels": [
        "Sao Paulo",
        "Campinas",
        "Barretos"
       ],
       "index": 0,
       "layout": "IPY_MODEL_85961c29a2694e65b29436a56b31e178",
       "style": "IPY_MODEL_37858fb07c7a4f7287b295cc3066f63c"
      }
     },
     "1ab8581a4667451cbd1ad699dda0b17c": {
      "model_module": "@jupyter-widgets/base",
      "model_module_version": "1.2.0",
      "model_name": "LayoutModel",
      "state": {}
     },
     "1b906865304f451493f94b8b9476a512": {
      "model_module": "@jupyter-widgets/controls",
      "model_module_version": "1.5.0",
      "model_name": "DropdownModel",
      "state": {
       "_options_labels": [
        "Sao Paulo",
        "Minas Gerais",
        "Acre"
       ],
       "index": 1,
       "layout": "IPY_MODEL_4d6cdabd8a2f4ef680e3eb19e51892ae",
       "style": "IPY_MODEL_bb579bade7c34e808a6731d524a896f8"
      }
     },
     "1be772f917fe4c158e09e467210ec809": {
      "model_module": "@jupyter-widgets/controls",
      "model_module_version": "1.5.0",
      "model_name": "VBoxModel",
      "state": {
       "_dom_classes": [
        "widget-interact"
       ],
       "children": [
        "IPY_MODEL_0d4797c7602445bda1d9312b77337cc0",
        "IPY_MODEL_288d451480d54ecb9eb81bc98f3fc1c7"
       ],
       "layout": "IPY_MODEL_c06aed7636654c82afd2586dcd3bee6a"
      }
     },
     "1c1373722f9345668ce69a7027c3aa5a": {
      "model_module": "@jupyter-widgets/controls",
      "model_module_version": "1.5.0",
      "model_name": "VBoxModel",
      "state": {
       "_dom_classes": [
        "widget-interact"
       ],
       "children": [
        "IPY_MODEL_c936a3239ad740a3a011dcdd5e6fba18",
        "IPY_MODEL_d545639cde33485ba61e0b47b393c7be"
       ],
       "layout": "IPY_MODEL_90795e703b514841b301d6aa3ed696c8"
      }
     },
     "1c469e6098ca46d69851f4fbfbb8ebd0": {
      "model_module": "@jupyter-widgets/controls",
      "model_module_version": "1.5.0",
      "model_name": "DescriptionStyleModel",
      "state": {
       "description_width": ""
      }
     },
     "1da2eafef34540e2be6cbd3656ffddf3": {
      "model_module": "@jupyter-widgets/controls",
      "model_module_version": "1.5.0",
      "model_name": "DropdownModel",
      "state": {
       "index": null,
       "layout": "IPY_MODEL_b2e5d63f88584638a4562e3b617a8da4",
       "style": "IPY_MODEL_cac1f3fe01484d69bdf843f4bca904b6"
      }
     },
     "1e048c077192480083707c5a0c7e3180": {
      "model_module": "@jupyter-widgets/controls",
      "model_module_version": "1.5.0",
      "model_name": "DescriptionStyleModel",
      "state": {
       "description_width": ""
      }
     },
     "1e62baebf87d43f0abf936399e960a0c": {
      "model_module": "@jupyter-widgets/controls",
      "model_module_version": "1.5.0",
      "model_name": "DescriptionStyleModel",
      "state": {
       "description_width": ""
      }
     },
     "1eb71b13360546358343033c709e6d78": {
      "model_module": "@jupyter-widgets/base",
      "model_module_version": "1.2.0",
      "model_name": "LayoutModel",
      "state": {}
     },
     "2008b1fba58c4e83b587af15900fcd12": {
      "model_module": "@jupyter-widgets/controls",
      "model_module_version": "1.5.0",
      "model_name": "DropdownModel",
      "state": {
       "_options_labels": [
        "Acrelandia",
        "Rio Branco"
       ],
       "index": 0,
       "layout": "IPY_MODEL_6eaa7b82dc9e49e39141adfad87dbb8f",
       "style": "IPY_MODEL_ed30bb329f774982b50f5687a3b468af"
      }
     },
     "24007ffffb394ad28f9f013dea6992e8": {
      "model_module": "@jupyter-widgets/controls",
      "model_module_version": "1.5.0",
      "model_name": "DescriptionStyleModel",
      "state": {
       "description_width": ""
      }
     },
     "2426924eb4784cc2abd16431fedad03a": {
      "model_module": "@jupyter-widgets/controls",
      "model_module_version": "1.5.0",
      "model_name": "DropdownModel",
      "state": {
       "_options_labels": [
        "Sao Paulo",
        "Minas Gerais",
        "Acre"
       ],
       "index": 0,
       "layout": "IPY_MODEL_13f1948cb1d94244b1ff874fc907fbb2",
       "style": "IPY_MODEL_dfd6604d825743e395a8a0723a7a0cee"
      }
     },
     "26236a40d7224a1ca64c3e90cf677e96": {
      "model_module": "@jupyter-widgets/controls",
      "model_module_version": "1.5.0",
      "model_name": "VBoxModel",
      "state": {
       "_dom_classes": [
        "widget-interact"
       ],
       "children": [
        "IPY_MODEL_5b4876af87b04f6586c5f10f67084eff",
        "IPY_MODEL_f6f86e95dd74463497ce6a130d3f21fb"
       ],
       "layout": "IPY_MODEL_e8d9c0d35adb4a2083c78f1ab18517fc"
      }
     },
     "268840d7f536493aa3125c71ee2cbe70": {
      "model_module": "@jupyter-widgets/controls",
      "model_module_version": "1.5.0",
      "model_name": "ButtonStyleModel",
      "state": {}
     },
     "268daa25ceab4669825bff8179c1001e": {
      "model_module": "@jupyter-widgets/controls",
      "model_module_version": "1.5.0",
      "model_name": "ButtonModel",
      "state": {
       "description": "Submit Job",
       "layout": "IPY_MODEL_b480aadbbb88435b8267ead11dfe2a74",
       "style": "IPY_MODEL_e6e4e2f10161448b81ee6fe1cbc936f1",
       "tooltip": "This will use Jenkins API with the auth settings..."
      }
     },
     "27f2d699323f48ebbbacf747ba579462": {
      "model_module": "@jupyter-widgets/output",
      "model_module_version": "1.0.0",
      "model_name": "OutputModel",
      "state": {
       "layout": "IPY_MODEL_5d9d2ce4ac7648f2b1bfaf091918e7eb",
       "outputs": [
        {
         "name": "stdout",
         "output_type": "stream",
         "text": "Sao Paulo\nYou selected Sao Paulo\n"
        }
       ]
      }
     },
     "2857391b082f49a490d79acbd0dc08e3": {
      "model_module": "@jupyter-widgets/output",
      "model_module_version": "1.0.0",
      "model_name": "OutputModel",
      "state": {
       "layout": "IPY_MODEL_d218c08290cf4dd698eeb5cd213f31cc",
       "outputs": [
        {
         "name": "stdout",
         "output_type": "stream",
         "text": "None\nYou selected UNKNOWN\n"
        }
       ]
      }
     },
     "2866e1340ba244dd9d482543283779f0": {
      "model_module": "@jupyter-widgets/controls",
      "model_module_version": "1.5.0",
      "model_name": "DropdownModel",
      "state": {
       "_options_labels": [
        "Sao Paulo",
        "Minas Gerais",
        "Acre"
       ],
       "description": "state",
       "index": 0,
       "layout": "IPY_MODEL_7f7d0ae483c347f0ae5f315a06919d3f",
       "style": "IPY_MODEL_56a0e7fecd4b4c9faa4360f18939a6cb"
      }
     },
     "286c233cae014f849c0fce240dec45a5": {
      "model_module": "@jupyter-widgets/base",
      "model_module_version": "1.2.0",
      "model_name": "LayoutModel",
      "state": {}
     },
     "288d451480d54ecb9eb81bc98f3fc1c7": {
      "model_module": "@jupyter-widgets/output",
      "model_module_version": "1.0.0",
      "model_name": "OutputModel",
      "state": {
       "layout": "IPY_MODEL_fb68b774263b4e7d8e1c1bc5183c1988",
       "outputs": [
        {
         "name": "stdout",
         "output_type": "stream",
         "text": "You selected Sao Paulo\n"
        }
       ]
      }
     },
     "28c7726459c94cc7a4633f21fecfa4e2": {
      "model_module": "@jupyter-widgets/controls",
      "model_module_version": "1.5.0",
      "model_name": "DescriptionStyleModel",
      "state": {
       "description_width": ""
      }
     },
     "28e3874a56e44e0aa09ea5c5b6ec5607": {
      "model_module": "@jupyter-widgets/base",
      "model_module_version": "1.2.0",
      "model_name": "LayoutModel",
      "state": {}
     },
     "2a4343f470ce44b3bafa7b7d0b2ed132": {
      "model_module": "@jupyter-widgets/controls",
      "model_module_version": "1.5.0",
      "model_name": "DescriptionStyleModel",
      "state": {
       "description_width": ""
      }
     },
     "2a702a7c59df44919b1f13b180e28ea1": {
      "model_module": "@jupyter-widgets/base",
      "model_module_version": "1.2.0",
      "model_name": "LayoutModel",
      "state": {}
     },
     "2ceaa734c9d244f6b4b25cea4094eb9e": {
      "model_module": "@jupyter-widgets/controls",
      "model_module_version": "1.5.0",
      "model_name": "DescriptionStyleModel",
      "state": {
       "description_width": ""
      }
     },
     "2cf6eec5e07b41c4bd2f2901b61d16c6": {
      "model_module": "@jupyter-widgets/base",
      "model_module_version": "1.2.0",
      "model_name": "LayoutModel",
      "state": {}
     },
     "2dd969f357334752bacf3dd065ac18f0": {
      "model_module": "@jupyter-widgets/base",
      "model_module_version": "1.2.0",
      "model_name": "LayoutModel",
      "state": {}
     },
     "2ea91edcf4bd4deb89688c5a3246d036": {
      "model_module": "@jupyter-widgets/controls",
      "model_module_version": "1.5.0",
      "model_name": "DescriptionStyleModel",
      "state": {
       "description_width": ""
      }
     },
     "2f46add0c45145bc9c96f3d62a60d6a4": {
      "model_module": "@jupyter-widgets/controls",
      "model_module_version": "1.5.0",
      "model_name": "DescriptionStyleModel",
      "state": {
       "description_width": ""
      }
     },
     "2fa3c66bd9044318b8bb7cc9df9d9daf": {
      "model_module": "@jupyter-widgets/output",
      "model_module_version": "1.0.0",
      "model_name": "OutputModel",
      "state": {
       "layout": "IPY_MODEL_f32792e7a5e7469db6b41c14e95cb952",
       "outputs": [
        {
         "ename": "NameError",
         "evalue": "name 'state' is not defined",
         "output_type": "error",
         "traceback": [
          "\u001b[0;31m---------------------------------------------------------------------------\u001b[0m",
          "\u001b[0;31mNameError\u001b[0m                                 Traceback (most recent call last)",
          "\u001b[0;32m~/Development/python/workspace/notebooks/venv/lib/python3.7/site-packages/ipywidgets/widgets/interaction.py\u001b[0m in \u001b[0;36mupdate\u001b[0;34m(self, *args)\u001b[0m\n\u001b[1;32m    254\u001b[0m                     \u001b[0mvalue\u001b[0m \u001b[0;34m=\u001b[0m \u001b[0mwidget\u001b[0m\u001b[0;34m.\u001b[0m\u001b[0mget_interact_value\u001b[0m\u001b[0;34m(\u001b[0m\u001b[0;34m)\u001b[0m\u001b[0;34m\u001b[0m\u001b[0;34m\u001b[0m\u001b[0m\n\u001b[1;32m    255\u001b[0m                     \u001b[0mself\u001b[0m\u001b[0;34m.\u001b[0m\u001b[0mkwargs\u001b[0m\u001b[0;34m[\u001b[0m\u001b[0mwidget\u001b[0m\u001b[0;34m.\u001b[0m\u001b[0m_kwarg\u001b[0m\u001b[0;34m]\u001b[0m \u001b[0;34m=\u001b[0m \u001b[0mvalue\u001b[0m\u001b[0;34m\u001b[0m\u001b[0;34m\u001b[0m\u001b[0m\n\u001b[0;32m--> 256\u001b[0;31m                 \u001b[0mself\u001b[0m\u001b[0;34m.\u001b[0m\u001b[0mresult\u001b[0m \u001b[0;34m=\u001b[0m \u001b[0mself\u001b[0m\u001b[0;34m.\u001b[0m\u001b[0mf\u001b[0m\u001b[0;34m(\u001b[0m\u001b[0;34m**\u001b[0m\u001b[0mself\u001b[0m\u001b[0;34m.\u001b[0m\u001b[0mkwargs\u001b[0m\u001b[0;34m)\u001b[0m\u001b[0;34m\u001b[0m\u001b[0;34m\u001b[0m\u001b[0m\n\u001b[0m\u001b[1;32m    257\u001b[0m                 \u001b[0mshow_inline_matplotlib_plots\u001b[0m\u001b[0;34m(\u001b[0m\u001b[0;34m)\u001b[0m\u001b[0;34m\u001b[0m\u001b[0;34m\u001b[0m\u001b[0m\n\u001b[1;32m    258\u001b[0m                 \u001b[0;32mif\u001b[0m \u001b[0mself\u001b[0m\u001b[0;34m.\u001b[0m\u001b[0mauto_display\u001b[0m \u001b[0;32mand\u001b[0m \u001b[0mself\u001b[0m\u001b[0;34m.\u001b[0m\u001b[0mresult\u001b[0m \u001b[0;32mis\u001b[0m \u001b[0;32mnot\u001b[0m \u001b[0;32mNone\u001b[0m\u001b[0;34m:\u001b[0m\u001b[0;34m\u001b[0m\u001b[0;34m\u001b[0m\u001b[0m\n",
          "\u001b[0;32m<ipython-input-29-fa745a0e5d2e>\u001b[0m in \u001b[0;36mshow_cities\u001b[0;34m(city)\u001b[0m\n\u001b[1;32m      1\u001b[0m \u001b[0;34m@\u001b[0m\u001b[0minteract\u001b[0m\u001b[0;34m\u001b[0m\u001b[0;34m\u001b[0m\u001b[0m\n\u001b[1;32m      2\u001b[0m \u001b[0;32mdef\u001b[0m \u001b[0mshow_cities\u001b[0m\u001b[0;34m(\u001b[0m\u001b[0mcity\u001b[0m\u001b[0;34m=\u001b[0m\u001b[0mcities\u001b[0m\u001b[0;34m(\u001b[0m\u001b[0mstate\u001b[0m\u001b[0;34m=\u001b[0m\u001b[0mselected_state\u001b[0m\u001b[0;34m)\u001b[0m\u001b[0;34m)\u001b[0m\u001b[0;34m:\u001b[0m\u001b[0;34m\u001b[0m\u001b[0;34m\u001b[0m\u001b[0m\n\u001b[0;32m----> 3\u001b[0;31m     \u001b[0mprint\u001b[0m\u001b[0;34m(\u001b[0m\u001b[0mstate\u001b[0m\u001b[0;34m)\u001b[0m\u001b[0;34m\u001b[0m\u001b[0;34m\u001b[0m\u001b[0m\n\u001b[0m\u001b[1;32m      4\u001b[0m     \u001b[0mprint\u001b[0m\u001b[0;34m(\u001b[0m\u001b[0;34mf'You selected {city}'\u001b[0m\u001b[0;34m)\u001b[0m\u001b[0;34m\u001b[0m\u001b[0;34m\u001b[0m\u001b[0m\n",
          "\u001b[0;31mNameError\u001b[0m: name 'state' is not defined"
         ]
        }
       ]
      }
     },
     "307ac891de31442b9845f8b08b84ce97": {
      "model_module": "@jupyter-widgets/controls",
      "model_module_version": "1.5.0",
      "model_name": "DropdownModel",
      "state": {
       "_options_labels": [
        "Sao Paulo",
        "Minas Gerais",
        "Acre"
       ],
       "description": "states",
       "index": 0,
       "layout": "IPY_MODEL_ebdb2e3f7dad4dc6861cb23257ebeeaa",
       "style": "IPY_MODEL_c197dbaf35274dc8a7140af7f3f5c749"
      }
     },
     "307f0e0e6d43493f9ab35d718f52ce8e": {
      "model_module": "@jupyter-widgets/controls",
      "model_module_version": "1.5.0",
      "model_name": "DescriptionStyleModel",
      "state": {
       "description_width": ""
      }
     },
     "309bae6b6bab4b488ac7455e387d18e9": {
      "model_module": "@jupyter-widgets/controls",
      "model_module_version": "1.5.0",
      "model_name": "DescriptionStyleModel",
      "state": {
       "description_width": ""
      }
     },
     "310d9d0c5eef4d96b290fa9d18c7a567": {
      "model_module": "@jupyter-widgets/controls",
      "model_module_version": "1.5.0",
      "model_name": "DropdownModel",
      "state": {
       "_options_labels": [
        "Sao Paulo",
        "Minas Gerais",
        "Acre"
       ],
       "index": 1,
       "layout": "IPY_MODEL_7423d64b03524dcfa39bc5070a2254a1",
       "style": "IPY_MODEL_ac8bc9bfad1e4917a1a34b6bba2df3e1"
      }
     },
     "34437451a3034ff0a483fa05f44a4b35": {
      "model_module": "@jupyter-widgets/controls",
      "model_module_version": "1.5.0",
      "model_name": "DropdownModel",
      "state": {
       "_options_labels": [
        "Sao Paulo",
        "Minas Gerais",
        "Acre"
       ],
       "description": "states",
       "index": 0,
       "layout": "IPY_MODEL_5c784af2d840400eabea8b90df83f7a5",
       "style": "IPY_MODEL_ae33d02b09e346c8ac1bf1e110a8588e"
      }
     },
     "35810b6e7c5f482f8778c79fe3935fd1": {
      "model_module": "@jupyter-widgets/controls",
      "model_module_version": "1.5.0",
      "model_name": "DescriptionStyleModel",
      "state": {
       "description_width": ""
      }
     },
     "35f9deced5454a1ebea4d4ef76c2e61e": {
      "model_module": "@jupyter-widgets/base",
      "model_module_version": "1.2.0",
      "model_name": "LayoutModel",
      "state": {}
     },
     "362ba50b306842d8b6c8c82797a72f42": {
      "model_module": "@jupyter-widgets/controls",
      "model_module_version": "1.5.0",
      "model_name": "VBoxModel",
      "state": {
       "_dom_classes": [
        "widget-interact"
       ],
       "children": [
        "IPY_MODEL_8fc47ba4127a436da062ea75b0972a50"
       ],
       "layout": "IPY_MODEL_91eedebe72594fc3a5faea2b87b4e5e2"
      }
     },
     "3719786586d646bebb77c516a189c777": {
      "model_module": "@jupyter-widgets/base",
      "model_module_version": "1.2.0",
      "model_name": "LayoutModel",
      "state": {}
     },
     "37501c6ced0e4714aae18867e18fc79c": {
      "model_module": "@jupyter-widgets/output",
      "model_module_version": "1.0.0",
      "model_name": "OutputModel",
      "state": {
       "layout": "IPY_MODEL_28e3874a56e44e0aa09ea5c5b6ec5607",
       "outputs": [
        {
         "data": {
          "text/plain": "'Acre'"
         },
         "metadata": {},
         "output_type": "display_data"
        }
       ]
      }
     },
     "37858fb07c7a4f7287b295cc3066f63c": {
      "model_module": "@jupyter-widgets/controls",
      "model_module_version": "1.5.0",
      "model_name": "DescriptionStyleModel",
      "state": {
       "description_width": ""
      }
     },
     "37a9035957ce4fc196c8c8d17ee34840": {
      "model_module": "@jupyter-widgets/base",
      "model_module_version": "1.2.0",
      "model_name": "LayoutModel",
      "state": {}
     },
     "38217c52fb9f4995bf3c16210821adde": {
      "model_module": "@jupyter-widgets/controls",
      "model_module_version": "1.5.0",
      "model_name": "VBoxModel",
      "state": {
       "_dom_classes": [
        "widget-interact"
       ],
       "children": [
        "IPY_MODEL_b376b3f8461a4332866b0b2455902486",
        "IPY_MODEL_0107ec82fe6f4258aaf06b0def09a6ab"
       ],
       "layout": "IPY_MODEL_4a7ec3d49e3443cda7261596dda74de9"
      }
     },
     "384b998788eb493ba311928784e19cce": {
      "model_module": "@jupyter-widgets/controls",
      "model_module_version": "1.5.0",
      "model_name": "DescriptionStyleModel",
      "state": {
       "description_width": ""
      }
     },
     "3871ceaa5dfc4ad98c3c7f5e82d9b094": {
      "model_module": "@jupyter-widgets/controls",
      "model_module_version": "1.5.0",
      "model_name": "DescriptionStyleModel",
      "state": {
       "description_width": ""
      }
     },
     "3b0a830ec8464d5ba3541f9a511b090e": {
      "model_module": "@jupyter-widgets/base",
      "model_module_version": "1.2.0",
      "model_name": "LayoutModel",
      "state": {}
     },
     "3bb54e27c3614f4da6ef77c80b8a6995": {
      "model_module": "@jupyter-widgets/controls",
      "model_module_version": "1.5.0",
      "model_name": "DescriptionStyleModel",
      "state": {
       "description_width": ""
      }
     },
     "3bef9670cb2f4c7cbc29b1796d3ba4af": {
      "model_module": "@jupyter-widgets/controls",
      "model_module_version": "1.5.0",
      "model_name": "VBoxModel",
      "state": {
       "_dom_classes": [
        "widget-interact"
       ],
       "children": [
        "IPY_MODEL_ba93841afb3247dd81b71e6cf65a3036",
        "IPY_MODEL_2fa3c66bd9044318b8bb7cc9df9d9daf"
       ],
       "layout": "IPY_MODEL_ef8fd941b6a24ada9ba65d4c44728a55"
      }
     },
     "3c94a0f0328d4b6aac11c47b88814210": {
      "model_module": "@jupyter-widgets/controls",
      "model_module_version": "1.5.0",
      "model_name": "DropdownModel",
      "state": {
       "_options_labels": [
        "Sao Paulo",
        "Minas Gerais",
        "Acre"
       ],
       "index": 0,
       "layout": "IPY_MODEL_d6965ad544c145a2836394a1243d95fb",
       "style": "IPY_MODEL_702c3d71b1ef4954b2a50efd750f409b"
      }
     },
     "3c9dfb564b2a42d9a2176acbc06e1e27": {
      "model_module": "@jupyter-widgets/base",
      "model_module_version": "1.2.0",
      "model_name": "LayoutModel",
      "state": {}
     },
     "3ca191035c4f47918ebe375e4802d0b9": {
      "model_module": "@jupyter-widgets/base",
      "model_module_version": "1.2.0",
      "model_name": "LayoutModel",
      "state": {}
     },
     "3da791b5b71f45fea2946b410373a0ce": {
      "model_module": "@jupyter-widgets/controls",
      "model_module_version": "1.5.0",
      "model_name": "DescriptionStyleModel",
      "state": {
       "description_width": ""
      }
     },
     "3edda677522946d2a03576be7833796d": {
      "model_module": "@jupyter-widgets/controls",
      "model_module_version": "1.5.0",
      "model_name": "DropdownModel",
      "state": {
       "_options_labels": [
        "Sao Paulo",
        "Minas Gerais",
        "Acre"
       ],
       "index": 1,
       "layout": "IPY_MODEL_038c82a01f93462b8e65ec00716a0267",
       "style": "IPY_MODEL_a79c872dde984a5eabdee8ccd3a1e3e9"
      }
     },
     "3f2c8b716f7341dbbf73f020a2b0fccf": {
      "model_module": "@jupyter-widgets/controls",
      "model_module_version": "1.5.0",
      "model_name": "DropdownModel",
      "state": {
       "_options_labels": [
        "UNKNOWN"
       ],
       "index": 0,
       "layout": "IPY_MODEL_be9a2e9738f741cfbf527cf1cbcf183d",
       "style": "IPY_MODEL_766e467eb31a4895964310e69c207521"
      }
     },
     "3ff84a00c1e541ecb77f078afac64c0d": {
      "model_module": "@jupyter-widgets/controls",
      "model_module_version": "1.5.0",
      "model_name": "VBoxModel",
      "state": {
       "_dom_classes": [
        "widget-interact"
       ],
       "children": [
        "IPY_MODEL_9837c46168e44f91be314a79d891cf34",
        "IPY_MODEL_66c2c5f504734db0a946ae667db7de9e"
       ],
       "layout": "IPY_MODEL_bc8555dfbdae45b98d1924eda2387472"
      }
     },
     "401b46369333413f89bbe620104713fd": {
      "model_module": "@jupyter-widgets/output",
      "model_module_version": "1.0.0",
      "model_name": "OutputModel",
      "state": {
       "layout": "IPY_MODEL_c1e8f81762db479d8f62090352ee54ba",
       "outputs": [
        {
         "name": "stdout",
         "output_type": "stream",
         "text": "You selected Minas Gerais\n"
        }
       ]
      }
     },
     "4131003994d14326951fa5e4844efac2": {
      "model_module": "@jupyter-widgets/output",
      "model_module_version": "1.0.0",
      "model_name": "OutputModel",
      "state": {
       "layout": "IPY_MODEL_4a66cd49dc0f48bc91d8d7cbef53bdb6",
       "outputs": [
        {
         "data": {
          "text/plain": "'Minas Gerais'"
         },
         "metadata": {},
         "output_type": "display_data"
        }
       ]
      }
     },
     "428bee2584b64fb4bde17a9ff7b80e4d": {
      "model_module": "@jupyter-widgets/controls",
      "model_module_version": "1.5.0",
      "model_name": "VBoxModel",
      "state": {
       "_dom_classes": [
        "widget-interact"
       ],
       "children": [
        "IPY_MODEL_62d7d929f02c4c51b6611fad2f68df78"
       ],
       "layout": "IPY_MODEL_cf7187bb88b0470486f4aa3da6c0730f"
      }
     },
     "4407367af7a44cc1a9ca7082cec5007d": {
      "model_module": "@jupyter-widgets/base",
      "model_module_version": "1.2.0",
      "model_name": "LayoutModel",
      "state": {}
     },
     "451c819befd747369778fbc4c6c2c60a": {
      "model_module": "@jupyter-widgets/base",
      "model_module_version": "1.2.0",
      "model_name": "LayoutModel",
      "state": {}
     },
     "454e87c6076347ddb5e131d7f1cf3a43": {
      "model_module": "@jupyter-widgets/base",
      "model_module_version": "1.2.0",
      "model_name": "LayoutModel",
      "state": {}
     },
     "46c4916f51f746c381e9c54f8b80e5d3": {
      "model_module": "@jupyter-widgets/controls",
      "model_module_version": "1.5.0",
      "model_name": "DescriptionStyleModel",
      "state": {
       "description_width": ""
      }
     },
     "475d0a09ecbf4947b48dcc05de766b24": {
      "model_module": "@jupyter-widgets/controls",
      "model_module_version": "1.5.0",
      "model_name": "DropdownModel",
      "state": {
       "_options_labels": [
        "Sao Paulo",
        "Minas Gerais",
        "Acre"
       ],
       "description": "states",
       "index": 0,
       "layout": "IPY_MODEL_77c5dcbff84e42cd8c5e449ddf3b168b",
       "style": "IPY_MODEL_4d611621a0f14fcabbcda7e5947aa1ba"
      }
     },
     "48047802e8c549dbb7ce56264c501272": {
      "model_module": "@jupyter-widgets/controls",
      "model_module_version": "1.5.0",
      "model_name": "VBoxModel",
      "state": {
       "_dom_classes": [
        "widget-interact"
       ],
       "children": [
        "IPY_MODEL_4bc41b9c8cd04575a70d5ac78dd9cf7e",
        "IPY_MODEL_2857391b082f49a490d79acbd0dc08e3"
       ],
       "layout": "IPY_MODEL_88aebce3f54f4cf3a718c89b9989c079"
      }
     },
     "480eaec0238b4bcd8385adf856345795": {
      "model_module": "@jupyter-widgets/controls",
      "model_module_version": "1.5.0",
      "model_name": "DescriptionStyleModel",
      "state": {
       "description_width": ""
      }
     },
     "49355f058b9e4d8faff52ab8b0daef91": {
      "model_module": "@jupyter-widgets/controls",
      "model_module_version": "1.5.0",
      "model_name": "VBoxModel",
      "state": {
       "_dom_classes": [
        "widget-interact"
       ],
       "children": [
        "IPY_MODEL_08b17c03e0454b12ab8fd86928bc7975",
        "IPY_MODEL_37501c6ced0e4714aae18867e18fc79c"
       ],
       "layout": "IPY_MODEL_0b6e9f09b21b4544af7d6faa62a03957"
      }
     },
     "4a66cd49dc0f48bc91d8d7cbef53bdb6": {
      "model_module": "@jupyter-widgets/base",
      "model_module_version": "1.2.0",
      "model_name": "LayoutModel",
      "state": {}
     },
     "4a7ec3d49e3443cda7261596dda74de9": {
      "model_module": "@jupyter-widgets/base",
      "model_module_version": "1.2.0",
      "model_name": "LayoutModel",
      "state": {}
     },
     "4adcd33feca348b6a169ad8483b1dbed": {
      "model_module": "@jupyter-widgets/base",
      "model_module_version": "1.2.0",
      "model_name": "LayoutModel",
      "state": {}
     },
     "4b5622a86662417d8190ad62113c8bd2": {
      "model_module": "@jupyter-widgets/controls",
      "model_module_version": "1.5.0",
      "model_name": "DescriptionStyleModel",
      "state": {
       "description_width": ""
      }
     },
     "4bc1b326bbdd450d974b3c2e9d01301b": {
      "model_module": "@jupyter-widgets/controls",
      "model_module_version": "1.5.0",
      "model_name": "DescriptionStyleModel",
      "state": {
       "description_width": ""
      }
     },
     "4bc41b9c8cd04575a70d5ac78dd9cf7e": {
      "model_module": "@jupyter-widgets/controls",
      "model_module_version": "1.5.0",
      "model_name": "DropdownModel",
      "state": {
       "_options_labels": [
        "UNKNOWN"
       ],
       "description": "city",
       "index": 0,
       "layout": "IPY_MODEL_ef0886498df34ca1b5901fafc90048e7",
       "style": "IPY_MODEL_e7ce5d7776654dbab269f236b33b6c63"
      }
     },
     "4c0a20382cc145f38a1bfd007a3d43f3": {
      "model_module": "@jupyter-widgets/base",
      "model_module_version": "1.2.0",
      "model_name": "LayoutModel",
      "state": {}
     },
     "4c9096faba904bfbb5599a9bc61754f1": {
      "model_module": "@jupyter-widgets/output",
      "model_module_version": "1.0.0",
      "model_name": "OutputModel",
      "state": {
       "layout": "IPY_MODEL_d14f2b8c2198409ea548ecbca1c9d5c8",
       "outputs": [
        {
         "name": "stdout",
         "output_type": "stream",
         "text": "You selected Sao Paulo\n"
        }
       ]
      }
     },
     "4cbb73f295484970b0893360b150433d": {
      "model_module": "@jupyter-widgets/controls",
      "model_module_version": "1.5.0",
      "model_name": "DropdownModel",
      "state": {
       "_options_labels": [
        "Sao Paulo",
        "Minas Gerais",
        "Acre"
       ],
       "description": "state",
       "index": 1,
       "layout": "IPY_MODEL_65253ab9156d4466b4a8973e8627e341",
       "style": "IPY_MODEL_35810b6e7c5f482f8778c79fe3935fd1"
      }
     },
     "4cc75abf70dc4574bbbcb0554450e2b4": {
      "model_module": "@jupyter-widgets/base",
      "model_module_version": "1.2.0",
      "model_name": "LayoutModel",
      "state": {}
     },
     "4d611621a0f14fcabbcda7e5947aa1ba": {
      "model_module": "@jupyter-widgets/controls",
      "model_module_version": "1.5.0",
      "model_name": "DescriptionStyleModel",
      "state": {
       "description_width": ""
      }
     },
     "4d6cdabd8a2f4ef680e3eb19e51892ae": {
      "model_module": "@jupyter-widgets/base",
      "model_module_version": "1.2.0",
      "model_name": "LayoutModel",
      "state": {}
     },
     "4f5fa64413514edf886ebc9a9ddc1b6c": {
      "model_module": "@jupyter-widgets/controls",
      "model_module_version": "1.5.0",
      "model_name": "DescriptionStyleModel",
      "state": {
       "description_width": ""
      }
     },
     "4f5ff3668f3a4670b82b27a1490e7746": {
      "model_module": "@jupyter-widgets/base",
      "model_module_version": "1.2.0",
      "model_name": "LayoutModel",
      "state": {}
     },
     "5094cb8ea35c4b28aa47c0b9065d81d8": {
      "model_module": "@jupyter-widgets/base",
      "model_module_version": "1.2.0",
      "model_name": "LayoutModel",
      "state": {}
     },
     "50c986afc8254b7893ba67bdeb7af400": {
      "model_module": "@jupyter-widgets/controls",
      "model_module_version": "1.5.0",
      "model_name": "DropdownModel",
      "state": {
       "_options_labels": [
        "Sao Paulo",
        "Minas Gerais",
        "Acre"
       ],
       "index": 0,
       "layout": "IPY_MODEL_802e51a6d9cc4b41b6ac6d773330d475",
       "style": "IPY_MODEL_ad55e5fbf946472c8d66f3bf28ab4f15"
      }
     },
     "51008aaa4d4940b7ad028ab50873eb69": {
      "model_module": "@jupyter-widgets/controls",
      "model_module_version": "1.5.0",
      "model_name": "ButtonStyleModel",
      "state": {}
     },
     "5109ebc1fe2c40a5b99741585d41b608": {
      "model_module": "@jupyter-widgets/controls",
      "model_module_version": "1.5.0",
      "model_name": "DescriptionStyleModel",
      "state": {
       "description_width": ""
      }
     },
     "520722d8beab426c92444225082a2f45": {
      "model_module": "@jupyter-widgets/base",
      "model_module_version": "1.2.0",
      "model_name": "LayoutModel",
      "state": {}
     },
     "52315566eb0f4620bfbb8858a43a5950": {
      "model_module": "@jupyter-widgets/controls",
      "model_module_version": "1.5.0",
      "model_name": "DescriptionStyleModel",
      "state": {
       "description_width": ""
      }
     },
     "53bf0aae7ef64f72956496869dcf9320": {
      "model_module": "@jupyter-widgets/base",
      "model_module_version": "1.2.0",
      "model_name": "LayoutModel",
      "state": {}
     },
     "53fa88dbbdc84d35ae94f60a4b2bb69e": {
      "model_module": "@jupyter-widgets/controls",
      "model_module_version": "1.5.0",
      "model_name": "DropdownModel",
      "state": {
       "_options_labels": [
        "Sao Paulo",
        "Minas Gerais",
        "Acre"
       ],
       "index": 0,
       "layout": "IPY_MODEL_b6d28105d6d7409d97202dda230705b3",
       "style": "IPY_MODEL_480eaec0238b4bcd8385adf856345795"
      }
     },
     "555ea4d111234f928d884fbedf09955a": {
      "model_module": "@jupyter-widgets/output",
      "model_module_version": "1.0.0",
      "model_name": "OutputModel",
      "state": {
       "layout": "IPY_MODEL_f43980c0aed5415fa43c5201de59e330",
       "outputs": [
        {
         "name": "stdout",
         "output_type": "stream",
         "text": "You selected Sao Paulo\n"
        }
       ]
      }
     },
     "55603b2130834e26ba0b5b3189d4c9e4": {
      "model_module": "@jupyter-widgets/controls",
      "model_module_version": "1.5.0",
      "model_name": "VBoxModel",
      "state": {
       "_dom_classes": [
        "widget-interact"
       ],
       "children": [
        "IPY_MODEL_475d0a09ecbf4947b48dcc05de766b24",
        "IPY_MODEL_62bb5d1ee3a44f03975852e3002984eb"
       ],
       "layout": "IPY_MODEL_7d69b1f15aac425088bc865089a76a50"
      }
     },
     "56a0e7fecd4b4c9faa4360f18939a6cb": {
      "model_module": "@jupyter-widgets/controls",
      "model_module_version": "1.5.0",
      "model_name": "DescriptionStyleModel",
      "state": {
       "description_width": ""
      }
     },
     "580fef0281e94a34b9326e3af12d6a54": {
      "model_module": "@jupyter-widgets/controls",
      "model_module_version": "1.5.0",
      "model_name": "DropdownModel",
      "state": {
       "_options_labels": [
        "Betim",
        "Belo Horizonte"
       ],
       "index": 1,
       "layout": "IPY_MODEL_9611342d9b4a466fb4528b51906dde80",
       "style": "IPY_MODEL_01cf623aa9d6436486fe67fa71aaf501"
      }
     },
     "5844eda9c44648919954df349d809d18": {
      "model_module": "@jupyter-widgets/base",
      "model_module_version": "1.2.0",
      "model_name": "LayoutModel",
      "state": {}
     },
     "5b2bb573e0d749f5b2fffadc25d05b87": {
      "model_module": "@jupyter-widgets/controls",
      "model_module_version": "1.5.0",
      "model_name": "VBoxModel",
      "state": {
       "_dom_classes": [
        "widget-interact"
       ],
       "children": [
        "IPY_MODEL_ddfcdb845bd7434583ad448f80f819ef",
        "IPY_MODEL_c3cda54b0992494dad17413f073e7f56"
       ],
       "layout": "IPY_MODEL_4c0a20382cc145f38a1bfd007a3d43f3"
      }
     },
     "5b454c529dc94cf0a478583a5e462663": {
      "model_module": "@jupyter-widgets/controls",
      "model_module_version": "1.5.0",
      "model_name": "DropdownModel",
      "state": {
       "_options_labels": [
        "Sao Paulo",
        "Minas Gerais",
        "Acre"
       ],
       "index": 0,
       "layout": "IPY_MODEL_f665cf0415f94166b92cd40f18461b97",
       "style": "IPY_MODEL_771129df27324b649882105ae1895bdd"
      }
     },
     "5b4876af87b04f6586c5f10f67084eff": {
      "model_module": "@jupyter-widgets/controls",
      "model_module_version": "1.5.0",
      "model_name": "DropdownModel",
      "state": {
       "_options_labels": [
        "UNKNOWN"
       ],
       "description": "city",
       "index": 0,
       "layout": "IPY_MODEL_03efa45850894a71afd69e98aa7409fc",
       "style": "IPY_MODEL_52315566eb0f4620bfbb8858a43a5950"
      }
     },
     "5b730fb6a705457d995f1c90ee131815": {
      "model_module": "@jupyter-widgets/base",
      "model_module_version": "1.2.0",
      "model_name": "LayoutModel",
      "state": {}
     },
     "5c0037cad32b4097b0688a3a048d5f30": {
      "model_module": "@jupyter-widgets/base",
      "model_module_version": "1.2.0",
      "model_name": "LayoutModel",
      "state": {}
     },
     "5c784af2d840400eabea8b90df83f7a5": {
      "model_module": "@jupyter-widgets/base",
      "model_module_version": "1.2.0",
      "model_name": "LayoutModel",
      "state": {}
     },
     "5c8075892cc3438dab33f525f5e85bd4": {
      "model_module": "@jupyter-widgets/base",
      "model_module_version": "1.2.0",
      "model_name": "LayoutModel",
      "state": {}
     },
     "5cc30d68300f41eb9f9be54b30bcf4ca": {
      "model_module": "@jupyter-widgets/controls",
      "model_module_version": "1.5.0",
      "model_name": "DropdownModel",
      "state": {
       "_options_labels": [
        "Sao Paulo",
        "Minas Gerais",
        "Acre"
       ],
       "index": 2,
       "layout": "IPY_MODEL_286c233cae014f849c0fce240dec45a5",
       "style": "IPY_MODEL_4bc1b326bbdd450d974b3c2e9d01301b"
      }
     },
     "5d9d2ce4ac7648f2b1bfaf091918e7eb": {
      "model_module": "@jupyter-widgets/base",
      "model_module_version": "1.2.0",
      "model_name": "LayoutModel",
      "state": {}
     },
     "5de1bfee6d75446fa98df0f3d725b45e": {
      "model_module": "@jupyter-widgets/output",
      "model_module_version": "1.0.0",
      "model_name": "OutputModel",
      "state": {
       "layout": "IPY_MODEL_ced9b512d9fa431b82a3eddbe7cbe5ed"
      }
     },
     "5e009fa40e934db0bc254487b445bd97": {
      "model_module": "@jupyter-widgets/base",
      "model_module_version": "1.2.0",
      "model_name": "LayoutModel",
      "state": {}
     },
     "5e0f64fe98754664b321bade2e9cfc94": {
      "model_module": "@jupyter-widgets/base",
      "model_module_version": "1.2.0",
      "model_name": "LayoutModel",
      "state": {}
     },
     "6053367d88784d6bb67f55dec4e1553d": {
      "model_module": "@jupyter-widgets/controls",
      "model_module_version": "1.5.0",
      "model_name": "DescriptionStyleModel",
      "state": {
       "description_width": ""
      }
     },
     "62aba3d22b1d47f4bf3f15c3ad922bce": {
      "model_module": "@jupyter-widgets/controls",
      "model_module_version": "1.5.0",
      "model_name": "DropdownModel",
      "state": {
       "_options_labels": [
        "Sao Paulo",
        "Minas Gerais",
        "Acre"
       ],
       "index": 0,
       "layout": "IPY_MODEL_ac3524796bdd4abaa0232884caa77c0e",
       "style": "IPY_MODEL_f4f910118191408e85096f1547e7cb09"
      }
     },
     "62bb5d1ee3a44f03975852e3002984eb": {
      "model_module": "@jupyter-widgets/output",
      "model_module_version": "1.0.0",
      "model_name": "OutputModel",
      "state": {
       "layout": "IPY_MODEL_8b0bfae4e0214f57954450b0d3c5e1f4"
      }
     },
     "62d7d929f02c4c51b6611fad2f68df78": {
      "model_module": "@jupyter-widgets/output",
      "model_module_version": "1.0.0",
      "model_name": "OutputModel",
      "state": {
       "layout": "IPY_MODEL_685a9c8d8ed344f2ad179624fc4fb757",
       "outputs": [
        {
         "data": {
          "text/plain": "['Sao Paulo', 'Minas Gerais', 'Acre']"
         },
         "metadata": {},
         "output_type": "display_data"
        }
       ]
      }
     },
     "644bb365d77447c8965aad79e5524089": {
      "model_module": "@jupyter-widgets/base",
      "model_module_version": "1.2.0",
      "model_name": "LayoutModel",
      "state": {}
     },
     "6494651d1de846d38c85f50ce0ebb4df": {
      "model_module": "@jupyter-widgets/controls",
      "model_module_version": "1.5.0",
      "model_name": "DropdownModel",
      "state": {
       "_options_labels": [
        "Sao Paulo",
        "Minas Gerais",
        "Acre"
       ],
       "index": 1,
       "layout": "IPY_MODEL_f23ed0e8b2fa4a05912639d80c9c9c19",
       "style": "IPY_MODEL_ed5c24d1abae441a84752391042f0b8f"
      }
     },
     "65253ab9156d4466b4a8973e8627e341": {
      "model_module": "@jupyter-widgets/base",
      "model_module_version": "1.2.0",
      "model_name": "LayoutModel",
      "state": {}
     },
     "66500dc0d5be4b7082c1289dcfacf51f": {
      "model_module": "@jupyter-widgets/controls",
      "model_module_version": "1.5.0",
      "model_name": "DescriptionStyleModel",
      "state": {
       "description_width": ""
      }
     },
     "665d309cd3014f2493f3b426ec523a3a": {
      "model_module": "@jupyter-widgets/controls",
      "model_module_version": "1.5.0",
      "model_name": "DescriptionStyleModel",
      "state": {
       "description_width": ""
      }
     },
     "666ae058cbdd46f49b3c0193a60a0ac3": {
      "model_module": "@jupyter-widgets/base",
      "model_module_version": "1.2.0",
      "model_name": "LayoutModel",
      "state": {}
     },
     "66c2c5f504734db0a946ae667db7de9e": {
      "model_module": "@jupyter-widgets/output",
      "model_module_version": "1.0.0",
      "model_name": "OutputModel",
      "state": {
       "layout": "IPY_MODEL_f4692d288d284abda3e66a3e1363f543",
       "outputs": [
        {
         "name": "stdout",
         "output_type": "stream",
         "text": "You selected Acre\n"
        }
       ]
      }
     },
     "670c2bc79b9347f6a29a2e647d36bf74": {
      "model_module": "@jupyter-widgets/controls",
      "model_module_version": "1.5.0",
      "model_name": "DropdownModel",
      "state": {
       "_options_labels": [
        "Sao Paulo",
        "Minas Gerais",
        "Acre"
       ],
       "description": "state",
       "index": 1,
       "layout": "IPY_MODEL_7b3ef9cfbd9e4ba4828ce5fb8ecdd797",
       "style": "IPY_MODEL_384b998788eb493ba311928784e19cce"
      }
     },
     "6770919d57874689b55d382494e746d7": {
      "model_module": "@jupyter-widgets/controls",
      "model_module_version": "1.5.0",
      "model_name": "DropdownModel",
      "state": {
       "_options_labels": [
        "Sao Paulo",
        "Campinas",
        "Barretos"
       ],
       "index": 2,
       "layout": "IPY_MODEL_520722d8beab426c92444225082a2f45",
       "style": "IPY_MODEL_efcaab76b86b45529ce4f940ec4f03e6"
      }
     },
     "6794663c83ab4e8abf870d8af464d6e4": {
      "model_module": "@jupyter-widgets/base",
      "model_module_version": "1.2.0",
      "model_name": "LayoutModel",
      "state": {}
     },
     "67ee1359fce24d7a83bb91ea583feda8": {
      "model_module": "@jupyter-widgets/controls",
      "model_module_version": "1.5.0",
      "model_name": "DropdownModel",
      "state": {
       "_options_labels": [
        "Sao Paulo",
        "Minas Gerais",
        "Acre"
       ],
       "index": 0,
       "layout": "IPY_MODEL_53bf0aae7ef64f72956496869dcf9320",
       "style": "IPY_MODEL_df0cccffa4e646dc982d07cebd09b5be"
      }
     },
     "685a9c8d8ed344f2ad179624fc4fb757": {
      "model_module": "@jupyter-widgets/base",
      "model_module_version": "1.2.0",
      "model_name": "LayoutModel",
      "state": {}
     },
     "6b39ccde820f4ec38674b497bb5b06aa": {
      "model_module": "@jupyter-widgets/base",
      "model_module_version": "1.2.0",
      "model_name": "LayoutModel",
      "state": {}
     },
     "6c2a3f8ebcde4e92b1fca79acab1fdaf": {
      "model_module": "@jupyter-widgets/controls",
      "model_module_version": "1.5.0",
      "model_name": "VBoxModel",
      "state": {
       "_dom_classes": [
        "widget-interact"
       ],
       "children": [
        "IPY_MODEL_afe6f4cad7f54b6c9e917db65db560e8",
        "IPY_MODEL_a1436a39a99b4f10be1bd5ba3d84b923"
       ],
       "layout": "IPY_MODEL_f49c5712914c4368b02a72e7a951488e"
      }
     },
     "6de4ce25f61f439181918a2e232da3a5": {
      "model_module": "@jupyter-widgets/controls",
      "model_module_version": "1.5.0",
      "model_name": "ButtonModel",
      "state": {
       "description": "Submit Job",
       "layout": "IPY_MODEL_fb94f584503a468f944962a8d0a21937",
       "style": "IPY_MODEL_a4fe1ed8e45a4d74a12ce87c332b1928",
       "tooltip": "This will use Jenkins API with the auth settings..."
      }
     },
     "6eaa7b82dc9e49e39141adfad87dbb8f": {
      "model_module": "@jupyter-widgets/base",
      "model_module_version": "1.2.0",
      "model_name": "LayoutModel",
      "state": {}
     },
     "6f0268952c84436389bc785f029917d7": {
      "model_module": "@jupyter-widgets/controls",
      "model_module_version": "1.5.0",
      "model_name": "DropdownModel",
      "state": {
       "index": null,
       "layout": "IPY_MODEL_35f9deced5454a1ebea4d4ef76c2e61e",
       "style": "IPY_MODEL_28c7726459c94cc7a4633f21fecfa4e2"
      }
     },
     "6ffb63e09fbf4fee93ed1dbd822e5229": {
      "model_module": "@jupyter-widgets/controls",
      "model_module_version": "1.5.0",
      "model_name": "DropdownModel",
      "state": {
       "_options_labels": [
        "Sao Paulo",
        "Minas Gerais",
        "Acre"
       ],
       "description": "state",
       "index": 0,
       "layout": "IPY_MODEL_c56c8999869d4776900888852071c315",
       "style": "IPY_MODEL_0bc125a272dd436eb0ae0685d6f62f54"
      }
     },
     "702c3d71b1ef4954b2a50efd750f409b": {
      "model_module": "@jupyter-widgets/controls",
      "model_module_version": "1.5.0",
      "model_name": "DescriptionStyleModel",
      "state": {
       "description_width": ""
      }
     },
     "70a7630877234f9e9e3f4e356a9a609f": {
      "model_module": "@jupyter-widgets/controls",
      "model_module_version": "1.5.0",
      "model_name": "DropdownModel",
      "state": {
       "index": null,
       "layout": "IPY_MODEL_4adcd33feca348b6a169ad8483b1dbed",
       "style": "IPY_MODEL_125db365a2d04d88a3caeb6f2fc95fc1"
      }
     },
     "71d55d1ba25946c3a5283423aa39aad9": {
      "model_module": "@jupyter-widgets/base",
      "model_module_version": "1.2.0",
      "model_name": "LayoutModel",
      "state": {}
     },
     "72aa00e3ae6348808c7773106d8b7c51": {
      "model_module": "@jupyter-widgets/controls",
      "model_module_version": "1.5.0",
      "model_name": "DropdownModel",
      "state": {
       "_options_labels": [
        "Sao Paulo",
        "Minas Gerais",
        "Acre"
       ],
       "index": 0,
       "layout": "IPY_MODEL_f72e948e0d044b85bd50d653e4029867",
       "style": "IPY_MODEL_3bb54e27c3614f4da6ef77c80b8a6995"
      }
     },
     "735d413d73e14b18b263a22ec2b7fede": {
      "model_module": "@jupyter-widgets/controls",
      "model_module_version": "1.5.0",
      "model_name": "DropdownModel",
      "state": {
       "_options_labels": [
        "Sao Paulo",
        "Campinas",
        "Barretos"
       ],
       "index": 0,
       "layout": "IPY_MODEL_5c0037cad32b4097b0688a3a048d5f30",
       "style": "IPY_MODEL_d242c96e7b4b44679974887768795460"
      }
     },
     "7423d64b03524dcfa39bc5070a2254a1": {
      "model_module": "@jupyter-widgets/base",
      "model_module_version": "1.2.0",
      "model_name": "LayoutModel",
      "state": {}
     },
     "7473bf774eb84771b4dd62785c85a1c5": {
      "model_module": "@jupyter-widgets/controls",
      "model_module_version": "1.5.0",
      "model_name": "DropdownModel",
      "state": {
       "index": null,
       "layout": "IPY_MODEL_5b730fb6a705457d995f1c90ee131815",
       "style": "IPY_MODEL_24007ffffb394ad28f9f013dea6992e8"
      }
     },
     "75467293da1b49638e3ffee0809e6de0": {
      "model_module": "@jupyter-widgets/controls",
      "model_module_version": "1.5.0",
      "model_name": "DescriptionStyleModel",
      "state": {
       "description_width": ""
      }
     },
     "766e467eb31a4895964310e69c207521": {
      "model_module": "@jupyter-widgets/controls",
      "model_module_version": "1.5.0",
      "model_name": "DescriptionStyleModel",
      "state": {
       "description_width": ""
      }
     },
     "76970bd937dc4a20a34f37a15703a2bf": {
      "model_module": "@jupyter-widgets/output",
      "model_module_version": "1.0.0",
      "model_name": "OutputModel",
      "state": {
       "layout": "IPY_MODEL_f8a2537201004d2488d0753593be1f0c",
       "outputs": [
        {
         "ename": "TypeError",
         "evalue": "'Dropdown' object is not callable",
         "output_type": "error",
         "traceback": [
          "\u001b[0;31m---------------------------------------------------------------------------\u001b[0m",
          "\u001b[0;31mTypeError\u001b[0m                                 Traceback (most recent call last)",
          "\u001b[0;32m~/Development/python/workspace/notebooks/venv/lib/python3.7/site-packages/ipywidgets/widgets/interaction.py\u001b[0m in \u001b[0;36mupdate\u001b[0;34m(self, *args)\u001b[0m\n\u001b[1;32m    254\u001b[0m                     \u001b[0mvalue\u001b[0m \u001b[0;34m=\u001b[0m \u001b[0mwidget\u001b[0m\u001b[0;34m.\u001b[0m\u001b[0mget_interact_value\u001b[0m\u001b[0;34m(\u001b[0m\u001b[0;34m)\u001b[0m\u001b[0;34m\u001b[0m\u001b[0;34m\u001b[0m\u001b[0m\n\u001b[1;32m    255\u001b[0m                     \u001b[0mself\u001b[0m\u001b[0;34m.\u001b[0m\u001b[0mkwargs\u001b[0m\u001b[0;34m[\u001b[0m\u001b[0mwidget\u001b[0m\u001b[0;34m.\u001b[0m\u001b[0m_kwarg\u001b[0m\u001b[0;34m]\u001b[0m \u001b[0;34m=\u001b[0m \u001b[0mvalue\u001b[0m\u001b[0;34m\u001b[0m\u001b[0;34m\u001b[0m\u001b[0m\n\u001b[0;32m--> 256\u001b[0;31m                 \u001b[0mself\u001b[0m\u001b[0;34m.\u001b[0m\u001b[0mresult\u001b[0m \u001b[0;34m=\u001b[0m \u001b[0mself\u001b[0m\u001b[0;34m.\u001b[0m\u001b[0mf\u001b[0m\u001b[0;34m(\u001b[0m\u001b[0;34m**\u001b[0m\u001b[0mself\u001b[0m\u001b[0;34m.\u001b[0m\u001b[0mkwargs\u001b[0m\u001b[0;34m)\u001b[0m\u001b[0;34m\u001b[0m\u001b[0;34m\u001b[0m\u001b[0m\n\u001b[0m\u001b[1;32m    257\u001b[0m                 \u001b[0mshow_inline_matplotlib_plots\u001b[0m\u001b[0;34m(\u001b[0m\u001b[0;34m)\u001b[0m\u001b[0;34m\u001b[0m\u001b[0;34m\u001b[0m\u001b[0m\n\u001b[1;32m    258\u001b[0m                 \u001b[0;32mif\u001b[0m \u001b[0mself\u001b[0m\u001b[0;34m.\u001b[0m\u001b[0mauto_display\u001b[0m \u001b[0;32mand\u001b[0m \u001b[0mself\u001b[0m\u001b[0;34m.\u001b[0m\u001b[0mresult\u001b[0m \u001b[0;32mis\u001b[0m \u001b[0;32mnot\u001b[0m \u001b[0;32mNone\u001b[0m\u001b[0;34m:\u001b[0m\u001b[0;34m\u001b[0m\u001b[0;34m\u001b[0m\u001b[0m\n",
          "\u001b[0;31mTypeError\u001b[0m: 'Dropdown' object is not callable"
         ]
        }
       ]
      }
     },
     "771129df27324b649882105ae1895bdd": {
      "model_module": "@jupyter-widgets/controls",
      "model_module_version": "1.5.0",
      "model_name": "DescriptionStyleModel",
      "state": {
       "description_width": ""
      }
     },
     "771de212e87d488e9aa8b5227fc5a9fc": {
      "model_module": "@jupyter-widgets/controls",
      "model_module_version": "1.5.0",
      "model_name": "DropdownModel",
      "state": {
       "_options_labels": [
        "Sao Paulo",
        "Campinas",
        "Barretos"
       ],
       "description": "city",
       "index": 0,
       "layout": "IPY_MODEL_d31d17ab2fec4a388fa380eaef029291",
       "style": "IPY_MODEL_66500dc0d5be4b7082c1289dcfacf51f"
      }
     },
     "77514c0865ed4634a0a40d7cc7ec25b1": {
      "model_module": "@jupyter-widgets/base",
      "model_module_version": "1.2.0",
      "model_name": "LayoutModel",
      "state": {}
     },
     "77c5dcbff84e42cd8c5e449ddf3b168b": {
      "model_module": "@jupyter-widgets/base",
      "model_module_version": "1.2.0",
      "model_name": "LayoutModel",
      "state": {}
     },
     "782bb764798343cab6a53a3264b2e6f6": {
      "model_module": "@jupyter-widgets/controls",
      "model_module_version": "1.5.0",
      "model_name": "DescriptionStyleModel",
      "state": {
       "description_width": ""
      }
     },
     "788aa81b567346bf9fd3becc08eb9818": {
      "model_module": "@jupyter-widgets/controls",
      "model_module_version": "1.5.0",
      "model_name": "DropdownModel",
      "state": {
       "_options_labels": [
        "Sao Paulo",
        "Minas Gerais",
        "Acre"
       ],
       "index": 1,
       "layout": "IPY_MODEL_fbd20d8772cc443fb25e4f86c1074d02",
       "style": "IPY_MODEL_9b20eee1458743d0827de5888f0cac32"
      }
     },
     "79b44dae15b94f8090956755eb8531e5": {
      "model_module": "@jupyter-widgets/controls",
      "model_module_version": "1.5.0",
      "model_name": "DescriptionStyleModel",
      "state": {
       "description_width": ""
      }
     },
     "79c92371503a44339aee467a245436ae": {
      "model_module": "@jupyter-widgets/base",
      "model_module_version": "1.2.0",
      "model_name": "LayoutModel",
      "state": {}
     },
     "79dfbdef4d704f3092c27eabcd993fb4": {
      "model_module": "@jupyter-widgets/controls",
      "model_module_version": "1.5.0",
      "model_name": "DescriptionStyleModel",
      "state": {
       "description_width": ""
      }
     },
     "7b3ef9cfbd9e4ba4828ce5fb8ecdd797": {
      "model_module": "@jupyter-widgets/base",
      "model_module_version": "1.2.0",
      "model_name": "LayoutModel",
      "state": {}
     },
     "7c79558446f9403d83e60a76f92f36fe": {
      "model_module": "@jupyter-widgets/controls",
      "model_module_version": "1.5.0",
      "model_name": "DropdownModel",
      "state": {
       "_options_labels": [
        "Sao Paulo",
        "Minas Gerais",
        "Acre"
       ],
       "index": 1,
       "layout": "IPY_MODEL_8c522be7788a4cd2ad72983bdd691be0",
       "style": "IPY_MODEL_cae8bd32b6b043c18c00dcb2ccf0f0b8"
      }
     },
     "7d47feb70ac34725b731c627c8bfc645": {
      "model_module": "@jupyter-widgets/controls",
      "model_module_version": "1.5.0",
      "model_name": "DropdownModel",
      "state": {
       "_options_labels": [
        "Betim",
        "Belo Horizonte"
       ],
       "index": 0,
       "layout": "IPY_MODEL_6794663c83ab4e8abf870d8af464d6e4",
       "style": "IPY_MODEL_f04c732aa19a47eb9d5b678f76f98ec5"
      }
     },
     "7d69b1f15aac425088bc865089a76a50": {
      "model_module": "@jupyter-widgets/base",
      "model_module_version": "1.2.0",
      "model_name": "LayoutModel",
      "state": {}
     },
     "7d9feb2feb9e4252a452f3a21afd4152": {
      "model_module": "@jupyter-widgets/controls",
      "model_module_version": "1.5.0",
      "model_name": "VBoxModel",
      "state": {
       "_dom_classes": [
        "widget-interact"
       ],
       "children": [
        "IPY_MODEL_fb57537faa6340a39c68e7d144982f24",
        "IPY_MODEL_cd13db27dcfa4c889cb697f16fb0f240"
       ],
       "layout": "IPY_MODEL_1906d4b9bc6c44feb55ced039aadc25d"
      }
     },
     "7f7d0ae483c347f0ae5f315a06919d3f": {
      "model_module": "@jupyter-widgets/base",
      "model_module_version": "1.2.0",
      "model_name": "LayoutModel",
      "state": {}
     },
     "802e51a6d9cc4b41b6ac6d773330d475": {
      "model_module": "@jupyter-widgets/base",
      "model_module_version": "1.2.0",
      "model_name": "LayoutModel",
      "state": {}
     },
     "804f1783661b44efb500a7a0926123b6": {
      "model_module": "@jupyter-widgets/controls",
      "model_module_version": "1.5.0",
      "model_name": "DropdownModel",
      "state": {
       "_options_labels": [
        "Sao Paulo",
        "Minas Gerais",
        "Acre"
       ],
       "description": "state",
       "index": 0,
       "layout": "IPY_MODEL_9ed91654d9894b1ba015b9d9abc21d06",
       "style": "IPY_MODEL_75467293da1b49638e3ffee0809e6de0"
      }
     },
     "805237d3d344474e87ee17fe56a4d8ce": {
      "model_module": "@jupyter-widgets/base",
      "model_module_version": "1.2.0",
      "model_name": "LayoutModel",
      "state": {}
     },
     "805d7db4075e428693070908278215b4": {
      "model_module": "@jupyter-widgets/base",
      "model_module_version": "1.2.0",
      "model_name": "LayoutModel",
      "state": {}
     },
     "81eb153ae0ac4ecd8b4518373a07bd42": {
      "model_module": "@jupyter-widgets/base",
      "model_module_version": "1.2.0",
      "model_name": "LayoutModel",
      "state": {}
     },
     "822eb66cf53147e9a268b71f7cb1ad76": {
      "model_module": "@jupyter-widgets/controls",
      "model_module_version": "1.5.0",
      "model_name": "DescriptionStyleModel",
      "state": {
       "description_width": ""
      }
     },
     "82f8845ca1ef4360930c66fe5e732593": {
      "model_module": "@jupyter-widgets/controls",
      "model_module_version": "1.5.0",
      "model_name": "DropdownModel",
      "state": {
       "_options_labels": [
        "Sao Paulo",
        "Minas Gerais",
        "Acre"
       ],
       "index": 0,
       "layout": "IPY_MODEL_aca261d48dd14c2abf8fc59145d4b40f",
       "style": "IPY_MODEL_ab716f437c1843e9a22f8eb38676a698"
      }
     },
     "831efe9f7afc40d58e62be15fb41dca1": {
      "model_module": "@jupyter-widgets/base",
      "model_module_version": "1.2.0",
      "model_name": "LayoutModel",
      "state": {}
     },
     "83a36a7c51bc41e4b65a35da92f3acf1": {
      "model_module": "@jupyter-widgets/controls",
      "model_module_version": "1.5.0",
      "model_name": "DescriptionStyleModel",
      "state": {
       "description_width": ""
      }
     },
     "85015d219a1b418c9e4ea476e36f6d59": {
      "model_module": "@jupyter-widgets/base",
      "model_module_version": "1.2.0",
      "model_name": "LayoutModel",
      "state": {}
     },
     "851353bc37ac421e9e9d5f7019b4a371": {
      "model_module": "@jupyter-widgets/base",
      "model_module_version": "1.2.0",
      "model_name": "LayoutModel",
      "state": {}
     },
     "85961c29a2694e65b29436a56b31e178": {
      "model_module": "@jupyter-widgets/base",
      "model_module_version": "1.2.0",
      "model_name": "LayoutModel",
      "state": {}
     },
     "85d8848b85ea437cae373283e242864e": {
      "model_module": "@jupyter-widgets/controls",
      "model_module_version": "1.5.0",
      "model_name": "DescriptionStyleModel",
      "state": {
       "description_width": ""
      }
     },
     "865d49437c2c4f32a6cef9e1b407065d": {
      "model_module": "@jupyter-widgets/controls",
      "model_module_version": "1.5.0",
      "model_name": "VBoxModel",
      "state": {
       "_dom_classes": [
        "widget-interact"
       ],
       "children": [
        "IPY_MODEL_2866e1340ba244dd9d482543283779f0",
        "IPY_MODEL_eb663363c2d94270b40f9cd41d14203e"
       ],
       "layout": "IPY_MODEL_fbe1793b71754ce4a6e4e978b920d959"
      }
     },
     "86dfef653d3f46538c095f678c556747": {
      "model_module": "@jupyter-widgets/output",
      "model_module_version": "1.0.0",
      "model_name": "OutputModel",
      "state": {
       "layout": "IPY_MODEL_c8cc9bb3340441a68359e33b8e2f288b",
       "outputs": [
        {
         "data": {
          "text/plain": "'Minas Gerais'"
         },
         "metadata": {},
         "output_type": "display_data"
        },
        {
         "name": "stdout",
         "output_type": "stream",
         "text": "You selected None\n"
        }
       ]
      }
     },
     "87b0c3b753ac4c6480aa5196ada99143": {
      "model_module": "@jupyter-widgets/controls",
      "model_module_version": "1.5.0",
      "model_name": "DropdownModel",
      "state": {
       "_options_labels": [
        "Sao Paulo",
        "Minas Gerais",
        "Acre"
       ],
       "description": "state",
       "index": 0,
       "layout": "IPY_MODEL_805237d3d344474e87ee17fe56a4d8ce",
       "style": "IPY_MODEL_1e62baebf87d43f0abf936399e960a0c"
      }
     },
     "88aebce3f54f4cf3a718c89b9989c079": {
      "model_module": "@jupyter-widgets/base",
      "model_module_version": "1.2.0",
      "model_name": "LayoutModel",
      "state": {}
     },
     "8980f75ebeb14535b8899d1399a3e22a": {
      "model_module": "@jupyter-widgets/base",
      "model_module_version": "1.2.0",
      "model_name": "LayoutModel",
      "state": {}
     },
     "89af78daad6b494e81ed459be601dbe4": {
      "model_module": "@jupyter-widgets/controls",
      "model_module_version": "1.5.0",
      "model_name": "ButtonModel",
      "state": {
       "description": "Submit Job",
       "layout": "IPY_MODEL_d8000d36aadb45d890f12e5958e9b044",
       "style": "IPY_MODEL_51008aaa4d4940b7ad028ab50873eb69",
       "tooltip": "This will use Jenkins API with the auth settings..."
      }
     },
     "89b5f83a5de944abb497887252029dc4": {
      "model_module": "@jupyter-widgets/controls",
      "model_module_version": "1.5.0",
      "model_name": "VBoxModel",
      "state": {
       "_dom_classes": [
        "widget-interact"
       ],
       "children": [
        "IPY_MODEL_771de212e87d488e9aa8b5227fc5a9fc",
        "IPY_MODEL_e862fe049db64aa69202a6316017eb2c"
       ],
       "layout": "IPY_MODEL_afef807f9ce547b28cc53f11aaf96a4e"
      }
     },
     "8a1420e01c6e49418c77d3c28d9129fc": {
      "model_module": "@jupyter-widgets/controls",
      "model_module_version": "1.5.0",
      "model_name": "DropdownModel",
      "state": {
       "_options_labels": [
        "Sao Paulo",
        "Campinas",
        "Barretos"
       ],
       "description": "city",
       "index": 0,
       "layout": "IPY_MODEL_451c819befd747369778fbc4c6c2c60a",
       "style": "IPY_MODEL_1834e51c2fec4a12a7c98e2147b682bf"
      }
     },
     "8a47d90079044a3796460ca686316d5a": {
      "model_module": "@jupyter-widgets/base",
      "model_module_version": "1.2.0",
      "model_name": "LayoutModel",
      "state": {}
     },
     "8b0bfae4e0214f57954450b0d3c5e1f4": {
      "model_module": "@jupyter-widgets/base",
      "model_module_version": "1.2.0",
      "model_name": "LayoutModel",
      "state": {}
     },
     "8c522be7788a4cd2ad72983bdd691be0": {
      "model_module": "@jupyter-widgets/base",
      "model_module_version": "1.2.0",
      "model_name": "LayoutModel",
      "state": {}
     },
     "8ce3d3d1738b4476a2006d7cca978313": {
      "model_module": "@jupyter-widgets/controls",
      "model_module_version": "1.5.0",
      "model_name": "DescriptionStyleModel",
      "state": {
       "description_width": ""
      }
     },
     "8d345d0d4d3e4127ab56a9d4a77cd6aa": {
      "model_module": "@jupyter-widgets/controls",
      "model_module_version": "1.5.0",
      "model_name": "DropdownModel",
      "state": {
       "_options_labels": [
        "UNKNOWN"
       ],
       "index": 0,
       "layout": "IPY_MODEL_0655cfec6c7e417ba8ecc319a32e74da",
       "style": "IPY_MODEL_0f6ab79a12a34a21b60630315cbf93c6"
      }
     },
     "8e42d747bebb4b63b535aa04189b9ffd": {
      "model_module": "@jupyter-widgets/base",
      "model_module_version": "1.2.0",
      "model_name": "LayoutModel",
      "state": {}
     },
     "8f85043423ff4b7da725a56e7e950d84": {
      "model_module": "@jupyter-widgets/controls",
      "model_module_version": "1.5.0",
      "model_name": "DropdownModel",
      "state": {
       "_options_labels": [
        "UNKNOWN"
       ],
       "index": 0,
       "layout": "IPY_MODEL_16abd60393c84317975d1330d98556a4",
       "style": "IPY_MODEL_e3e81c9035144cc29a1380039ef9ce82"
      }
     },
     "8fc47ba4127a436da062ea75b0972a50": {
      "model_module": "@jupyter-widgets/output",
      "model_module_version": "1.0.0",
      "model_name": "OutputModel",
      "state": {
       "layout": "IPY_MODEL_3ca191035c4f47918ebe375e4802d0b9",
       "outputs": [
        {
         "data": {
          "text/plain": "['Sao Paulo', 'Minas Gerais', 'Acre']"
         },
         "metadata": {},
         "output_type": "display_data"
        }
       ]
      }
     },
     "90795e703b514841b301d6aa3ed696c8": {
      "model_module": "@jupyter-widgets/base",
      "model_module_version": "1.2.0",
      "model_name": "LayoutModel",
      "state": {}
     },
     "909a2bfb98b0447494b50287c184e366": {
      "model_module": "@jupyter-widgets/controls",
      "model_module_version": "1.5.0",
      "model_name": "DropdownModel",
      "state": {
       "_options_labels": [
        "Sao Paulo",
        "Minas Gerais",
        "Acre"
       ],
       "index": 2,
       "layout": "IPY_MODEL_9cf1d80e2369403f8b76d24fc45282a0",
       "style": "IPY_MODEL_83a36a7c51bc41e4b65a35da92f3acf1"
      }
     },
     "90d8dfdef5184722abf2fd01bbb866e4": {
      "model_module": "@jupyter-widgets/controls",
      "model_module_version": "1.5.0",
      "model_name": "ButtonStyleModel",
      "state": {}
     },
     "91eedebe72594fc3a5faea2b87b4e5e2": {
      "model_module": "@jupyter-widgets/base",
      "model_module_version": "1.2.0",
      "model_name": "LayoutModel",
      "state": {}
     },
     "938f538bd7a145ff82d1c42d20fdea1b": {
      "model_module": "@jupyter-widgets/controls",
      "model_module_version": "1.5.0",
      "model_name": "DescriptionStyleModel",
      "state": {
       "description_width": ""
      }
     },
     "93932edd1c324a7dad4ff01976ff5c74": {
      "model_module": "@jupyter-widgets/controls",
      "model_module_version": "1.5.0",
      "model_name": "DropdownModel",
      "state": {
       "_options_labels": [
        "Sao Paulo",
        "Minas Gerais",
        "Acre"
       ],
       "description": "states",
       "index": 0,
       "layout": "IPY_MODEL_a4de6acf3b59488bbbecba3c4379e6d8",
       "style": "IPY_MODEL_822eb66cf53147e9a268b71f7cb1ad76"
      }
     },
     "943a74e4922648838796ad240ae7fb8c": {
      "model_module": "@jupyter-widgets/controls",
      "model_module_version": "1.5.0",
      "model_name": "DropdownModel",
      "state": {
       "_options_labels": [
        "Sao Paulo",
        "Minas Gerais",
        "Acre"
       ],
       "index": 1,
       "layout": "IPY_MODEL_d5e53e36338e4f6c94c8e1b3eb83c930",
       "style": "IPY_MODEL_c794380f54c2469e903cbf1a177a664c"
      }
     },
     "9611342d9b4a466fb4528b51906dde80": {
      "model_module": "@jupyter-widgets/base",
      "model_module_version": "1.2.0",
      "model_name": "LayoutModel",
      "state": {}
     },
     "9837c46168e44f91be314a79d891cf34": {
      "model_module": "@jupyter-widgets/controls",
      "model_module_version": "1.5.0",
      "model_name": "DropdownModel",
      "state": {
       "_options_labels": [
        "Sao Paulo",
        "Minas Gerais",
        "Acre"
       ],
       "description": "selected_state",
       "index": 2,
       "layout": "IPY_MODEL_b0b197ea2ace4d1abdcbe52ddbfa2176",
       "style": "IPY_MODEL_b9f2b2adf7b44136946e2fed3823a190"
      }
     },
     "9b20eee1458743d0827de5888f0cac32": {
      "model_module": "@jupyter-widgets/controls",
      "model_module_version": "1.5.0",
      "model_name": "DescriptionStyleModel",
      "state": {
       "description_width": ""
      }
     },
     "9c69dd001be04881929dcd526c949b64": {
      "model_module": "@jupyter-widgets/controls",
      "model_module_version": "1.5.0",
      "model_name": "DescriptionStyleModel",
      "state": {
       "description_width": ""
      }
     },
     "9cf1d80e2369403f8b76d24fc45282a0": {
      "model_module": "@jupyter-widgets/base",
      "model_module_version": "1.2.0",
      "model_name": "LayoutModel",
      "state": {}
     },
     "9e274279cfac4890aad9bc700ff72162": {
      "model_module": "@jupyter-widgets/base",
      "model_module_version": "1.2.0",
      "model_name": "LayoutModel",
      "state": {}
     },
     "9e41bd63b8114e47bc33a7dbe5b3d764": {
      "model_module": "@jupyter-widgets/base",
      "model_module_version": "1.2.0",
      "model_name": "LayoutModel",
      "state": {}
     },
     "9ed91654d9894b1ba015b9d9abc21d06": {
      "model_module": "@jupyter-widgets/base",
      "model_module_version": "1.2.0",
      "model_name": "LayoutModel",
      "state": {}
     },
     "9fbf81afdba24f6a8d751a3832b1f23d": {
      "model_module": "@jupyter-widgets/base",
      "model_module_version": "1.2.0",
      "model_name": "LayoutModel",
      "state": {}
     },
     "a0f32610ef2a4a149dbd928fd15e88f1": {
      "model_module": "@jupyter-widgets/base",
      "model_module_version": "1.2.0",
      "model_name": "LayoutModel",
      "state": {}
     },
     "a141fd50b5244080a5c8ad2608e40e0d": {
      "model_module": "@jupyter-widgets/controls",
      "model_module_version": "1.5.0",
      "model_name": "DropdownModel",
      "state": {
       "_options_labels": [
        "Sao Paulo",
        "Minas Gerais",
        "Acre"
       ],
       "description": "states",
       "index": 1,
       "layout": "IPY_MODEL_bb40bec7f6754018ba259fa4d24e3188",
       "style": "IPY_MODEL_79b44dae15b94f8090956755eb8531e5"
      }
     },
     "a1436a39a99b4f10be1bd5ba3d84b923": {
      "model_module": "@jupyter-widgets/output",
      "model_module_version": "1.0.0",
      "model_name": "OutputModel",
      "state": {
       "layout": "IPY_MODEL_5c8075892cc3438dab33f525f5e85bd4",
       "outputs": [
        {
         "name": "stdout",
         "output_type": "stream",
         "text": "You selected Minas Gerais\n"
        }
       ]
      }
     },
     "a4666591a6aa451492e358cd118e5209": {
      "model_module": "@jupyter-widgets/base",
      "model_module_version": "1.2.0",
      "model_name": "LayoutModel",
      "state": {}
     },
     "a4de6acf3b59488bbbecba3c4379e6d8": {
      "model_module": "@jupyter-widgets/base",
      "model_module_version": "1.2.0",
      "model_name": "LayoutModel",
      "state": {}
     },
     "a4fe1ed8e45a4d74a12ce87c332b1928": {
      "model_module": "@jupyter-widgets/controls",
      "model_module_version": "1.5.0",
      "model_name": "ButtonStyleModel",
      "state": {}
     },
     "a5d8c05546aa471498a591615039b5c6": {
      "model_module": "@jupyter-widgets/base",
      "model_module_version": "1.2.0",
      "model_name": "LayoutModel",
      "state": {}
     },
     "a5e4b51ac093451ea5c75a07ab507e91": {
      "model_module": "@jupyter-widgets/controls",
      "model_module_version": "1.5.0",
      "model_name": "DescriptionStyleModel",
      "state": {
       "description_width": ""
      }
     },
     "a79c872dde984a5eabdee8ccd3a1e3e9": {
      "model_module": "@jupyter-widgets/controls",
      "model_module_version": "1.5.0",
      "model_name": "DescriptionStyleModel",
      "state": {
       "description_width": ""
      }
     },
     "a928d7f32da740119481b579b90425bb": {
      "model_module": "@jupyter-widgets/base",
      "model_module_version": "1.2.0",
      "model_name": "LayoutModel",
      "state": {}
     },
     "a9ccb3ec18aa4ab19467fd4535b64eb2": {
      "model_module": "@jupyter-widgets/controls",
      "model_module_version": "1.5.0",
      "model_name": "DropdownModel",
      "state": {
       "_options_labels": [
        "Sao Paulo",
        "Campinas",
        "Barretos"
       ],
       "index": 0,
       "layout": "IPY_MODEL_77514c0865ed4634a0a40d7cc7ec25b1",
       "style": "IPY_MODEL_feceef8d670c43128f5a8e5a810cbcf3"
      }
     },
     "aa7a3457070745d592a0f65b2cf95bf8": {
      "model_module": "@jupyter-widgets/controls",
      "model_module_version": "1.5.0",
      "model_name": "ButtonStyleModel",
      "state": {}
     },
     "ab44581660aa49d7bb9020bc0b718af0": {
      "model_module": "@jupyter-widgets/base",
      "model_module_version": "1.2.0",
      "model_name": "LayoutModel",
      "state": {}
     },
     "ab716f437c1843e9a22f8eb38676a698": {
      "model_module": "@jupyter-widgets/controls",
      "model_module_version": "1.5.0",
      "model_name": "DescriptionStyleModel",
      "state": {
       "description_width": ""
      }
     },
     "ac0a4eff1ebb4689ace6ef9e9e0387f6": {
      "model_module": "@jupyter-widgets/controls",
      "model_module_version": "1.5.0",
      "model_name": "DescriptionStyleModel",
      "state": {
       "description_width": ""
      }
     },
     "ac3524796bdd4abaa0232884caa77c0e": {
      "model_module": "@jupyter-widgets/base",
      "model_module_version": "1.2.0",
      "model_name": "LayoutModel",
      "state": {}
     },
     "ac8bc9bfad1e4917a1a34b6bba2df3e1": {
      "model_module": "@jupyter-widgets/controls",
      "model_module_version": "1.5.0",
      "model_name": "DescriptionStyleModel",
      "state": {
       "description_width": ""
      }
     },
     "aca261d48dd14c2abf8fc59145d4b40f": {
      "model_module": "@jupyter-widgets/base",
      "model_module_version": "1.2.0",
      "model_name": "LayoutModel",
      "state": {}
     },
     "ad333938e62d4408bae875271a343e5f": {
      "model_module": "@jupyter-widgets/controls",
      "model_module_version": "1.5.0",
      "model_name": "DropdownModel",
      "state": {
       "_options_labels": [
        "Sao Paulo",
        "Campinas",
        "Barretos"
       ],
       "index": 0,
       "layout": "IPY_MODEL_cba0ed7df9064b16b567fc7601726373",
       "style": "IPY_MODEL_cd7fe635873648db93980074d318d1cc"
      }
     },
     "ad55e5fbf946472c8d66f3bf28ab4f15": {
      "model_module": "@jupyter-widgets/controls",
      "model_module_version": "1.5.0",
      "model_name": "DescriptionStyleModel",
      "state": {
       "description_width": ""
      }
     },
     "ad607aaf6133495db62905c7906e49ae": {
      "model_module": "@jupyter-widgets/controls",
      "model_module_version": "1.5.0",
      "model_name": "VBoxModel",
      "state": {
       "_dom_classes": [
        "widget-interact"
       ],
       "children": [
        "IPY_MODEL_4cbb73f295484970b0893360b150433d",
        "IPY_MODEL_0bab6160b72749788fc60c0ef86931e6"
       ],
       "layout": "IPY_MODEL_c836b7037e984ffabaad5370299325af"
      }
     },
     "ae33d02b09e346c8ac1bf1e110a8588e": {
      "model_module": "@jupyter-widgets/controls",
      "model_module_version": "1.5.0",
      "model_name": "DescriptionStyleModel",
      "state": {
       "description_width": ""
      }
     },
     "aedd4bdca2c74746b73aa24756435c36": {
      "model_module": "@jupyter-widgets/controls",
      "model_module_version": "1.5.0",
      "model_name": "DropdownModel",
      "state": {
       "index": null,
       "layout": "IPY_MODEL_3b0a830ec8464d5ba3541f9a511b090e",
       "style": "IPY_MODEL_0518f5648bb9407cab9d4777abbdb95c"
      }
     },
     "afa447a0fb1742da8a08d445ff0f35d1": {
      "model_module": "@jupyter-widgets/controls",
      "model_module_version": "1.5.0",
      "model_name": "VBoxModel",
      "state": {
       "_dom_classes": [
        "widget-interact"
       ],
       "children": [
        "IPY_MODEL_87b0c3b753ac4c6480aa5196ada99143",
        "IPY_MODEL_f8d894f79f2546aab071f7aab2769119"
       ],
       "layout": "IPY_MODEL_087cfb0449694affbe2441d384acf6e3"
      }
     },
     "afe6f4cad7f54b6c9e917db65db560e8": {
      "model_module": "@jupyter-widgets/controls",
      "model_module_version": "1.5.0",
      "model_name": "DropdownModel",
      "state": {
       "_options_labels": [
        "Sao Paulo",
        "Minas Gerais",
        "Acre"
       ],
       "description": "state",
       "index": 1,
       "layout": "IPY_MODEL_eb7644532b7340818ad2380ba9c4a6b0",
       "style": "IPY_MODEL_a5e4b51ac093451ea5c75a07ab507e91"
      }
     },
     "afef807f9ce547b28cc53f11aaf96a4e": {
      "model_module": "@jupyter-widgets/base",
      "model_module_version": "1.2.0",
      "model_name": "LayoutModel",
      "state": {}
     },
     "b0b197ea2ace4d1abdcbe52ddbfa2176": {
      "model_module": "@jupyter-widgets/base",
      "model_module_version": "1.2.0",
      "model_name": "LayoutModel",
      "state": {}
     },
     "b2e5d63f88584638a4562e3b617a8da4": {
      "model_module": "@jupyter-widgets/base",
      "model_module_version": "1.2.0",
      "model_name": "LayoutModel",
      "state": {}
     },
     "b2e65eeee2c44b8c8e8faa3eb804b28e": {
      "model_module": "@jupyter-widgets/controls",
      "model_module_version": "1.5.0",
      "model_name": "ButtonModel",
      "state": {
       "description": "Submit Job",
       "layout": "IPY_MODEL_a0f32610ef2a4a149dbd928fd15e88f1",
       "style": "IPY_MODEL_268840d7f536493aa3125c71ee2cbe70",
       "tooltip": "This will use Jenkins API with the auth settings..."
      }
     },
     "b376b3f8461a4332866b0b2455902486": {
      "model_module": "@jupyter-widgets/controls",
      "model_module_version": "1.5.0",
      "model_name": "DropdownModel",
      "state": {
       "_options_labels": [
        "Sao Paulo",
        "Campinas",
        "Barretos"
       ],
       "description": "city",
       "index": 0,
       "layout": "IPY_MODEL_5844eda9c44648919954df349d809d18",
       "style": "IPY_MODEL_307f0e0e6d43493f9ab35d718f52ce8e"
      }
     },
     "b480aadbbb88435b8267ead11dfe2a74": {
      "model_module": "@jupyter-widgets/base",
      "model_module_version": "1.2.0",
      "model_name": "LayoutModel",
      "state": {}
     },
     "b4ae7a926acb4b6c87551f9646a0a7ab": {
      "model_module": "@jupyter-widgets/base",
      "model_module_version": "1.2.0",
      "model_name": "LayoutModel",
      "state": {}
     },
     "b632935cd2b64d9e87e4e665b2e58c57": {
      "model_module": "@jupyter-widgets/controls",
      "model_module_version": "1.5.0",
      "model_name": "ButtonModel",
      "state": {
       "description": "Submit Job",
       "layout": "IPY_MODEL_a928d7f32da740119481b579b90425bb",
       "style": "IPY_MODEL_182bb1ceedd34cf1be3a2d3a9cb0d9b8",
       "tooltip": "This will use Jenkins API with the auth settings..."
      }
     },
     "b65a7acc51c544f1a6644c4383126491": {
      "model_module": "@jupyter-widgets/controls",
      "model_module_version": "1.5.0",
      "model_name": "DropdownModel",
      "state": {
       "_options_labels": [
        "Sao Paulo",
        "Minas Gerais",
        "Acre"
       ],
       "description": "states",
       "index": 1,
       "layout": "IPY_MODEL_cd54facb35104581ae51a7f4a24f6b04",
       "style": "IPY_MODEL_85d8848b85ea437cae373283e242864e"
      }
     },
     "b6d0bf2502f6456880669ac3ae377726": {
      "model_module": "@jupyter-widgets/base",
      "model_module_version": "1.2.0",
      "model_name": "LayoutModel",
      "state": {}
     },
     "b6d28105d6d7409d97202dda230705b3": {
      "model_module": "@jupyter-widgets/base",
      "model_module_version": "1.2.0",
      "model_name": "LayoutModel",
      "state": {}
     },
     "b7865fa00dfe4bf294b9ea16459d432b": {
      "model_module": "@jupyter-widgets/controls",
      "model_module_version": "1.5.0",
      "model_name": "DropdownModel",
      "state": {
       "_options_labels": [
        "Sao Paulo",
        "Minas Gerais",
        "Acre"
       ],
       "index": 1,
       "layout": "IPY_MODEL_5e0f64fe98754664b321bade2e9cfc94",
       "style": "IPY_MODEL_9c69dd001be04881929dcd526c949b64"
      }
     },
     "b9f2b2adf7b44136946e2fed3823a190": {
      "model_module": "@jupyter-widgets/controls",
      "model_module_version": "1.5.0",
      "model_name": "DescriptionStyleModel",
      "state": {
       "description_width": ""
      }
     },
     "ba66480a9584493ab3863e84c2ca9ff4": {
      "model_module": "@jupyter-widgets/controls",
      "model_module_version": "1.5.0",
      "model_name": "VBoxModel",
      "state": {
       "_dom_classes": [
        "widget-interact"
       ],
       "children": [
        "IPY_MODEL_eb58eb3e2b814e2b863675c87ffbd3d2",
        "IPY_MODEL_f5f6e2ff4a5a4961bbca827ab1a3c549"
       ],
       "layout": "IPY_MODEL_c20c7c74027a40bd9024dda3a27312c6"
      }
     },
     "ba93841afb3247dd81b71e6cf65a3036": {
      "model_module": "@jupyter-widgets/controls",
      "model_module_version": "1.5.0",
      "model_name": "DropdownModel",
      "state": {
       "_options_labels": [
        "UNKNOWN"
       ],
       "description": "city",
       "index": 0,
       "layout": "IPY_MODEL_ab44581660aa49d7bb9020bc0b718af0",
       "style": "IPY_MODEL_f105f57876a04f7087bb8de982b538ee"
      }
     },
     "bb40bec7f6754018ba259fa4d24e3188": {
      "model_module": "@jupyter-widgets/base",
      "model_module_version": "1.2.0",
      "model_name": "LayoutModel",
      "state": {}
     },
     "bb579bade7c34e808a6731d524a896f8": {
      "model_module": "@jupyter-widgets/controls",
      "model_module_version": "1.5.0",
      "model_name": "DescriptionStyleModel",
      "state": {
       "description_width": ""
      }
     },
     "bc8555dfbdae45b98d1924eda2387472": {
      "model_module": "@jupyter-widgets/base",
      "model_module_version": "1.2.0",
      "model_name": "LayoutModel",
      "state": {}
     },
     "be2d8c2a927545b5877726b6d7845fc5": {
      "model_module": "@jupyter-widgets/base",
      "model_module_version": "1.2.0",
      "model_name": "LayoutModel",
      "state": {}
     },
     "be9a2e9738f741cfbf527cf1cbcf183d": {
      "model_module": "@jupyter-widgets/base",
      "model_module_version": "1.2.0",
      "model_name": "LayoutModel",
      "state": {}
     },
     "bfbc53a624cf4c01bdd806cbbeb864ef": {
      "model_module": "@jupyter-widgets/controls",
      "model_module_version": "1.5.0",
      "model_name": "DropdownModel",
      "state": {
       "index": null,
       "layout": "IPY_MODEL_851353bc37ac421e9e9d5f7019b4a371",
       "style": "IPY_MODEL_163ffa63c6e048b586ededf930543a23"
      }
     },
     "bfd75fe5a69f45e1b7be78369273aa16": {
      "model_module": "@jupyter-widgets/base",
      "model_module_version": "1.2.0",
      "model_name": "LayoutModel",
      "state": {}
     },
     "c04e32810f9a46a2b904970ff38db543": {
      "model_module": "@jupyter-widgets/controls",
      "model_module_version": "1.5.0",
      "model_name": "DescriptionStyleModel",
      "state": {
       "description_width": ""
      }
     },
     "c06aed7636654c82afd2586dcd3bee6a": {
      "model_module": "@jupyter-widgets/base",
      "model_module_version": "1.2.0",
      "model_name": "LayoutModel",
      "state": {}
     },
     "c197dbaf35274dc8a7140af7f3f5c749": {
      "model_module": "@jupyter-widgets/controls",
      "model_module_version": "1.5.0",
      "model_name": "DescriptionStyleModel",
      "state": {
       "description_width": ""
      }
     },
     "c1e8f81762db479d8f62090352ee54ba": {
      "model_module": "@jupyter-widgets/base",
      "model_module_version": "1.2.0",
      "model_name": "LayoutModel",
      "state": {}
     },
     "c20c7c74027a40bd9024dda3a27312c6": {
      "model_module": "@jupyter-widgets/base",
      "model_module_version": "1.2.0",
      "model_name": "LayoutModel",
      "state": {}
     },
     "c3cda54b0992494dad17413f073e7f56": {
      "model_module": "@jupyter-widgets/output",
      "model_module_version": "1.0.0",
      "model_name": "OutputModel",
      "state": {
       "layout": "IPY_MODEL_d40cd05a72314595b3b4d5369456a55f",
       "outputs": [
        {
         "name": "stdout",
         "output_type": "stream",
         "text": "Minas Gerais\nYou selected Barretos\n"
        }
       ]
      }
     },
     "c56c8999869d4776900888852071c315": {
      "model_module": "@jupyter-widgets/base",
      "model_module_version": "1.2.0",
      "model_name": "LayoutModel",
      "state": {}
     },
     "c6692c4db0d747ce8efc773224947804": {
      "model_module": "@jupyter-widgets/base",
      "model_module_version": "1.2.0",
      "model_name": "LayoutModel",
      "state": {}
     },
     "c794380f54c2469e903cbf1a177a664c": {
      "model_module": "@jupyter-widgets/controls",
      "model_module_version": "1.5.0",
      "model_name": "DescriptionStyleModel",
      "state": {
       "description_width": ""
      }
     },
     "c7e7cc0b81f44553965122864e710d9d": {
      "model_module": "@jupyter-widgets/controls",
      "model_module_version": "1.5.0",
      "model_name": "DropdownModel",
      "state": {
       "index": null,
       "layout": "IPY_MODEL_9e274279cfac4890aad9bc700ff72162",
       "style": "IPY_MODEL_c8165999cd3747268516b145c162a70d"
      }
     },
     "c8165999cd3747268516b145c162a70d": {
      "model_module": "@jupyter-widgets/controls",
      "model_module_version": "1.5.0",
      "model_name": "DescriptionStyleModel",
      "state": {
       "description_width": ""
      }
     },
     "c836b7037e984ffabaad5370299325af": {
      "model_module": "@jupyter-widgets/base",
      "model_module_version": "1.2.0",
      "model_name": "LayoutModel",
      "state": {}
     },
     "c8cc9bb3340441a68359e33b8e2f288b": {
      "model_module": "@jupyter-widgets/base",
      "model_module_version": "1.2.0",
      "model_name": "LayoutModel",
      "state": {}
     },
     "c936a3239ad740a3a011dcdd5e6fba18": {
      "model_module": "@jupyter-widgets/controls",
      "model_module_version": "1.5.0",
      "model_name": "DropdownModel",
      "state": {
       "_options_labels": [
        "Sao Paulo",
        "Minas Gerais",
        "Acre"
       ],
       "description": "state",
       "index": 0,
       "layout": "IPY_MODEL_016641bb922f4d76a2a7b2cbee4f64fc",
       "style": "IPY_MODEL_d5f74774023e4aa699d37fcd0951bca4"
      }
     },
     "c9c9d4904c2d43b0beca91572bb37234": {
      "model_module": "@jupyter-widgets/controls",
      "model_module_version": "1.5.0",
      "model_name": "DropdownModel",
      "state": {
       "_options_labels": [
        "Sao Paulo",
        "Campinas",
        "Barretos"
       ],
       "index": 0,
       "layout": "IPY_MODEL_71d55d1ba25946c3a5283423aa39aad9",
       "style": "IPY_MODEL_309bae6b6bab4b488ac7455e387d18e9"
      }
     },
     "ca282e9c3f7045248ff34e6896b359be": {
      "model_module": "@jupyter-widgets/base",
      "model_module_version": "1.2.0",
      "model_name": "LayoutModel",
      "state": {}
     },
     "ca582a71780e4cdf96f73c0f5a6ab8d8": {
      "model_module": "@jupyter-widgets/controls",
      "model_module_version": "1.5.0",
      "model_name": "DescriptionStyleModel",
      "state": {
       "description_width": ""
      }
     },
     "cab858aa54244689b6ca4c1ebf0f8faa": {
      "model_module": "@jupyter-widgets/controls",
      "model_module_version": "1.5.0",
      "model_name": "DropdownModel",
      "state": {
       "_options_labels": [
        "Sao Paulo",
        "Minas Gerais",
        "Acre"
       ],
       "index": 1,
       "layout": "IPY_MODEL_d45b6e35a41e4fa584a9a6e90b608676",
       "style": "IPY_MODEL_6053367d88784d6bb67f55dec4e1553d"
      }
     },
     "cac1f3fe01484d69bdf843f4bca904b6": {
      "model_module": "@jupyter-widgets/controls",
      "model_module_version": "1.5.0",
      "model_name": "DescriptionStyleModel",
      "state": {
       "description_width": ""
      }
     },
     "cae8bd32b6b043c18c00dcb2ccf0f0b8": {
      "model_module": "@jupyter-widgets/controls",
      "model_module_version": "1.5.0",
      "model_name": "DescriptionStyleModel",
      "state": {
       "description_width": ""
      }
     },
     "cba0ed7df9064b16b567fc7601726373": {
      "model_module": "@jupyter-widgets/base",
      "model_module_version": "1.2.0",
      "model_name": "LayoutModel",
      "state": {}
     },
     "cc412c190691436284ed8870aacc34cc": {
      "model_module": "@jupyter-widgets/base",
      "model_module_version": "1.2.0",
      "model_name": "LayoutModel",
      "state": {}
     },
     "cc55a4a8c9a749c98c49d474f6232a76": {
      "model_module": "@jupyter-widgets/controls",
      "model_module_version": "1.5.0",
      "model_name": "DropdownModel",
      "state": {
       "_options_labels": [
        "Sao Paulo",
        "Minas Gerais",
        "Acre"
       ],
       "index": 0,
       "layout": "IPY_MODEL_454e87c6076347ddb5e131d7f1cf3a43",
       "style": "IPY_MODEL_8ce3d3d1738b4476a2006d7cca978313"
      }
     },
     "cd13db27dcfa4c889cb697f16fb0f240": {
      "model_module": "@jupyter-widgets/output",
      "model_module_version": "1.0.0",
      "model_name": "OutputModel",
      "state": {
       "layout": "IPY_MODEL_bfd75fe5a69f45e1b7be78369273aa16",
       "outputs": [
        {
         "name": "stdout",
         "output_type": "stream",
         "text": "You selected UNKNOWN\n"
        }
       ]
      }
     },
     "cd54facb35104581ae51a7f4a24f6b04": {
      "model_module": "@jupyter-widgets/base",
      "model_module_version": "1.2.0",
      "model_name": "LayoutModel",
      "state": {}
     },
     "cd7fe635873648db93980074d318d1cc": {
      "model_module": "@jupyter-widgets/controls",
      "model_module_version": "1.5.0",
      "model_name": "DescriptionStyleModel",
      "state": {
       "description_width": ""
      }
     },
     "ceb3886d72bd4007a3ad06236e69f437": {
      "model_module": "@jupyter-widgets/controls",
      "model_module_version": "1.5.0",
      "model_name": "VBoxModel",
      "state": {
       "_dom_classes": [
        "widget-interact"
       ],
       "children": [
        "IPY_MODEL_6ffb63e09fbf4fee93ed1dbd822e5229",
        "IPY_MODEL_fad984c1113a4fa6b8afb859fdb55954"
       ],
       "layout": "IPY_MODEL_8a47d90079044a3796460ca686316d5a"
      }
     },
     "ced9b512d9fa431b82a3eddbe7cbe5ed": {
      "model_module": "@jupyter-widgets/base",
      "model_module_version": "1.2.0",
      "model_name": "LayoutModel",
      "state": {}
     },
     "cf5429a2816f46078171e8ed214fb4f8": {
      "model_module": "@jupyter-widgets/base",
      "model_module_version": "1.2.0",
      "model_name": "LayoutModel",
      "state": {}
     },
     "cf7187bb88b0470486f4aa3da6c0730f": {
      "model_module": "@jupyter-widgets/base",
      "model_module_version": "1.2.0",
      "model_name": "LayoutModel",
      "state": {}
     },
     "d14f2b8c2198409ea548ecbca1c9d5c8": {
      "model_module": "@jupyter-widgets/base",
      "model_module_version": "1.2.0",
      "model_name": "LayoutModel",
      "state": {}
     },
     "d218c08290cf4dd698eeb5cd213f31cc": {
      "model_module": "@jupyter-widgets/base",
      "model_module_version": "1.2.0",
      "model_name": "LayoutModel",
      "state": {}
     },
     "d242c96e7b4b44679974887768795460": {
      "model_module": "@jupyter-widgets/controls",
      "model_module_version": "1.5.0",
      "model_name": "DescriptionStyleModel",
      "state": {
       "description_width": ""
      }
     },
     "d31d17ab2fec4a388fa380eaef029291": {
      "model_module": "@jupyter-widgets/base",
      "model_module_version": "1.2.0",
      "model_name": "LayoutModel",
      "state": {}
     },
     "d40cd05a72314595b3b4d5369456a55f": {
      "model_module": "@jupyter-widgets/base",
      "model_module_version": "1.2.0",
      "model_name": "LayoutModel",
      "state": {}
     },
     "d45b6e35a41e4fa584a9a6e90b608676": {
      "model_module": "@jupyter-widgets/base",
      "model_module_version": "1.2.0",
      "model_name": "LayoutModel",
      "state": {}
     },
     "d545639cde33485ba61e0b47b393c7be": {
      "model_module": "@jupyter-widgets/output",
      "model_module_version": "1.0.0",
      "model_name": "OutputModel",
      "state": {
       "layout": "IPY_MODEL_2a702a7c59df44919b1f13b180e28ea1",
       "outputs": [
        {
         "name": "stdout",
         "output_type": "stream",
         "text": "You selected Sao Paulo\n"
        }
       ]
      }
     },
     "d5e53e36338e4f6c94c8e1b3eb83c930": {
      "model_module": "@jupyter-widgets/base",
      "model_module_version": "1.2.0",
      "model_name": "LayoutModel",
      "state": {}
     },
     "d5f74774023e4aa699d37fcd0951bca4": {
      "model_module": "@jupyter-widgets/controls",
      "model_module_version": "1.5.0",
      "model_name": "DescriptionStyleModel",
      "state": {
       "description_width": ""
      }
     },
     "d6965ad544c145a2836394a1243d95fb": {
      "model_module": "@jupyter-widgets/base",
      "model_module_version": "1.2.0",
      "model_name": "LayoutModel",
      "state": {}
     },
     "d7d071ef5b754018b40c988a28aa275c": {
      "model_module": "@jupyter-widgets/controls",
      "model_module_version": "1.5.0",
      "model_name": "VBoxModel",
      "state": {
       "_dom_classes": [
        "widget-interact"
       ],
       "children": [
        "IPY_MODEL_804f1783661b44efb500a7a0926123b6",
        "IPY_MODEL_4c9096faba904bfbb5599a9bc61754f1"
       ],
       "layout": "IPY_MODEL_8980f75ebeb14535b8899d1399a3e22a"
      }
     },
     "d8000d36aadb45d890f12e5958e9b044": {
      "model_module": "@jupyter-widgets/base",
      "model_module_version": "1.2.0",
      "model_name": "LayoutModel",
      "state": {}
     },
     "d9d8bcac59824e898ad028f15aac4714": {
      "model_module": "@jupyter-widgets/controls",
      "model_module_version": "1.5.0",
      "model_name": "DropdownModel",
      "state": {
       "_options_labels": [
        "Sao Paulo",
        "Minas Gerais",
        "Acre"
       ],
       "index": 1,
       "layout": "IPY_MODEL_805d7db4075e428693070908278215b4",
       "style": "IPY_MODEL_79dfbdef4d704f3092c27eabcd993fb4"
      }
     },
     "dbb7ba577dc64589a3ca72f99e99ebb3": {
      "model_module": "@jupyter-widgets/controls",
      "model_module_version": "1.5.0",
      "model_name": "DropdownModel",
      "state": {
       "_options_labels": [
        "Sao Paulo",
        "Minas Gerais",
        "Acre"
       ],
       "index": 0,
       "layout": "IPY_MODEL_f86ac165164147509ccfc1e2a77cca08",
       "style": "IPY_MODEL_4f5fa64413514edf886ebc9a9ddc1b6c"
      }
     },
     "dcf6424fc5dc4670a473bf08859c01f1": {
      "model_module": "@jupyter-widgets/controls",
      "model_module_version": "1.5.0",
      "model_name": "DropdownModel",
      "state": {
       "_options_labels": [
        "Sao Paulo",
        "Minas Gerais",
        "Acre"
       ],
       "index": 0,
       "layout": "IPY_MODEL_666ae058cbdd46f49b3c0193a60a0ac3",
       "style": "IPY_MODEL_2ceaa734c9d244f6b4b25cea4094eb9e"
      }
     },
     "dd87c3c568da47ba9ea2372d261b7c25": {
      "model_module": "@jupyter-widgets/controls",
      "model_module_version": "1.5.0",
      "model_name": "VBoxModel",
      "state": {
       "_dom_classes": [
        "widget-interact"
       ],
       "children": [
        "IPY_MODEL_34437451a3034ff0a483fa05f44a4b35",
        "IPY_MODEL_5de1bfee6d75446fa98df0f3d725b45e"
       ],
       "layout": "IPY_MODEL_6b39ccde820f4ec38674b497bb5b06aa"
      }
     },
     "ddaec4c995f4463abb3f2adcc539e602": {
      "model_module": "@jupyter-widgets/controls",
      "model_module_version": "1.5.0",
      "model_name": "DropdownModel",
      "state": {
       "_options_labels": [
        "Sao Paulo",
        "Minas Gerais",
        "Acre"
       ],
       "index": 2,
       "layout": "IPY_MODEL_2cf6eec5e07b41c4bd2f2901b61d16c6",
       "style": "IPY_MODEL_1c469e6098ca46d69851f4fbfbb8ebd0"
      }
     },
     "ddfcdb845bd7434583ad448f80f819ef": {
      "model_module": "@jupyter-widgets/controls",
      "model_module_version": "1.5.0",
      "model_name": "DropdownModel",
      "state": {
       "_options_labels": [
        "Sao Paulo",
        "Campinas",
        "Barretos"
       ],
       "description": "city",
       "index": 2,
       "layout": "IPY_MODEL_be2d8c2a927545b5877726b6d7845fc5",
       "style": "IPY_MODEL_3871ceaa5dfc4ad98c3c7f5e82d9b094"
      }
     },
     "de5a27cf6fec4743a1e3cec6b3885759": {
      "model_module": "@jupyter-widgets/base",
      "model_module_version": "1.2.0",
      "model_name": "LayoutModel",
      "state": {}
     },
     "df0cccffa4e646dc982d07cebd09b5be": {
      "model_module": "@jupyter-widgets/controls",
      "model_module_version": "1.5.0",
      "model_name": "DescriptionStyleModel",
      "state": {
       "description_width": ""
      }
     },
     "dfd6604d825743e395a8a0723a7a0cee": {
      "model_module": "@jupyter-widgets/controls",
      "model_module_version": "1.5.0",
      "model_name": "DescriptionStyleModel",
      "state": {
       "description_width": ""
      }
     },
     "e113d731af8a4be691a40dbd376495bd": {
      "model_module": "@jupyter-widgets/base",
      "model_module_version": "1.2.0",
      "model_name": "LayoutModel",
      "state": {}
     },
     "e2ec0ad4a630424e973a0ed3c4d1882b": {
      "model_module": "@jupyter-widgets/base",
      "model_module_version": "1.2.0",
      "model_name": "LayoutModel",
      "state": {}
     },
     "e3e81c9035144cc29a1380039ef9ce82": {
      "model_module": "@jupyter-widgets/controls",
      "model_module_version": "1.5.0",
      "model_name": "DescriptionStyleModel",
      "state": {
       "description_width": ""
      }
     },
     "e6090571462140f282da89557b45fc26": {
      "model_module": "@jupyter-widgets/controls",
      "model_module_version": "1.5.0",
      "model_name": "DropdownModel",
      "state": {
       "_options_labels": [
        "Sao Paulo",
        "Minas Gerais",
        "Acre"
       ],
       "index": 1,
       "layout": "IPY_MODEL_4407367af7a44cc1a9ca7082cec5007d",
       "style": "IPY_MODEL_c04e32810f9a46a2b904970ff38db543"
      }
     },
     "e61031dc6620446fbcfa6596f607f9c9": {
      "model_module": "@jupyter-widgets/controls",
      "model_module_version": "1.5.0",
      "model_name": "DropdownModel",
      "state": {
       "_options_labels": [
        "Sao Paulo",
        "Minas Gerais",
        "Acre"
       ],
       "index": 2,
       "layout": "IPY_MODEL_9fbf81afdba24f6a8d751a3832b1f23d",
       "style": "IPY_MODEL_665d309cd3014f2493f3b426ec523a3a"
      }
     },
     "e6e4e2f10161448b81ee6fe1cbc936f1": {
      "model_module": "@jupyter-widgets/controls",
      "model_module_version": "1.5.0",
      "model_name": "ButtonStyleModel",
      "state": {}
     },
     "e79fa4a174254271bd2890602814710a": {
      "model_module": "@jupyter-widgets/controls",
      "model_module_version": "1.5.0",
      "model_name": "DescriptionStyleModel",
      "state": {
       "description_width": ""
      }
     },
     "e7ce5d7776654dbab269f236b33b6c63": {
      "model_module": "@jupyter-widgets/controls",
      "model_module_version": "1.5.0",
      "model_name": "DescriptionStyleModel",
      "state": {
       "description_width": ""
      }
     },
     "e862fe049db64aa69202a6316017eb2c": {
      "model_module": "@jupyter-widgets/output",
      "model_module_version": "1.0.0",
      "model_name": "OutputModel",
      "state": {
       "layout": "IPY_MODEL_644bb365d77447c8965aad79e5524089",
       "outputs": [
        {
         "name": "stdout",
         "output_type": "stream",
         "text": "Sao Paulo\nYou selected Sao Paulo\n"
        }
       ]
      }
     },
     "e8d9c0d35adb4a2083c78f1ab18517fc": {
      "model_module": "@jupyter-widgets/base",
      "model_module_version": "1.2.0",
      "model_name": "LayoutModel",
      "state": {}
     },
     "ea05d48ae60445d09ff4cf333ea15d3a": {
      "model_module": "@jupyter-widgets/base",
      "model_module_version": "1.2.0",
      "model_name": "LayoutModel",
      "state": {}
     },
     "eb1c17b7a4ae418fb8060b7a08147cb4": {
      "model_module": "@jupyter-widgets/controls",
      "model_module_version": "1.5.0",
      "model_name": "VBoxModel",
      "state": {
       "_dom_classes": [
        "widget-interact"
       ],
       "children": [
        "IPY_MODEL_b65a7acc51c544f1a6644c4383126491",
        "IPY_MODEL_86dfef653d3f46538c095f678c556747"
       ],
       "layout": "IPY_MODEL_041075e23d124133ab00501a75e5e732"
      }
     },
     "eb58eb3e2b814e2b863675c87ffbd3d2": {
      "model_module": "@jupyter-widgets/controls",
      "model_module_version": "1.5.0",
      "model_name": "DropdownModel",
      "state": {
       "_options_labels": [
        "Sao Paulo",
        "Minas Gerais",
        "Acre"
       ],
       "description": "state",
       "index": 0,
       "layout": "IPY_MODEL_b6d0bf2502f6456880669ac3ae377726",
       "style": "IPY_MODEL_ac0a4eff1ebb4689ace6ef9e9e0387f6"
      }
     },
     "eb663363c2d94270b40f9cd41d14203e": {
      "model_module": "@jupyter-widgets/output",
      "model_module_version": "1.0.0",
      "model_name": "OutputModel",
      "state": {
       "layout": "IPY_MODEL_1eb71b13360546358343033c709e6d78",
       "outputs": [
        {
         "name": "stdout",
         "output_type": "stream",
         "text": "You selected Sao Paulo\n"
        }
       ]
      }
     },
     "eb7644532b7340818ad2380ba9c4a6b0": {
      "model_module": "@jupyter-widgets/base",
      "model_module_version": "1.2.0",
      "model_name": "LayoutModel",
      "state": {}
     },
     "ebdb2e3f7dad4dc6861cb23257ebeeaa": {
      "model_module": "@jupyter-widgets/base",
      "model_module_version": "1.2.0",
      "model_name": "LayoutModel",
      "state": {}
     },
     "ed30bb329f774982b50f5687a3b468af": {
      "model_module": "@jupyter-widgets/controls",
      "model_module_version": "1.5.0",
      "model_name": "DescriptionStyleModel",
      "state": {
       "description_width": ""
      }
     },
     "ed5c24d1abae441a84752391042f0b8f": {
      "model_module": "@jupyter-widgets/controls",
      "model_module_version": "1.5.0",
      "model_name": "DescriptionStyleModel",
      "state": {
       "description_width": ""
      }
     },
     "ef0886498df34ca1b5901fafc90048e7": {
      "model_module": "@jupyter-widgets/base",
      "model_module_version": "1.2.0",
      "model_name": "LayoutModel",
      "state": {}
     },
     "ef09c272a8d2451b9eb104164e1d4c01": {
      "model_module": "@jupyter-widgets/controls",
      "model_module_version": "1.5.0",
      "model_name": "DropdownModel",
      "state": {
       "_options_labels": [
        "Sao Paulo",
        "Minas Gerais",
        "Acre"
       ],
       "index": 1,
       "layout": "IPY_MODEL_1ab8581a4667451cbd1ad699dda0b17c",
       "style": "IPY_MODEL_2ea91edcf4bd4deb89688c5a3246d036"
      }
     },
     "ef8fd941b6a24ada9ba65d4c44728a55": {
      "model_module": "@jupyter-widgets/base",
      "model_module_version": "1.2.0",
      "model_name": "LayoutModel",
      "state": {}
     },
     "efcaab76b86b45529ce4f940ec4f03e6": {
      "model_module": "@jupyter-widgets/controls",
      "model_module_version": "1.5.0",
      "model_name": "DescriptionStyleModel",
      "state": {
       "description_width": ""
      }
     },
     "f04c732aa19a47eb9d5b678f76f98ec5": {
      "model_module": "@jupyter-widgets/controls",
      "model_module_version": "1.5.0",
      "model_name": "DescriptionStyleModel",
      "state": {
       "description_width": ""
      }
     },
     "f104cbd0a03a4401979cebb24a52481e": {
      "model_module": "@jupyter-widgets/controls",
      "model_module_version": "1.5.0",
      "model_name": "VBoxModel",
      "state": {
       "_dom_classes": [
        "widget-interact"
       ],
       "children": [
        "IPY_MODEL_8a1420e01c6e49418c77d3c28d9129fc",
        "IPY_MODEL_27f2d699323f48ebbbacf747ba579462"
       ],
       "layout": "IPY_MODEL_3719786586d646bebb77c516a189c777"
      }
     },
     "f105f57876a04f7087bb8de982b538ee": {
      "model_module": "@jupyter-widgets/controls",
      "model_module_version": "1.5.0",
      "model_name": "DescriptionStyleModel",
      "state": {
       "description_width": ""
      }
     },
     "f1bdd78aee22425ea948b6c50e0d1066": {
      "model_module": "@jupyter-widgets/controls",
      "model_module_version": "1.5.0",
      "model_name": "VBoxModel",
      "state": {
       "_dom_classes": [
        "widget-interact"
       ],
       "children": [
        "IPY_MODEL_307ac891de31442b9845f8b08b84ce97",
        "IPY_MODEL_008ba85b17a4442291c4310f76272d02"
       ],
       "layout": "IPY_MODEL_e113d731af8a4be691a40dbd376495bd"
      }
     },
     "f23ed0e8b2fa4a05912639d80c9c9c19": {
      "model_module": "@jupyter-widgets/base",
      "model_module_version": "1.2.0",
      "model_name": "LayoutModel",
      "state": {}
     },
     "f2a89e236d2649ed9415fcf316c7b58c": {
      "model_module": "@jupyter-widgets/controls",
      "model_module_version": "1.5.0",
      "model_name": "DropdownModel",
      "state": {
       "_options_labels": [
        "Betim",
        "Belo Horizonte"
       ],
       "index": 1,
       "layout": "IPY_MODEL_fc33fe6cfdea470c9bd6dacd5d24b94a",
       "style": "IPY_MODEL_fd026eec1ded4824a0f0166735b0571d"
      }
     },
     "f2c711978d0248a8826e14cc1f7e13ef": {
      "model_module": "@jupyter-widgets/base",
      "model_module_version": "1.2.0",
      "model_name": "LayoutModel",
      "state": {}
     },
     "f32792e7a5e7469db6b41c14e95cb952": {
      "model_module": "@jupyter-widgets/base",
      "model_module_version": "1.2.0",
      "model_name": "LayoutModel",
      "state": {}
     },
     "f3810a74706241509f540d005f7c15b2": {
      "model_module": "@jupyter-widgets/controls",
      "model_module_version": "1.5.0",
      "model_name": "DropdownModel",
      "state": {
       "_options_labels": [
        "Sao Paulo",
        "Minas Gerais",
        "Acre"
       ],
       "index": 1,
       "layout": "IPY_MODEL_5e009fa40e934db0bc254487b445bd97",
       "style": "IPY_MODEL_782bb764798343cab6a53a3264b2e6f6"
      }
     },
     "f43980c0aed5415fa43c5201de59e330": {
      "model_module": "@jupyter-widgets/base",
      "model_module_version": "1.2.0",
      "model_name": "LayoutModel",
      "state": {}
     },
     "f4692d288d284abda3e66a3e1363f543": {
      "model_module": "@jupyter-widgets/base",
      "model_module_version": "1.2.0",
      "model_name": "LayoutModel",
      "state": {}
     },
     "f49c5712914c4368b02a72e7a951488e": {
      "model_module": "@jupyter-widgets/base",
      "model_module_version": "1.2.0",
      "model_name": "LayoutModel",
      "state": {}
     },
     "f49cd020f605480493b0897699b32cf7": {
      "model_module": "@jupyter-widgets/base",
      "model_module_version": "1.2.0",
      "model_name": "LayoutModel",
      "state": {}
     },
     "f4f910118191408e85096f1547e7cb09": {
      "model_module": "@jupyter-widgets/controls",
      "model_module_version": "1.5.0",
      "model_name": "DescriptionStyleModel",
      "state": {
       "description_width": ""
      }
     },
     "f5f6e2ff4a5a4961bbca827ab1a3c549": {
      "model_module": "@jupyter-widgets/output",
      "model_module_version": "1.0.0",
      "model_name": "OutputModel",
      "state": {
       "layout": "IPY_MODEL_b4ae7a926acb4b6c87551f9646a0a7ab",
       "outputs": [
        {
         "name": "stdout",
         "output_type": "stream",
         "text": "You selected Sao Paulo\n"
        }
       ]
      }
     },
     "f665cf0415f94166b92cd40f18461b97": {
      "model_module": "@jupyter-widgets/base",
      "model_module_version": "1.2.0",
      "model_name": "LayoutModel",
      "state": {}
     },
     "f6f86e95dd74463497ce6a130d3f21fb": {
      "model_module": "@jupyter-widgets/output",
      "model_module_version": "1.0.0",
      "model_name": "OutputModel",
      "state": {
       "layout": "IPY_MODEL_e2ec0ad4a630424e973a0ed3c4d1882b",
       "outputs": [
        {
         "name": "stdout",
         "output_type": "stream",
         "text": "None\nYou selected UNKNOWN\n"
        }
       ]
      }
     },
     "f721ffc283794e8caca0c964f7190de3": {
      "model_module": "@jupyter-widgets/controls",
      "model_module_version": "1.5.0",
      "model_name": "DropdownModel",
      "state": {
       "_options_labels": [
        "Betim",
        "Belo Horizonte"
       ],
       "index": 1,
       "layout": "IPY_MODEL_9e41bd63b8114e47bc33a7dbe5b3d764",
       "style": "IPY_MODEL_938f538bd7a145ff82d1c42d20fdea1b"
      }
     },
     "f72e948e0d044b85bd50d653e4029867": {
      "model_module": "@jupyter-widgets/base",
      "model_module_version": "1.2.0",
      "model_name": "LayoutModel",
      "state": {}
     },
     "f86ac165164147509ccfc1e2a77cca08": {
      "model_module": "@jupyter-widgets/base",
      "model_module_version": "1.2.0",
      "model_name": "LayoutModel",
      "state": {}
     },
     "f8a2537201004d2488d0753593be1f0c": {
      "model_module": "@jupyter-widgets/base",
      "model_module_version": "1.2.0",
      "model_name": "LayoutModel",
      "state": {}
     },
     "f8d894f79f2546aab071f7aab2769119": {
      "model_module": "@jupyter-widgets/output",
      "model_module_version": "1.0.0",
      "model_name": "OutputModel",
      "state": {
       "layout": "IPY_MODEL_8e42d747bebb4b63b535aa04189b9ffd",
       "outputs": [
        {
         "name": "stdout",
         "output_type": "stream",
         "text": "You selected Sao Paulo\n"
        }
       ]
      }
     },
     "fad984c1113a4fa6b8afb859fdb55954": {
      "model_module": "@jupyter-widgets/output",
      "model_module_version": "1.0.0",
      "model_name": "OutputModel",
      "state": {
       "layout": "IPY_MODEL_cf5429a2816f46078171e8ed214fb4f8",
       "outputs": [
        {
         "name": "stdout",
         "output_type": "stream",
         "text": "You selected Sao Paulo\n"
        }
       ]
      }
     },
     "faf3c42ebb2744e8b7a3e79231ffc839": {
      "model_module": "@jupyter-widgets/controls",
      "model_module_version": "1.5.0",
      "model_name": "DescriptionStyleModel",
      "state": {
       "description_width": ""
      }
     },
     "fb57537faa6340a39c68e7d144982f24": {
      "model_module": "@jupyter-widgets/controls",
      "model_module_version": "1.5.0",
      "model_name": "DropdownModel",
      "state": {
       "_options_labels": [
        "UNKNOWN"
       ],
       "description": "city",
       "index": 0,
       "layout": "IPY_MODEL_ca282e9c3f7045248ff34e6896b359be",
       "style": "IPY_MODEL_1e048c077192480083707c5a0c7e3180"
      }
     },
     "fb68b774263b4e7d8e1c1bc5183c1988": {
      "model_module": "@jupyter-widgets/base",
      "model_module_version": "1.2.0",
      "model_name": "LayoutModel",
      "state": {}
     },
     "fb94f584503a468f944962a8d0a21937": {
      "model_module": "@jupyter-widgets/base",
      "model_module_version": "1.2.0",
      "model_name": "LayoutModel",
      "state": {}
     },
     "fbd20d8772cc443fb25e4f86c1074d02": {
      "model_module": "@jupyter-widgets/base",
      "model_module_version": "1.2.0",
      "model_name": "LayoutModel",
      "state": {}
     },
     "fbe1793b71754ce4a6e4e978b920d959": {
      "model_module": "@jupyter-widgets/base",
      "model_module_version": "1.2.0",
      "model_name": "LayoutModel",
      "state": {}
     },
     "fc33fe6cfdea470c9bd6dacd5d24b94a": {
      "model_module": "@jupyter-widgets/base",
      "model_module_version": "1.2.0",
      "model_name": "LayoutModel",
      "state": {}
     },
     "fd026eec1ded4824a0f0166735b0571d": {
      "model_module": "@jupyter-widgets/controls",
      "model_module_version": "1.5.0",
      "model_name": "DescriptionStyleModel",
      "state": {
       "description_width": ""
      }
     },
     "feceef8d670c43128f5a8e5a810cbcf3": {
      "model_module": "@jupyter-widgets/controls",
      "model_module_version": "1.5.0",
      "model_name": "DescriptionStyleModel",
      "state": {
       "description_width": ""
      }
     }
    },
    "version_major": 2,
    "version_minor": 0
   }
  }
 },
 "nbformat": 4,
 "nbformat_minor": 2
}
