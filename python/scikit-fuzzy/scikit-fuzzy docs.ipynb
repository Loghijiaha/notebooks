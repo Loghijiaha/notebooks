{
 "cells": [
  {
   "cell_type": "code",
   "execution_count": 1,
   "metadata": {},
   "outputs": [],
   "source": [
    "import numpy as np\n",
    "import skfuzzy as fuzz\n",
    "import matplotlib.pyplot as plt"
   ]
  },
  {
   "cell_type": "code",
   "execution_count": 2,
   "metadata": {},
   "outputs": [],
   "source": [
    "# Generate universe variables\n",
    "#   * Quality and service on subjective ranges [0, 10]\n",
    "#   * Tip has a range of [0, 25] in units of percentage points\n",
    "x_qual = np.arange(0, 11, 1)\n",
    "x_serv = np.arange(0, 11, 1)\n",
    "x_tip  = np.arange(0, 26, 1)"
   ]
  },
  {
   "cell_type": "code",
   "execution_count": 3,
   "metadata": {},
   "outputs": [],
   "source": [
    "# Generate fuzzy membership functions\n",
    "qual_lo = fuzz.trimf(x_qual, [0, 0, 5])\n",
    "qual_md = fuzz.trimf(x_qual, [0, 5, 10])\n",
    "qual_hi = fuzz.trimf(x_qual, [5, 10, 10])\n",
    "serv_lo = fuzz.trimf(x_serv, [0, 0, 5])\n",
    "serv_md = fuzz.trimf(x_serv, [0, 5, 10])\n",
    "serv_hi = fuzz.trimf(x_serv, [5, 10, 10])\n",
    "tip_lo = fuzz.trimf(x_tip, [0, 0, 13])\n",
    "tip_md = fuzz.trimf(x_tip, [0, 13, 25])\n",
    "tip_hi = fuzz.trimf(x_tip, [13, 25, 25])"
   ]
  },
  {
   "cell_type": "code",
   "execution_count": 4,
   "metadata": {},
   "outputs": [
    {
     "data": {
      "image/png": "[encoded data removed]",
      "text/plain": [
       "<Figure size 576x648 with 3 Axes>"
      ]
     },
     "metadata": {
      "needs_background": "light"
     },
     "output_type": "display_data"
    }
   ],
   "source": [
    "# Visualize these universes and membership functions\n",
    "fig, (ax0, ax1, ax2) = plt.subplots(nrows=3, figsize=(8, 9))"
   ]
  },
  {
   "cell_type": "code",
   "execution_count": 5,
   "metadata": {},
   "outputs": [
    {
     "data": {
      "text/plain": [
       "<matplotlib.legend.Legend at 0x7f913ab94e80>"
      ]
     },
     "execution_count": 5,
     "metadata": {},
     "output_type": "execute_result"
    }
   ],
   "source": [
    "ax0.plot(x_qual, qual_lo, 'b', linewidth=1.5, label='Bad')\n",
    "ax0.plot(x_qual, qual_md, 'g', linewidth=1.5, label='Decent')\n",
    "ax0.plot(x_qual, qual_hi, 'r', linewidth=1.5, label='Great')\n",
    "ax0.set_title('Food quality')\n",
    "ax0.legend()\n",
    "\n",
    "ax1.plot(x_serv, serv_lo, 'b', linewidth=1.5, label='Poor')\n",
    "ax1.plot(x_serv, serv_md, 'g', linewidth=1.5, label='Acceptable')\n",
    "ax1.plot(x_serv, serv_hi, 'r', linewidth=1.5, label='Amazing')\n",
    "ax1.set_title('Service quality')\n",
    "ax1.legend()\n",
    "\n",
    "ax2.plot(x_tip, tip_lo, 'b', linewidth=1.5, label='Low')\n",
    "ax2.plot(x_tip, tip_md, 'g', linewidth=1.5, label='Medium')\n",
    "ax2.plot(x_tip, tip_hi, 'r', linewidth=1.5, label='High')\n",
    "ax2.set_title('Tip amount')\n",
    "ax2.legend()"
   ]
  },
  {
   "cell_type": "code",
   "execution_count": 6,
   "metadata": {},
   "outputs": [],
   "source": [
    "# Turn off top/right axes\n",
    "for ax in (ax0, ax1, ax2):\n",
    "    ax.spines['top'].set_visible(False)\n",
    "    ax.spines['right'].set_visible(False)\n",
    "    ax.get_xaxis().tick_bottom()\n",
    "    ax.get_yaxis().tick_left()"
   ]
  },
  {
   "cell_type": "code",
   "execution_count": 11,
   "metadata": {},
   "outputs": [
    {
     "data": {
      "text/plain": [
       "<Figure size 432x288 with 0 Axes>"
      ]
     },
     "metadata": {},
     "output_type": "display_data"
    }
   ],
   "source": [
    "fig = plt.tight_layout()"
   ]
  }
 ],
 "metadata": {
  "kernelspec": {
   "display_name": "Python 3",
   "language": "python",
   "name": "python3"
  },
  "language_info": {
   "codemirror_mode": {
    "name": "ipython",
    "version": 3
   },
   "file_extension": ".py",
   "mimetype": "text/x-python",
   "name": "python",
   "nbconvert_exporter": "python",
   "pygments_lexer": "ipython3",
   "version": "3.7.3"
  }
 },
 "nbformat": 4,
 "nbformat_minor": 2
}
