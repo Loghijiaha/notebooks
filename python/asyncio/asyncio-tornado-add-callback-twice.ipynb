{
 "cells": [
  {
   "cell_type": "code",
   "execution_count": 1,
   "metadata": {},
   "outputs": [],
   "source": [
    "import asyncio\n",
    "import tornado.ioloop\n",
    "loop = tornado.ioloop.IOLoop.current(instance=True)"
   ]
  },
  {
   "cell_type": "code",
   "execution_count": 2,
   "metadata": {},
   "outputs": [],
   "source": [
    "async def do_something(name):\n",
    "    print(f\"I am doing something {name}\")\n",
    "    await asyncio.sleep(2)\n",
    "    print(f\"I am done {name}!\")"
   ]
  },
  {
   "cell_type": "code",
   "execution_count": 3,
   "metadata": {},
   "outputs": [
    {
     "name": "stdout",
     "output_type": "stream",
     "text": [
      "I am doing something A\n",
      "I am doing something A\n"
     ]
    }
   ],
   "source": [
    "loop.add_callback(do_something, 'A')\n",
    "loop.add_callback(do_something, 'A')"
   ]
  },
  {
   "cell_type": "code",
   "execution_count": null,
   "metadata": {},
   "outputs": [],
   "source": []
  }
 ],
 "metadata": {
  "kernelspec": {
   "display_name": "kinow-notebooks",
   "language": "python",
   "name": "kinow-notebooks"
  },
  "language_info": {
   "codemirror_mode": {
    "name": "ipython",
    "version": 3
   },
   "file_extension": ".py",
   "mimetype": "text/x-python",
   "name": "python",
   "nbconvert_exporter": "python",
   "pygments_lexer": "ipython3",
   "version": "3.7.3"
  }
 },
 "nbformat": 4,
 "nbformat_minor": 4
}
