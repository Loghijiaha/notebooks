{
 "cells": [
  {
   "cell_type": "code",
   "execution_count": 1,
   "metadata": {},
   "outputs": [],
   "source": [
    "import logging"
   ]
  },
  {
   "cell_type": "code",
   "execution_count": 2,
   "metadata": {},
   "outputs": [],
   "source": [
    "logger = logging.getLogger('example1')"
   ]
  },
  {
   "cell_type": "markdown",
   "metadata": {},
   "source": [
    "Whether you pass or not the `exc_info`, the traceback is logged anyway."
   ]
  },
  {
   "cell_type": "code",
   "execution_count": 3,
   "metadata": {},
   "outputs": [
    {
     "name": "stderr",
     "output_type": "stream",
     "text": [
      "ValueError\n",
      "Traceback (most recent call last):\n",
      "  File \"<ipython-input-3-720529c26ee3>\", line 2, in <module>\n",
      "    raise ValueError('The spaceship is 1.2 marks out of the route!')\n",
      "ValueError: The spaceship is 1.2 marks out of the route!\n"
     ]
    }
   ],
   "source": [
    "try:\n",
    "    raise ValueError('The spaceship is 1.2 marks out of the route!')\n",
    "except ValueError as exc:\n",
    "    logger.exception('ValueError')"
   ]
  },
  {
   "cell_type": "code",
   "execution_count": 4,
   "metadata": {},
   "outputs": [
    {
     "name": "stderr",
     "output_type": "stream",
     "text": [
      "ValueError\n",
      "Traceback (most recent call last):\n",
      "  File \"<ipython-input-4-215150c843d9>\", line 2, in <module>\n",
      "    raise ValueError('The spaceship is 1.2 marks out of the route!')\n",
      "ValueError: The spaceship is 1.2 marks out of the route!\n"
     ]
    }
   ],
   "source": [
    "try:\n",
    "    raise ValueError('The spaceship is 1.2 marks out of the route!')\n",
    "except ValueError as exc:\n",
    "    logger.exception('ValueError', exc_info=exc)"
   ]
  }
 ],
 "metadata": {
  "kernelspec": {
   "display_name": "Python 3",
   "language": "python",
   "name": "python3"
  },
  "language_info": {
   "codemirror_mode": {
    "name": "ipython",
    "version": 3
   },
   "file_extension": ".py",
   "mimetype": "text/x-python",
   "name": "python",
   "nbconvert_exporter": "python",
   "pygments_lexer": "ipython3",
   "version": "3.7.3"
  }
 },
 "nbformat": 4,
 "nbformat_minor": 2
}
