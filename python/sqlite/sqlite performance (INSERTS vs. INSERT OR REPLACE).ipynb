{
 "cells": [
  {
   "cell_type": "markdown",
   "metadata": {},
   "source": [
    "Comparing performance of `INSERT` versus `INSERT OR UPDATE` with a few simple entries, and a database on disk."
   ]
  },
  {
   "cell_type": "code",
   "execution_count": 1,
   "metadata": {},
   "outputs": [],
   "source": [
    "import tempfile\n",
    "import sqlite3\n",
    "import timeit\n",
    "import pstats"
   ]
  },
  {
   "cell_type": "code",
   "execution_count": 2,
   "metadata": {},
   "outputs": [],
   "source": [
    "db_file = tempfile.NamedTemporaryFile()"
   ]
  },
  {
   "cell_type": "code",
   "execution_count": 3,
   "metadata": {},
   "outputs": [
    {
     "name": "stdout",
     "output_type": "stream",
     "text": [
      "/tmp/tmpyd72lgrn\n"
     ]
    }
   ],
   "source": [
    "# from https://www.sqlitetutorial.net/sqlite-python/create-tables/\n",
    "\n",
    "sql_create_projects_table = \"\"\" CREATE TABLE IF NOT EXISTS projects (\n",
    "                                        id integer PRIMARY KEY,\n",
    "                                        name text NOT NULL,\n",
    "                                        begin_date text,\n",
    "                                        end_date text\n",
    "                                    ); \"\"\"\n",
    " \n",
    "sql_create_tasks_table = \"\"\"CREATE TABLE IF NOT EXISTS tasks (\n",
    "                                    id integer PRIMARY KEY,\n",
    "                                    name text NOT NULL,\n",
    "                                    priority integer,\n",
    "                                    status_id integer NOT NULL,\n",
    "                                    project_id integer NOT NULL,\n",
    "                                    begin_date text NOT NULL,\n",
    "                                    end_date text NOT NULL,\n",
    "                                    FOREIGN KEY (project_id) REFERENCES projects (id)\n",
    "                                );\"\"\"\n",
    "print(db_file.name)\n",
    "conn = sqlite3.connect(db_file.name)\n",
    "c = conn.cursor()\n",
    "# c.execute(\"PRAGMA temp_store=memory\")\n",
    "c.execute(sql_create_projects_table)\n",
    "c.execute(sql_create_tasks_table)\n",
    "c.execute(\"INSERT INTO projects VALUES(1, 'project1', '', '')\")\n",
    "c.close()\n",
    "conn.commit()"
   ]
  },
  {
   "cell_type": "code",
   "execution_count": 4,
   "metadata": {},
   "outputs": [],
   "source": [
    "def prepare_tables():\n",
    "    c = conn.cursor()\n",
    "    c.execute(\"DELETE FROM tasks\")\n",
    "    for i in range(1, 2000):\n",
    "        if i % 2 == 0 or i % 3 or i % 5:\n",
    "            c.execute(f\"INSERT INTO tasks VALUES({i}, 'task{i}', {i}, {i}, '', '', 1)\")\n",
    "    c.close()\n",
    "    conn.commit()"
   ]
  },
  {
   "cell_type": "markdown",
   "metadata": {},
   "source": [
    "First scenario, we have already multiples of 2, 3, and 5 inserted. Then we `INSERT OR REPLACE` everything from 1 to 2000."
   ]
  },
  {
   "cell_type": "code",
   "execution_count": 5,
   "metadata": {
    "scrolled": true
   },
   "outputs": [
    {
     "name": "stdout",
     "output_type": "stream",
     "text": [
      "0.03841508200093813\n"
     ]
    }
   ],
   "source": [
    "prepare_tables()\n",
    "start = timeit.default_timer()\n",
    "\n",
    "c = conn.cursor()\n",
    "for i in range(1, 2000):\n",
    "    c.execute(f\"INSERT OR REPLACE INTO tasks VALUES({i}, 'task{i}', {i}, {i}, '', '', 1)\")\n",
    "c.close()\n",
    "conn.commit()\n",
    "\n",
    "end = timeit.default_timer()\n",
    "print(end - start)"
   ]
  },
  {
   "cell_type": "markdown",
   "metadata": {},
   "source": [
    "Second scenario. Same as before, but we skip the values we know are already in the DB, and just `INSERT`. Obviously faster."
   ]
  },
  {
   "cell_type": "code",
   "execution_count": 6,
   "metadata": {},
   "outputs": [
    {
     "name": "stdout",
     "output_type": "stream",
     "text": [
      "0.012500283999543171\n"
     ]
    }
   ],
   "source": [
    "prepare_tables()\n",
    "start = timeit.default_timer()\n",
    "\n",
    "c = conn.cursor()\n",
    "for i in range(1, 2000):\n",
    "    if i % 2 == 0 or i % 3 or i % 5:\n",
    "        continue\n",
    "    c.execute(f\"INSERT INTO tasks VALUES({i}, 'task{i}', {i}, {i}, '', '', 1)\")\n",
    "c.close()\n",
    "conn.commit()\n",
    "\n",
    "end = timeit.default_timer()\n",
    "print(end - start)"
   ]
  },
  {
   "cell_type": "markdown",
   "metadata": {},
   "source": [
    "Final scenario, just to confirm how long it takes to insert all tasks."
   ]
  },
  {
   "cell_type": "code",
   "execution_count": 7,
   "metadata": {},
   "outputs": [
    {
     "name": "stdout",
     "output_type": "stream",
     "text": [
      "0.03337685400038026\n"
     ]
    }
   ],
   "source": [
    "c = conn.cursor()\n",
    "c.execute(\"DELETE FROM tasks\")\n",
    "c.close()\n",
    "conn.commit()\n",
    "start = timeit.default_timer()\n",
    "\n",
    "c = conn.cursor()\n",
    "for i in range(1, 2000):\n",
    "    c.execute(f\"INSERT INTO tasks VALUES({i}, 'task{i}', {i}, {i}, '', '', 1)\")\n",
    "c.close()\n",
    "conn.commit()\n",
    "\n",
    "end = timeit.default_timer()\n",
    "print(end - start)"
   ]
  },
  {
   "cell_type": "code",
   "execution_count": 8,
   "metadata": {},
   "outputs": [],
   "source": [
    "conn.close()\n",
    "db_file.close()"
   ]
  },
  {
   "cell_type": "markdown",
   "metadata": {},
   "source": [
    "It took 1/3 of the time of `INSERT OR UPDATE`, when doing a simple `INSERT` and skipping the items we knew existed.\n",
    "\n",
    "The number of existing entries affects how much improvement we have. But clearly `INSERT` performs better than `INSERT OR UPDATE`. If there is no hard-requirement on using `INSERT OR UPDATE`, replacing it by `INSERT` will improve the performance.\n",
    "\n",
    "Also tried `PRAGMA temp_store=memory` after [this thread](http://sqlite.1065341.n5.nabble.com/performance-regression-when-using-quot-insert-or-replace-quot-td66659.html), but it had no effect.\n",
    "\n",
    "Measured - or tried - disk I/O with `psutil` but it didn't give me the informantion I was looking for. I expected to find more I/O operations as SQLite would have to check whether the information existed or not. But I assume it is done in a way that does not affect the I/O metrics returned by `psutil` for the current process."
   ]
  }
 ],
 "metadata": {
  "kernelspec": {
   "display_name": "kinow-notebooks",
   "language": "python",
   "name": "kinow-notebooks"
  },
  "language_info": {
   "codemirror_mode": {
    "name": "ipython",
    "version": 3
   },
   "file_extension": ".py",
   "mimetype": "text/x-python",
   "name": "python",
   "nbconvert_exporter": "python",
   "pygments_lexer": "ipython3",
   "version": "3.7.3"
  }
 },
 "nbformat": 4,
 "nbformat_minor": 2
}
