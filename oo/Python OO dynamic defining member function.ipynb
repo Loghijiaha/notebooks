{
 "cells": [
  {
   "cell_type": "markdown",
   "metadata": {},
   "source": [
    "You can define a function outside a class, using the `self` parameter, and then just dynamically set that in the class. It works..."
   ]
  },
  {
   "cell_type": "code",
   "execution_count": 1,
   "metadata": {},
   "outputs": [
    {
     "name": "stdout",
     "output_type": "stream",
     "text": [
      "Cheese\n"
     ]
    },
    {
     "ename": "TypeError",
     "evalue": "quack_2() takes exactly 2 arguments (1 given)",
     "output_type": "error",
     "traceback": [
      "\u001b[0;31m---------------------------------------------------------------------------\u001b[0m",
      "\u001b[0;31mTypeError\u001b[0m                                 Traceback (most recent call last)",
      "\u001b[0;32m<ipython-input-1-eb22688a9dbf>\u001b[0m in \u001b[0;36m<module>\u001b[0;34m()\u001b[0m\n\u001b[1;32m      8\u001b[0m \u001b[0;34m\u001b[0m\u001b[0m\n\u001b[1;32m      9\u001b[0m \u001b[0mquack_1\u001b[0m\u001b[0;34m(\u001b[0m\u001b[0;34m\"Cheese\"\u001b[0m\u001b[0;34m)\u001b[0m\u001b[0;34m\u001b[0m\u001b[0;34m\u001b[0m\u001b[0m\n\u001b[0;32m---> 10\u001b[0;31m \u001b[0mquack_2\u001b[0m\u001b[0;34m(\u001b[0m\u001b[0;34m\"Mango\"\u001b[0m\u001b[0;34m)\u001b[0m  \u001b[0;31m# error here\u001b[0m\u001b[0;34m\u001b[0m\u001b[0;34m\u001b[0m\u001b[0m\n\u001b[0m",
      "\u001b[0;31mTypeError\u001b[0m: quack_2() takes exactly 2 arguments (1 given)"
     ]
    }
   ],
   "source": [
    "def quack_1(message):\n",
    "    \"\"\"A normal Python function. Works with no issues.\"\"\"\n",
    "    print(message)\n",
    "\n",
    "def quack_2(self, message):\n",
    "    \"\"\"This receives two parameters, and will fail when called below\"\"\"\n",
    "    print(message)\n",
    "\n",
    "quack_1(\"Cheese\")\n",
    "quack_2(\"Mango\")  # error here"
   ]
  },
  {
   "cell_type": "code",
   "execution_count": 2,
   "metadata": {},
   "outputs": [
    {
     "name": "stdout",
     "output_type": "stream",
     "text": [
      "Mango\n"
     ]
    }
   ],
   "source": [
    "class Duck(object):\n",
    "    \n",
    "    quack = quack_2  # but now the quack_2 will work, as the self will be the normal class-method self argument\n",
    "\n",
    "donald = Duck()\n",
    "donald.quack(\"Mango\")  # no problem"
   ]
  },
  {
   "cell_type": "code",
   "execution_count": 3,
   "metadata": {},
   "outputs": [
    {
     "name": "stdout",
     "output_type": "stream",
     "text": [
      "def quack_2(self, message):\n",
      "    \"\"\"This receives two parameters, and will fail when called below\"\"\"\n",
      "    print(message)\n",
      "\n"
     ]
    }
   ],
   "source": [
    "import inspect\n",
    "print(inspect.getsource(donald.quack))"
   ]
  }
 ],
 "metadata": {
  "kernelspec": {
   "display_name": "Python 3",
   "language": "python",
   "name": "python3"
  },
  "language_info": {
   "codemirror_mode": {
    "name": "ipython",
    "version": 2
   },
   "file_extension": ".py",
   "mimetype": "text/x-python",
   "name": "python",
   "nbconvert_exporter": "python",
   "pygments_lexer": "ipython2",
   "version": "2.7.15+"
  }
 },
 "nbformat": 4,
 "nbformat_minor": 2
}
