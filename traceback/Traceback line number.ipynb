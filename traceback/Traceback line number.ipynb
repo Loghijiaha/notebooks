{
 "cells": [
  {
   "cell_type": "markdown",
   "metadata": {},
   "source": [
    "An issue in JIRA: https://github.com/pallets/jinja/issues/276\n",
    "\n",
    "Python used to show the first line number in the traceback, but recent change made it show the last line. However, if you wrap a call in `str()` or `repr()`, then it displays the correct line - i.e. it only happens with string concatenation.\n",
    "\n",
    "The issue is more complicated in Jinja as we cannot actually invoke any of the class methods, like `__str__()` or `__repr__()`, as that would raise the exception. Jinja compiler has some special cases, where the exception is expected to exist, without being raised (pending investigation)."
   ]
  },
  {
   "cell_type": "code",
   "execution_count": 2,
   "metadata": {},
   "outputs": [],
   "source": [
    "class Z(object):\n",
    "    def raise_error(self, *args, **kwargs):\n",
    "        raise ValueError('Z error')\n",
    "        \n",
    "    __add__ = __radd__ = __mul__ = __rmul__ = __div__ = __rdiv__ = \\\n",
    "        __truediv__ = __rtruediv__ = __floordiv__ = __rfloordiv__ = \\\n",
    "        __mod__ = __rmod__ = __pos__ = __neg__ = __call__ = \\\n",
    "        __getitem__ = __lt__ = __le__ = __gt__ = __ge__ = __int__ = \\\n",
    "        __float__ = __complex__ = __pow__ = __rpow__ = __sub__ = \\\n",
    "        __rsub__ = raise_error\n",
    "\n",
    "    __iter__ = __str__ = __len__ = __nonzero__ = __eq__ = \\\n",
    "        __ne__ = __bool__ = __hash__ = raise_error\n",
    "    \n",
    "\n",
    "def raise_generator():\n",
    "    yield 'three values are: %s %s %s' %(\n",
    "        'primeiro',\n",
    "        Z(),  # traceback must point to this lineno\n",
    "        'terceiro'  # but points to this lineno (__str__ only, __eq__ is OK)\n",
    "    )"
   ]
  },
  {
   "cell_type": "code",
   "execution_count": 3,
   "metadata": {},
   "outputs": [
    {
     "ename": "ValueError",
     "evalue": "Z error",
     "output_type": "error",
     "traceback": [
      "\u001b[0;31m---------------------------------------------------------------------------\u001b[0m",
      "\u001b[0;31mValueError\u001b[0m                                Traceback (most recent call last)",
      "\u001b[0;32m<ipython-input-3-7df9b58cef07>\u001b[0m in \u001b[0;36m<module>\u001b[0;34m()\u001b[0m\n\u001b[0;32m----> 1\u001b[0;31m \u001b[0;32mprint\u001b[0m\u001b[0;34m(\u001b[0m\u001b[0mlist\u001b[0m\u001b[0;34m(\u001b[0m\u001b[0mraise_generator\u001b[0m\u001b[0;34m(\u001b[0m\u001b[0;34m)\u001b[0m\u001b[0;34m)\u001b[0m\u001b[0;34m)\u001b[0m\u001b[0;34m\u001b[0m\u001b[0;34m\u001b[0m\u001b[0m\n\u001b[0m",
      "\u001b[0;32m<ipython-input-2-eb1e7a0ab3d1>\u001b[0m in \u001b[0;36mraise_generator\u001b[0;34m()\u001b[0m\n\u001b[1;32m     12\u001b[0m         \u001b[0;34m'primeiro'\u001b[0m\u001b[0;34m,\u001b[0m\u001b[0;34m\u001b[0m\u001b[0;34m\u001b[0m\u001b[0m\n\u001b[1;32m     13\u001b[0m         \u001b[0mZ\u001b[0m\u001b[0;34m(\u001b[0m\u001b[0;34m)\u001b[0m\u001b[0;34m,\u001b[0m  \u001b[0;31m# traceback must point to this lineno\u001b[0m\u001b[0;34m\u001b[0m\u001b[0;34m\u001b[0m\u001b[0m\n\u001b[0;32m---> 14\u001b[0;31m         \u001b[0;34m'terceiro'\u001b[0m  \u001b[0;31m# but points to this lineno (__str__ only, __eq__ is OK)\u001b[0m\u001b[0;34m\u001b[0m\u001b[0;34m\u001b[0m\u001b[0m\n\u001b[0m\u001b[1;32m     15\u001b[0m     )\n",
      "\u001b[0;32m<ipython-input-2-eb1e7a0ab3d1>\u001b[0m in \u001b[0;36mraise_error\u001b[0;34m(self, *args, **kwargs)\u001b[0m\n\u001b[1;32m      1\u001b[0m \u001b[0;32mclass\u001b[0m \u001b[0mZ\u001b[0m\u001b[0;34m(\u001b[0m\u001b[0mobject\u001b[0m\u001b[0;34m)\u001b[0m\u001b[0;34m:\u001b[0m\u001b[0;34m\u001b[0m\u001b[0;34m\u001b[0m\u001b[0m\n\u001b[1;32m      2\u001b[0m     \u001b[0;32mdef\u001b[0m \u001b[0mraise_error\u001b[0m\u001b[0;34m(\u001b[0m\u001b[0mself\u001b[0m\u001b[0;34m,\u001b[0m \u001b[0;34m*\u001b[0m\u001b[0margs\u001b[0m\u001b[0;34m,\u001b[0m \u001b[0;34m**\u001b[0m\u001b[0mkwargs\u001b[0m\u001b[0;34m)\u001b[0m\u001b[0;34m:\u001b[0m\u001b[0;34m\u001b[0m\u001b[0;34m\u001b[0m\u001b[0m\n\u001b[0;32m----> 3\u001b[0;31m         \u001b[0;32mraise\u001b[0m \u001b[0mValueError\u001b[0m\u001b[0;34m(\u001b[0m\u001b[0;34m'Z error'\u001b[0m\u001b[0;34m)\u001b[0m\u001b[0;34m\u001b[0m\u001b[0;34m\u001b[0m\u001b[0m\n\u001b[0m\u001b[1;32m      4\u001b[0m \u001b[0;34m\u001b[0m\u001b[0m\n\u001b[1;32m      5\u001b[0m     \u001b[0m__add__\u001b[0m \u001b[0;34m=\u001b[0m \u001b[0m__radd__\u001b[0m \u001b[0;34m=\u001b[0m \u001b[0m__mul__\u001b[0m \u001b[0;34m=\u001b[0m \u001b[0m__rmul__\u001b[0m \u001b[0;34m=\u001b[0m \u001b[0m__div__\u001b[0m \u001b[0;34m=\u001b[0m \u001b[0m__rdiv__\u001b[0m \u001b[0;34m=\u001b[0m         \u001b[0m__truediv__\u001b[0m \u001b[0;34m=\u001b[0m \u001b[0m__rtruediv__\u001b[0m \u001b[0;34m=\u001b[0m \u001b[0m__floordiv__\u001b[0m \u001b[0;34m=\u001b[0m \u001b[0m__rfloordiv__\u001b[0m \u001b[0;34m=\u001b[0m         \u001b[0m__mod__\u001b[0m \u001b[0;34m=\u001b[0m \u001b[0m__rmod__\u001b[0m \u001b[0;34m=\u001b[0m \u001b[0m__pos__\u001b[0m \u001b[0;34m=\u001b[0m \u001b[0m__neg__\u001b[0m \u001b[0;34m=\u001b[0m \u001b[0m__call__\u001b[0m \u001b[0;34m=\u001b[0m         \u001b[0m__getitem__\u001b[0m \u001b[0;34m=\u001b[0m \u001b[0m__lt__\u001b[0m \u001b[0;34m=\u001b[0m \u001b[0m__le__\u001b[0m \u001b[0;34m=\u001b[0m \u001b[0m__gt__\u001b[0m \u001b[0;34m=\u001b[0m \u001b[0m__ge__\u001b[0m \u001b[0;34m=\u001b[0m \u001b[0m__int__\u001b[0m \u001b[0;34m=\u001b[0m         \u001b[0m__float__\u001b[0m \u001b[0;34m=\u001b[0m \u001b[0m__complex__\u001b[0m \u001b[0;34m=\u001b[0m \u001b[0m__pow__\u001b[0m \u001b[0;34m=\u001b[0m \u001b[0m__rpow__\u001b[0m \u001b[0;34m=\u001b[0m \u001b[0m__sub__\u001b[0m \u001b[0;34m=\u001b[0m         \u001b[0m__rsub__\u001b[0m \u001b[0;34m=\u001b[0m \u001b[0mraise_error\u001b[0m\u001b[0;34m\u001b[0m\u001b[0;34m\u001b[0m\u001b[0m\n",
      "\u001b[0;31mValueError\u001b[0m: Z error"
     ]
    }
   ],
   "source": [
    "print(list(raise_generator()))"
   ]
  },
  {
   "cell_type": "code",
   "execution_count": null,
   "metadata": {},
   "outputs": [],
   "source": []
  }
 ],
 "metadata": {
  "kernelspec": {
   "display_name": "Python 3",
   "language": "python",
   "name": "python3"
  },
  "language_info": {
   "codemirror_mode": {
    "name": "ipython",
    "version": 2
   },
   "file_extension": ".py",
   "mimetype": "text/x-python",
   "name": "python",
   "nbconvert_exporter": "python",
   "pygments_lexer": "ipython2",
   "version": "2.7.15+"
  }
 },
 "nbformat": 4,
 "nbformat_minor": 2
}
