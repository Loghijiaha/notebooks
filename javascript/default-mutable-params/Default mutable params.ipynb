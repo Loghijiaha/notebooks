{
 "cells": [
  {
   "cell_type": "markdown",
   "metadata": {},
   "source": [
    "Default parameters are available in Python and JS. In Python, there is a risk of running into bugs due to some types [being mutable](https://florimond.dev/blog/articles/2018/08/python-mutable-defaults-are-the-source-of-all-evil/).\n",
    "\n",
    "That's not an issue with JS."
   ]
  },
  {
   "cell_type": "code",
   "execution_count": 1,
   "metadata": {},
   "outputs": [],
   "source": [
    "/**\n",
    " * A silly function that uses a parameter with default value being a list.\n",
    " */\n",
    "var sillyFunction = function (arr = []) {\n",
    "    console.log(arr)\n",
    "    arr.push(arr.length + 1)\n",
    "    return arr.length\n",
    "}"
   ]
  },
  {
   "cell_type": "code",
   "execution_count": 2,
   "metadata": {},
   "outputs": [
    {
     "name": "stdout",
     "output_type": "stream",
     "text": [
      "[]\n",
      "1\n",
      "[]\n",
      "1\n",
      "[]\n",
      "1\n"
     ]
    }
   ],
   "source": [
    "console.log(sillyFunction())\n",
    "console.log(sillyFunction())\n",
    "console.log(sillyFunction())"
   ]
  },
  {
   "cell_type": "code",
   "execution_count": 3,
   "metadata": {},
   "outputs": [
    {
     "name": "stdout",
     "output_type": "stream",
     "text": [
      "[]\n",
      "1\n",
      "[ 1 ]\n",
      "2\n",
      "[ 1, 2 ]\n",
      "3\n"
     ]
    }
   ],
   "source": [
    "var arr = []\n",
    "console.log(sillyFunction(arr))\n",
    "console.log(sillyFunction(arr))\n",
    "console.log(sillyFunction(arr))"
   ]
  }
 ],
 "metadata": {
  "kernelspec": {
   "display_name": "Javascript (Node.js)",
   "language": "javascript",
   "name": "javascript"
  },
  "language_info": {
   "file_extension": ".js",
   "mimetype": "application/javascript",
   "name": "javascript",
   "version": "12.1.0"
  }
 },
 "nbformat": 4,
 "nbformat_minor": 2
}
