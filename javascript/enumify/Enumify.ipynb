{
 "cells": [
  {
   "cell_type": "markdown",
   "metadata": {},
   "source": [
    "## Enumify and the order of Enums"
   ]
  },
  {
   "cell_type": "markdown",
   "metadata": {},
   "source": [
    "Enums in `enumify` have ordinals [automatically assigned](https://github.com/rauschma/enumify/blob/44f32472418b6d00943e3e895e4c29b88a9a0f92/src/enumify.js#L67) during creation. But they are not used for iterating.\n",
    "\n",
    "Internally `enumify` stores the enum values in [an `Array`](https://github.com/rauschma/enumify/blob/44f32472418b6d00943e3e895e4c29b88a9a0f92/src/enumify.js#L37).\n",
    "\n",
    "Then, iterating the enum values is the same [as iterating the `Array`](https://github.com/rauschma/enumify/blob/44f32472418b6d00943e3e895e4c29b88a9a0f92/src/enumify.js#L87)."
   ]
  },
  {
   "cell_type": "code",
   "execution_count": 1,
   "metadata": {},
   "outputs": [],
   "source": [
    "const enumify = require('enumify');"
   ]
  },
  {
   "cell_type": "code",
   "execution_count": 2,
   "metadata": {},
   "outputs": [
    {
     "data": {
      "text/plain": [
       "[Function: City] {\n",
       "  enumValues: [\n",
       "    City { name: 'Kungu', ordinal: 0 },\n",
       "    City { name: 'Itupeva', ordinal: 1 },\n",
       "    City { name: 'Christchurch', ordinal: 2 },\n",
       "    City { name: 'Tamana-shi', ordinal: 3 }\n",
       "  ],\n",
       "  Kungu: City { name: 'Kungu', ordinal: 0 },\n",
       "  Itupeva: City { name: 'Itupeva', ordinal: 1 },\n",
       "  Christchurch: City { name: 'Christchurch', ordinal: 2 },\n",
       "  'Tamana-shi': City { name: 'Tamana-shi', ordinal: 3 },\n",
       "  [Symbol()]: true\n",
       "}"
      ]
     },
     "execution_count": 2,
     "metadata": {},
     "output_type": "execute_result"
    }
   ],
   "source": [
    "class City extends enumify.Enum {};\n",
    "City.initEnum([\n",
    "    'Kungu',\n",
    "    'Itupeva',\n",
    "    'Christchurch',\n",
    "    'Tamana-shi'\n",
    "]);"
   ]
  },
  {
   "cell_type": "code",
   "execution_count": 3,
   "metadata": {},
   "outputs": [
    {
     "name": "stdout",
     "output_type": "stream",
     "text": [
      "City { name: 'Kungu', ordinal: 0 }\n",
      "City { name: 'Itupeva', ordinal: 1 }\n",
      "City { name: 'Christchurch', ordinal: 2 }\n",
      "City { name: 'Tamana-shi', ordinal: 3 }\n"
     ]
    }
   ],
   "source": [
    "for (const city of City.enumValues) {\n",
    "    console.log(city);\n",
    "}"
   ]
  },
  {
   "cell_type": "markdown",
   "metadata": {},
   "source": [
    "The ordinals are in the same order as the output, but it is mere coincidence. What matters is the order of the elements in the list.\n",
    "\n",
    "The `Array` is actually a special property defined in the enum object, and specified as read-only. So the order of items in the `enumify` enums is always set during the `initEnum` method, based on the values entered by the user."
   ]
  },
  {
   "cell_type": "code",
   "execution_count": 4,
   "metadata": {},
   "outputs": [
    {
     "ename": "TypeError",
     "evalue": "Cannot assign to read only property '1' of object '[object Array]'",
     "output_type": "error",
     "traceback": [
      "evalmachine.<anonymous>:1",
      "City.enumValues[0] = City.enumValues.splice(1, 1, City.enumValues[0])[0];",
      "                                     ^",
      "",
      "TypeError: Cannot assign to read only property '1' of object '[object Array]'",
      "    at Array.splice (<anonymous>)",
      "    at evalmachine.<anonymous>:1:38",
      "    at Script.runInThisContext (vm.js:123:20)",
      "    at Object.runInThisContext (vm.js:313:38)",
      "    at run ([eval]:1054:15)",
      "    at onRunRequest ([eval]:888:18)",
      "    at onMessage ([eval]:848:13)",
      "    at process.emit (events.js:196:13)",
      "    at emit (internal/child_process.js:849:12)",
      "    at processTicksAndRejections (internal/process/task_queues.js:84:17)"
     ]
    }
   ],
   "source": [
    "City.enumValues[0] = City.enumValues.splice(1, 1, City.enumValues[0])[0];"
   ]
  }
 ],
 "metadata": {
  "kernelspec": {
   "display_name": "Javascript (Node.js)",
   "language": "javascript",
   "name": "javascript"
  },
  "language_info": {
   "file_extension": ".js",
   "mimetype": "application/javascript",
   "name": "javascript",
   "version": "12.1.0"
  }
 },
 "nbformat": 4,
 "nbformat_minor": 2
}
