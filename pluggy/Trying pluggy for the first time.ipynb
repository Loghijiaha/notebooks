{
 "cells": [
  {
   "cell_type": "code",
   "execution_count": 3,
   "metadata": {},
   "outputs": [],
   "source": [
    "import pluggy"
   ]
  },
  {
   "cell_type": "code",
   "execution_count": 4,
   "metadata": {},
   "outputs": [],
   "source": [
    "hookspec = pluggy.HookspecMarker(\"myproject\")\n",
    "hookimpl = pluggy.HookimplMarker(\"myproject\")"
   ]
  },
  {
   "cell_type": "code",
   "execution_count": 5,
   "metadata": {},
   "outputs": [],
   "source": [
    "class MySpec(object):\n",
    "    \"\"\"A hook specification namespace.\n",
    "    \"\"\"\n",
    "\n",
    "    @hookspec\n",
    "    def myhook(self, arg1, arg2):\n",
    "        \"\"\"My special little hook that you can customize.\n",
    "        \"\"\""
   ]
  },
  {
   "cell_type": "code",
   "execution_count": 6,
   "metadata": {},
   "outputs": [],
   "source": [
    "class Plugin_1(object):\n",
    "    \"\"\"A hook implementation namespace.\n",
    "    \"\"\"\n",
    "\n",
    "    @hookimpl\n",
    "    def myhook(self, arg1, arg2):\n",
    "        print(\"inside Plugin_1.myhook()\")\n",
    "        return arg1 + arg2\n",
    "\n",
    "\n",
    "class Plugin_2(object):\n",
    "    \"\"\"A 2nd hook implementation namespace.\n",
    "    \"\"\"\n",
    "\n",
    "    @hookimpl\n",
    "    def myhook(self, arg1, arg2):\n",
    "        print(\"inside Plugin_2.myhook()\")\n",
    "        return arg1 - arg2"
   ]
  },
  {
   "cell_type": "code",
   "execution_count": 7,
   "metadata": {},
   "outputs": [
    {
     "name": "stdout",
     "output_type": "stream",
     "text": [
      "inside Plugin_2.myhook()\n",
      "inside Plugin_1.myhook()\n",
      "[-1, 3]\n"
     ]
    }
   ],
   "source": [
    "# create a manager and add the spec\n",
    "pm = pluggy.PluginManager(\"myproject\")\n",
    "pm.add_hookspecs(MySpec)\n",
    "\n",
    "# register plugins\n",
    "pm.register(Plugin_1())\n",
    "pm.register(Plugin_2())\n",
    "\n",
    "# call our ``myhook`` hook\n",
    "results = pm.hook.myhook(arg1=1, arg2=2)\n",
    "print(results)"
   ]
  }
 ],
 "metadata": {
  "kernelspec": {
   "display_name": "kinow-notebooks",
   "language": "python",
   "name": "kinow-notebooks"
  },
  "language_info": {
   "codemirror_mode": {
    "name": "ipython",
    "version": 3
   },
   "file_extension": ".py",
   "mimetype": "text/x-python",
   "name": "python",
   "nbconvert_exporter": "python",
   "pygments_lexer": "ipython3",
   "version": "3.8.0b3"
  }
 },
 "nbformat": 4,
 "nbformat_minor": 2
}
